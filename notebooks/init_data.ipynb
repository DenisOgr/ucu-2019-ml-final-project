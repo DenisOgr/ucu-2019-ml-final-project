{
  "nbformat": 4,
  "nbformat_minor": 0,
  "metadata": {
    "colab": {
      "name": "init_data.ipynb",
      "version": "0.3.2",
      "provenance": [],
      "toc_visible": true,
      "include_colab_link": true
    },
    "language_info": {
      "codemirror_mode": {
        "name": "ipython",
        "version": 3
      },
      "file_extension": ".py",
      "mimetype": "text/x-python",
      "name": "python",
      "nbconvert_exporter": "python",
      "pygments_lexer": "ipython3",
      "version": "3.6.7"
    },
    "kernelspec": {
      "display_name": "ucu-2019-ml-final-project",
      "language": "python",
      "name": "myenv"
    }
  },
  "cells": [
    {
      "cell_type": "markdown",
      "metadata": {
        "id": "view-in-github",
        "colab_type": "text"
      },
      "source": [
        "<a href=\"https://colab.research.google.com/github/DenisOgr/ucu-2019-ml-final-project/blob/init/notebooks/init_data.ipynb\" target=\"_parent\"><img src=\"https://colab.research.google.com/assets/colab-badge.svg\" alt=\"Open In Colab\"/></a>"
      ]
    },
    {
      "metadata": {
        "id": "ADjTdar4UZg-",
        "colab_type": "text"
      },
      "cell_type": "markdown",
      "source": [
        "# Import datasets"
      ]
    },
    {
      "metadata": {
        "id": "smUm5dVcUZhB",
        "colab_type": "code",
        "colab": {}
      },
      "cell_type": "code",
      "source": [
        "import numpy\n",
        "import os\n",
        "import pandas as pd\n",
        "from sklearn.model_selection import train_test_split\n",
        "import pickle"
      ],
      "execution_count": 0,
      "outputs": []
    },
    {
      "metadata": {
        "id": "n-WJA0_-UZhE",
        "colab_type": "code",
        "colab": {}
      },
      "cell_type": "code",
      "source": [
        "path_to_storage = os.path.abspath(os.path.join(os.getcwd(), '../storage'))"
      ],
      "execution_count": 0,
      "outputs": []
    },
    {
      "metadata": {
        "id": "EzwbUIKuUZhG",
        "colab_type": "code",
        "colab": {
          "base_uri": "https://localhost:8080/",
          "height": 122
        },
        "outputId": "4ebe78b6-dc81-4fcf-f2ef-cd8d02ca31f1"
      },
      "cell_type": "code",
      "source": [
        "### For Google colab\n",
        "### Mount gdrive and set path to folder\n",
        "from google.colab import drive\n",
        "drive.mount('/content/gdrive')\n",
        "path_to_storage = '/content/gdrive/My Drive/UCU-2019-final-project-storage'"
      ],
      "execution_count": 3,
      "outputs": [
        {
          "output_type": "stream",
          "text": [
            "Go to this URL in a browser: https://accounts.google.com/o/oauth2/auth?client_id=947318989803-6bn6qk8qdgf4n4g3pfee6491hc0brc4i.apps.googleusercontent.com&redirect_uri=urn%3Aietf%3Awg%3Aoauth%3A2.0%3Aoob&scope=email%20https%3A%2F%2Fwww.googleapis.com%2Fauth%2Fdocs.test%20https%3A%2F%2Fwww.googleapis.com%2Fauth%2Fdrive%20https%3A%2F%2Fwww.googleapis.com%2Fauth%2Fdrive.photos.readonly%20https%3A%2F%2Fwww.googleapis.com%2Fauth%2Fpeopleapi.readonly&response_type=code\n",
            "\n",
            "Enter your authorization code:\n",
            "··········\n",
            "Mounted at /content/gdrive\n"
          ],
          "name": "stdout"
        }
      ]
    },
    {
      "metadata": {
        "id": "6Nkfbr58UZhJ",
        "colab_type": "code",
        "colab": {}
      },
      "cell_type": "code",
      "source": [
        "data_folder = path_to_storage+'/data/'\n",
        "serialization_objects_folder = path_to_storage+'/serialization_objects/'"
      ],
      "execution_count": 0,
      "outputs": []
    },
    {
      "metadata": {
        "id": "dRC8FPYYUZhL",
        "colab_type": "code",
        "colab": {}
      },
      "cell_type": "code",
      "source": [
        "dtypes = {\n",
        "    'id': 'int64',\n",
        "    'qid1': 'int64',\n",
        "    'qid2': 'int64',\n",
        "    'question1': 'object',\n",
        "    'question2': 'object',\n",
        "    'is_duplicate': 'int64'\n",
        "}\n",
        "df = pd.read_csv(data_folder+'train.csv',\n",
        "                 header=0, \n",
        "                 usecols=dtypes.keys(), \n",
        "                 skipinitialspace=True,\n",
        "                 skip_blank_lines=True,\n",
        "                 encoding='utf-8')\n",
        "df = df.set_index('id')\n",
        "df = df.dropna()"
      ],
      "execution_count": 0,
      "outputs": []
    },
    {
      "metadata": {
        "id": "BQ422n5eUZhN",
        "colab_type": "code",
        "colab": {
          "base_uri": "https://localhost:8080/",
          "height": 235
        },
        "outputId": "d090e251-42b5-4114-def4-0f387d724094"
      },
      "cell_type": "code",
      "source": [
        "df.head()"
      ],
      "execution_count": 11,
      "outputs": [
        {
          "output_type": "execute_result",
          "data": {
            "text/html": [
              "<div>\n",
              "<style scoped>\n",
              "    .dataframe tbody tr th:only-of-type {\n",
              "        vertical-align: middle;\n",
              "    }\n",
              "\n",
              "    .dataframe tbody tr th {\n",
              "        vertical-align: top;\n",
              "    }\n",
              "\n",
              "    .dataframe thead th {\n",
              "        text-align: right;\n",
              "    }\n",
              "</style>\n",
              "<table border=\"1\" class=\"dataframe\">\n",
              "  <thead>\n",
              "    <tr style=\"text-align: right;\">\n",
              "      <th></th>\n",
              "      <th>qid1</th>\n",
              "      <th>qid2</th>\n",
              "      <th>question1</th>\n",
              "      <th>question2</th>\n",
              "      <th>is_duplicate</th>\n",
              "    </tr>\n",
              "    <tr>\n",
              "      <th>id</th>\n",
              "      <th></th>\n",
              "      <th></th>\n",
              "      <th></th>\n",
              "      <th></th>\n",
              "      <th></th>\n",
              "    </tr>\n",
              "  </thead>\n",
              "  <tbody>\n",
              "    <tr>\n",
              "      <th>0</th>\n",
              "      <td>1</td>\n",
              "      <td>2</td>\n",
              "      <td>What is the step by step guide to invest in sh...</td>\n",
              "      <td>What is the step by step guide to invest in sh...</td>\n",
              "      <td>0</td>\n",
              "    </tr>\n",
              "    <tr>\n",
              "      <th>1</th>\n",
              "      <td>3</td>\n",
              "      <td>4</td>\n",
              "      <td>What is the story of Kohinoor (Koh-i-Noor) Dia...</td>\n",
              "      <td>What would happen if the Indian government sto...</td>\n",
              "      <td>0</td>\n",
              "    </tr>\n",
              "    <tr>\n",
              "      <th>2</th>\n",
              "      <td>5</td>\n",
              "      <td>6</td>\n",
              "      <td>How can I increase the speed of my internet co...</td>\n",
              "      <td>How can Internet speed be increased by hacking...</td>\n",
              "      <td>0</td>\n",
              "    </tr>\n",
              "    <tr>\n",
              "      <th>3</th>\n",
              "      <td>7</td>\n",
              "      <td>8</td>\n",
              "      <td>Why am I mentally very lonely? How can I solve...</td>\n",
              "      <td>Find the remainder when [math]23^{24}[/math] i...</td>\n",
              "      <td>0</td>\n",
              "    </tr>\n",
              "    <tr>\n",
              "      <th>4</th>\n",
              "      <td>9</td>\n",
              "      <td>10</td>\n",
              "      <td>Which one dissolve in water quikly sugar, salt...</td>\n",
              "      <td>Which fish would survive in salt water?</td>\n",
              "      <td>0</td>\n",
              "    </tr>\n",
              "  </tbody>\n",
              "</table>\n",
              "</div>"
            ],
            "text/plain": [
              "    qid1  qid2                                          question1  \\\n",
              "id                                                                  \n",
              "0      1     2  What is the step by step guide to invest in sh...   \n",
              "1      3     4  What is the story of Kohinoor (Koh-i-Noor) Dia...   \n",
              "2      5     6  How can I increase the speed of my internet co...   \n",
              "3      7     8  Why am I mentally very lonely? How can I solve...   \n",
              "4      9    10  Which one dissolve in water quikly sugar, salt...   \n",
              "\n",
              "                                            question2  is_duplicate  \n",
              "id                                                                   \n",
              "0   What is the step by step guide to invest in sh...             0  \n",
              "1   What would happen if the Indian government sto...             0  \n",
              "2   How can Internet speed be increased by hacking...             0  \n",
              "3   Find the remainder when [math]23^{24}[/math] i...             0  \n",
              "4             Which fish would survive in salt water?             0  "
            ]
          },
          "metadata": {
            "tags": []
          },
          "execution_count": 11
        }
      ]
    },
    {
      "metadata": {
        "id": "TE9-VHKbUZhR",
        "colab_type": "code",
        "colab": {
          "base_uri": "https://localhost:8080/",
          "height": 170
        },
        "outputId": "80cdf70c-30b2-4131-eb0a-45e2dfb32689"
      },
      "cell_type": "code",
      "source": [
        "X = df.drop(columns=['is_duplicate'])\n",
        "\n",
        "y = df['is_duplicate']\n",
        "X_train, X_test, y_train, y_test =  train_test_split(X, y, test_size=0.33, random_state=50)\n",
        "X_train.info()"
      ],
      "execution_count": 12,
      "outputs": [
        {
          "output_type": "stream",
          "text": [
            "<class 'pandas.core.frame.DataFrame'>\n",
            "Int64Index: 270872 entries, 243973 to 103904\n",
            "Data columns (total 4 columns):\n",
            "qid1         270872 non-null int64\n",
            "qid2         270872 non-null int64\n",
            "question1    270872 non-null object\n",
            "question2    270872 non-null object\n",
            "dtypes: int64(2), object(2)\n",
            "memory usage: 10.3+ MB\n"
          ],
          "name": "stdout"
        }
      ]
    },
    {
      "metadata": {
        "id": "VPKAfJSBUZhU",
        "colab_type": "code",
        "colab": {}
      },
      "cell_type": "code",
      "source": [
        "pickle.dump(X_train, open(serialization_objects_folder+'X_train.p', 'wb'))\n",
        "pickle.dump(y_train, open(serialization_objects_folder+'y_train.p', 'wb'))\n",
        "pickle.dump(X_test, open(serialization_objects_folder+'X_test.p', 'wb'))\n",
        "pickle.dump(y_test, open(serialization_objects_folder+'y_test.p', 'wb'))"
      ],
      "execution_count": 0,
      "outputs": []
    },
    {
      "metadata": {
        "id": "vVNEkzt1UZhW",
        "colab_type": "code",
        "colab": {
          "base_uri": "https://localhost:8080/",
          "height": 34
        },
        "outputId": "f0d7b20f-e070-4b66-db57-a356df3c4701"
      },
      "cell_type": "code",
      "source": [
        "!ls \"$serialization_objects_folder\""
      ],
      "execution_count": 18,
      "outputs": [
        {
          "output_type": "stream",
          "text": [
            "X_test.p  X_train.p  y_test.p  y_train.p\n"
          ],
          "name": "stdout"
        }
      ]
    },
    {
      "metadata": {
        "id": "P3y7KIQWUZhZ",
        "colab_type": "code",
        "colab": {}
      },
      "cell_type": "code",
      "source": [
        "del X,y,df,X_train,X_test, y_train, y_test"
      ],
      "execution_count": 0,
      "outputs": []
    }
  ]
}