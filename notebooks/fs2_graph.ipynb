{
 "cells": [
  {
   "cell_type": "code",
   "execution_count": 1,
   "metadata": {},
   "outputs": [],
   "source": [
    "#Google Colab needs\n",
    "import os\n",
    "import sys\n",
    "def isCollab():\n",
    "    return os.environ.get('COLAB_GPU', None) != None\n",
    "\n",
    "if isCollab():\n",
    "    #Mounting GDrive disc\n",
    "    from google.colab import drive\n",
    "    drive.mount('/content/gdrive')\n",
    "    path_to_storage = '/content/gdrive/My Drive/UCU-2019-final-project-storage'\n",
    "\n",
    "    #Append path where custom modules stored. I put custom modules to GDrive disc\n",
    "    path_to_modules = '/content/gdrive/My Drive/UCU-2019-final-project-storage'\n",
    "    sys.path.append(path_to_modules)\n",
    "else:\n",
    "    sys.path.append('..')\n",
    "    path_to_storage = None"
   ]
  },
  {
   "cell_type": "code",
   "execution_count": 2,
   "metadata": {
    "colab": {
     "base_uri": "https://localhost:8080/",
     "height": 34
    },
    "colab_type": "code",
    "id": "tB7POi5OS180",
    "outputId": "26ada6d8-3061-4391-e9a7-67deba131491"
   },
   "outputs": [],
   "source": [
    "import numpy\n",
    "import pandas as pd\n",
    "import networkx as nx\n",
    "import pickle\n",
    "import hashlib\n",
    "from itertools import combinations\n",
    "from utils.func.functions import pickle_and_remove, build_x"
   ]
  },
  {
   "cell_type": "code",
   "execution_count": 3,
   "metadata": {},
   "outputs": [],
   "source": [
    "if not path_to_storage:\n",
    "    path_to_storage = os.path.abspath(os.path.join(os.getcwd(), '../storage')) \n",
    "\n",
    "data_folder = path_to_storage+'/data/'\n",
    "serialization_objects_folder = path_to_storage+'/serialization_objects/'"
   ]
  },
  {
   "cell_type": "code",
   "execution_count": 4,
   "metadata": {
    "colab": {},
    "colab_type": "code",
    "id": "jKJQ0WmotXa8"
   },
   "outputs": [],
   "source": [
    "X_train = pickle.load(open(serialization_objects_folder+'X_train.p', 'rb'))\n",
    "y_train = pickle.load(open(serialization_objects_folder+'y_train.p', 'rb'))\n",
    "X_test = pickle.load(open(serialization_objects_folder+'X_train.p', 'rb'))\n",
    "y_test = pickle.load(open(serialization_objects_folder+'y_test.p', 'rb'))"
   ]
  },
  {
   "cell_type": "code",
   "execution_count": 5,
   "metadata": {
    "colab": {},
    "colab_type": "code",
    "id": "UyE8xqzfSvWN"
   },
   "outputs": [],
   "source": [
    "def add_clique_size(X, y):\n",
    "    G = nx.Graph()\n",
    "    edges = [tuple(x) for x in X[['question1', 'question2']].values]\n",
    "    G.add_edges_from(edges)\n",
    "    with_y = pd.concat([X, y], axis=1)\n",
    "    map_label = dict(((x[0], x[1]), x[2]) for x in with_y[['question1', 'question2', 'is_duplicate']].values)\n",
    "    map_clique_size = {}\n",
    "    cliques = sorted(list(nx.find_cliques(G)), key=lambda x: len(x))\n",
    "    for cli in cliques:\n",
    "        for q1, q2 in combinations(cli, 2):\n",
    "            if (q1, q2) in map_label:\n",
    "                map_clique_size[q1, q2] = len(cli)\n",
    "            elif (q2, q1) in map_label:\n",
    "                map_clique_size[q2, q1] = len(cli)\n",
    "    X['clique_size'] = X.apply(lambda row: map_clique_size.get((row['question1'], row['question2']), -1), axis=1)\n"
   ]
  },
  {
   "cell_type": "code",
   "execution_count": 6,
   "metadata": {
    "colab": {},
    "colab_type": "code",
    "id": "yqhG9zK2CF4n"
   },
   "outputs": [],
   "source": [
    "add_clique_size(X_train, y_train)"
   ]
  },
  {
   "cell_type": "code",
   "execution_count": 7,
   "metadata": {
    "colab": {},
    "colab_type": "code",
    "id": "7C6pkjBMJ51q"
   },
   "outputs": [],
   "source": [
    "add_clique_size(X_test, y_test)"
   ]
  },
  {
   "cell_type": "code",
   "execution_count": 8,
   "metadata": {
    "colab": {
     "base_uri": "https://localhost:8080/",
     "height": 235
    },
    "colab_type": "code",
    "id": "Y1v5UTOXVYpT",
    "outputId": "eeee5b97-e736-43a6-c562-6c65ed8e2b12"
   },
   "outputs": [
    {
     "data": {
      "text/html": [
       "<div>\n",
       "<style scoped>\n",
       "    .dataframe tbody tr th:only-of-type {\n",
       "        vertical-align: middle;\n",
       "    }\n",
       "\n",
       "    .dataframe tbody tr th {\n",
       "        vertical-align: top;\n",
       "    }\n",
       "\n",
       "    .dataframe thead th {\n",
       "        text-align: right;\n",
       "    }\n",
       "</style>\n",
       "<table border=\"1\" class=\"dataframe\">\n",
       "  <thead>\n",
       "    <tr style=\"text-align: right;\">\n",
       "      <th></th>\n",
       "      <th>qid1</th>\n",
       "      <th>qid2</th>\n",
       "      <th>question1</th>\n",
       "      <th>question2</th>\n",
       "      <th>clique_size</th>\n",
       "    </tr>\n",
       "    <tr>\n",
       "      <th>id</th>\n",
       "      <th></th>\n",
       "      <th></th>\n",
       "      <th></th>\n",
       "      <th></th>\n",
       "      <th></th>\n",
       "    </tr>\n",
       "  </thead>\n",
       "  <tbody>\n",
       "    <tr>\n",
       "      <th>243973</th>\n",
       "      <td>356509</td>\n",
       "      <td>356510</td>\n",
       "      <td>How does airbnb screen its host?</td>\n",
       "      <td>When as an Airbnb host can I review my guests?</td>\n",
       "      <td>2</td>\n",
       "    </tr>\n",
       "    <tr>\n",
       "      <th>82523</th>\n",
       "      <td>123111</td>\n",
       "      <td>45893</td>\n",
       "      <td>How can I learn hacking for free?</td>\n",
       "      <td>How can I learn hacking for security purposes?</td>\n",
       "      <td>5</td>\n",
       "    </tr>\n",
       "    <tr>\n",
       "      <th>373083</th>\n",
       "      <td>41716</td>\n",
       "      <td>2986</td>\n",
       "      <td>How can I speak fluent English with accuracy?</td>\n",
       "      <td>How do I speak English like celebrities?</td>\n",
       "      <td>7</td>\n",
       "    </tr>\n",
       "    <tr>\n",
       "      <th>145241</th>\n",
       "      <td>86221</td>\n",
       "      <td>51226</td>\n",
       "      <td>What are the best books for UPSC?</td>\n",
       "      <td>Which are the best books to prepare for IAS exam?</td>\n",
       "      <td>2</td>\n",
       "    </tr>\n",
       "    <tr>\n",
       "      <th>227393</th>\n",
       "      <td>336229</td>\n",
       "      <td>302258</td>\n",
       "      <td>Why do smart people have to ask questions on Q...</td>\n",
       "      <td>Why do people ask questions on Quora?</td>\n",
       "      <td>2</td>\n",
       "    </tr>\n",
       "  </tbody>\n",
       "</table>\n",
       "</div>"
      ],
      "text/plain": [
       "          qid1    qid2                                          question1  \\\n",
       "id                                                                          \n",
       "243973  356509  356510                   How does airbnb screen its host?   \n",
       "82523   123111   45893                  How can I learn hacking for free?   \n",
       "373083   41716    2986      How can I speak fluent English with accuracy?   \n",
       "145241   86221   51226                  What are the best books for UPSC?   \n",
       "227393  336229  302258  Why do smart people have to ask questions on Q...   \n",
       "\n",
       "                                                question2  clique_size  \n",
       "id                                                                      \n",
       "243973     When as an Airbnb host can I review my guests?            2  \n",
       "82523      How can I learn hacking for security purposes?            5  \n",
       "373083           How do I speak English like celebrities?            7  \n",
       "145241  Which are the best books to prepare for IAS exam?            2  \n",
       "227393              Why do people ask questions on Quora?            2  "
      ]
     },
     "execution_count": 8,
     "metadata": {},
     "output_type": "execute_result"
    }
   ],
   "source": [
    "X_train.head(5)"
   ]
  },
  {
   "cell_type": "code",
   "execution_count": 9,
   "metadata": {},
   "outputs": [],
   "source": [
    "pickle_and_remove(X_train['clique_size'], 'clique_size_train_w', serialization_objects_folder)\n",
    "pickle_and_remove(X_test['clique_size'], 'clique_size_test_w', serialization_objects_folder)"
   ]
  },
  {
   "cell_type": "code",
   "execution_count": 10,
   "metadata": {},
   "outputs": [
    {
     "name": "stdout",
     "output_type": "stream",
     "text": [
      "1_train.p               chebyshev_test_w.p      hausdorff_train_w.p\r\n",
      "X_test.p                chebyshev_train_w.p     l1_test_w.p\r\n",
      "X_test_q1_tfidf.p       cityblock_test_w.p      l1_train_w.p\r\n",
      "X_test_q1_w2v_vect.p    cityblock_train_w.p     l2_test_w.p\r\n",
      "X_test_q2_tfidf.p       clique_size_test.p      l2_train_w.p\r\n",
      "X_test_q2_w2v_vect.p    clique_size_test_w.p    manhattan_test_w.p\r\n",
      "X_train.p               clique_size_train.p     manhattan_train_w.p\r\n",
      "X_train_q1_tfidf.p      clique_size_train_w.p   minkowski_test_w.p\r\n",
      "X_train_q1_w2v_vect.p   correlation_test_w.p    minkowski_train_w.p\r\n",
      "X_train_q2_tfidf.p      correlation_train_w.p   readme\r\n",
      "X_train_q2_w2v_vect.p   cosine_test_w.p         sqeuclidean_test_w.p\r\n",
      "braycurtis_test_w.p     cosine_train_w.p        sqeuclidean_train_w.p\r\n",
      "braycurtis_train_w.p    euclidean_test_w.p      weighted_mean2_train.p\r\n",
      "canberra_test_w.p       euclidean_train_w.p     y_test.p\r\n",
      "canberra_train_w.p      hausdorff_test_w.p      y_train.p\r\n"
     ]
    }
   ],
   "source": [
    "ls \"$serialization_objects_folder\""
   ]
  },
  {
   "cell_type": "code",
   "execution_count": 11,
   "metadata": {},
   "outputs": [],
   "source": [
    "del X_train, y_train,X_test, y_test"
   ]
  }
 ],
 "metadata": {
  "accelerator": "GPU",
  "colab": {
   "name": "fs2_graph.ipynb",
   "provenance": [],
   "version": "0.3.2"
  },
  "kernelspec": {
   "display_name": "ucu-2019-ml-final-project",
   "language": "python",
   "name": "myenv"
  },
  "language_info": {
   "codemirror_mode": {
    "name": "ipython",
    "version": 3
   },
   "file_extension": ".py",
   "mimetype": "text/x-python",
   "name": "python",
   "nbconvert_exporter": "python",
   "pygments_lexer": "ipython3",
   "version": "3.6.7"
  }
 },
 "nbformat": 4,
 "nbformat_minor": 1
}
