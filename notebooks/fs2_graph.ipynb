{
  "nbformat": 4,
  "nbformat_minor": 0,
  "metadata": {
    "colab": {
      "name": "fs2_graph.ipynb",
      "version": "0.3.2",
      "provenance": []
    },
    "kernelspec": {
      "name": "python3",
      "display_name": "Python 3"
    },
    "accelerator": "GPU"
  },
  "cells": [
    {
      "metadata": {
        "id": "tB7POi5OS180",
        "colab_type": "code",
        "outputId": "26ada6d8-3061-4391-e9a7-67deba131491",
        "colab": {
          "base_uri": "https://localhost:8080/",
          "height": 34
        }
      },
      "cell_type": "code",
      "source": [
        "#in: picke files with X_train, y_train, X_test, y_test \n",
        "#out: picke files with features  for test and train (count_neighbors_train, page_rank_test etc) \n",
        "import numpy\n",
        "import pandas as pd\n",
        "import networkx as nx\n",
        "import pickle\n",
        "import hashlib\n",
        "from itertools import combinations\n",
        "\n",
        "from google.colab import drive\n",
        "drive.mount('/content/gdrive')\n",
        "path_to_objects = '/content/gdrive/My Drive/UCU-2019-final-project-storage/serialization_objects/'\n"
      ],
      "execution_count": 80,
      "outputs": [
        {
          "output_type": "stream",
          "text": [
            "Drive already mounted at /content/gdrive; to attempt to forcibly remount, call drive.mount(\"/content/gdrive\", force_remount=True).\n"
          ],
          "name": "stdout"
        }
      ]
    },
    {
      "metadata": {
        "id": "jKJQ0WmotXa8",
        "colab_type": "code",
        "colab": {}
      },
      "cell_type": "code",
      "source": [
        "X_train = pickle.load(open(path_to_objects+'X_train.p', 'rb'))\n",
        "y_train = pickle.load(open(path_to_objects+'y_train.p', 'rb'))\n",
        "X_test = pickle.load(open(path_to_objects+'X_train.p', 'rb'))\n",
        "y_test = pickle.load(open(path_to_objects+'y_test.p', 'rb'))"
      ],
      "execution_count": 0,
      "outputs": []
    },
    {
      "metadata": {
        "colab_type": "code",
        "id": "UyE8xqzfSvWN",
        "colab": {}
      },
      "cell_type": "code",
      "source": [
        "def add_clique_size(X, y):\n",
        "  G = nx.Graph()\n",
        "  edges = [tuple(x) for x in X[['question1', 'question2']].values]\n",
        "  G.add_edges_from(edges)\n",
        "  with_y = pd.concat([X, y], axis=1)\n",
        "  map_label = dict(((x[0], x[1]), x[2]) for x in with_y[['question1', 'question2', 'is_duplicate']].values)\n",
        "  map_clique_size = {}\n",
        "  cliques = sorted(list(nx.find_cliques(G)), key=lambda x: len(x))\n",
        "  for cli in cliques:\n",
        "      for q1, q2 in combinations(cli, 2):\n",
        "          if (q1, q2) in map_label:\n",
        "              map_clique_size[q1, q2] = len(cli)\n",
        "          elif (q2, q1) in map_label:\n",
        "              map_clique_size[q2, q1] = len(cli)\n",
        "  X['clique_size'] = X.apply(lambda row: map_clique_size.get((row['question1'], row['question2']), -1), axis=1)\n",
        "\n"
      ],
      "execution_count": 0,
      "outputs": []
    },
    {
      "metadata": {
        "id": "yqhG9zK2CF4n",
        "colab_type": "code",
        "colab": {}
      },
      "cell_type": "code",
      "source": [
        "add_clique_size(X_train, y_train)"
      ],
      "execution_count": 0,
      "outputs": []
    },
    {
      "metadata": {
        "id": "7C6pkjBMJ51q",
        "colab_type": "code",
        "colab": {}
      },
      "cell_type": "code",
      "source": [
        "add_clique_size(X_test, y_test)"
      ],
      "execution_count": 0,
      "outputs": []
    },
    {
      "metadata": {
        "id": "Y1v5UTOXVYpT",
        "colab_type": "code",
        "colab": {
          "base_uri": "https://localhost:8080/",
          "height": 235
        },
        "outputId": "eeee5b97-e736-43a6-c562-6c65ed8e2b12"
      },
      "cell_type": "code",
      "source": [
        "X_train.head(5)"
      ],
      "execution_count": 83,
      "outputs": [
        {
          "output_type": "execute_result",
          "data": {
            "text/html": [
              "<div>\n",
              "<style scoped>\n",
              "    .dataframe tbody tr th:only-of-type {\n",
              "        vertical-align: middle;\n",
              "    }\n",
              "\n",
              "    .dataframe tbody tr th {\n",
              "        vertical-align: top;\n",
              "    }\n",
              "\n",
              "    .dataframe thead th {\n",
              "        text-align: right;\n",
              "    }\n",
              "</style>\n",
              "<table border=\"1\" class=\"dataframe\">\n",
              "  <thead>\n",
              "    <tr style=\"text-align: right;\">\n",
              "      <th></th>\n",
              "      <th>qid1</th>\n",
              "      <th>qid2</th>\n",
              "      <th>question1</th>\n",
              "      <th>question2</th>\n",
              "      <th>clique_size</th>\n",
              "    </tr>\n",
              "    <tr>\n",
              "      <th>id</th>\n",
              "      <th></th>\n",
              "      <th></th>\n",
              "      <th></th>\n",
              "      <th></th>\n",
              "      <th></th>\n",
              "    </tr>\n",
              "  </thead>\n",
              "  <tbody>\n",
              "    <tr>\n",
              "      <th>243973</th>\n",
              "      <td>356509</td>\n",
              "      <td>356510</td>\n",
              "      <td>How does airbnb screen its host?</td>\n",
              "      <td>When as an Airbnb host can I review my guests?</td>\n",
              "      <td>2</td>\n",
              "    </tr>\n",
              "    <tr>\n",
              "      <th>82523</th>\n",
              "      <td>123111</td>\n",
              "      <td>45893</td>\n",
              "      <td>How can I learn hacking for free?</td>\n",
              "      <td>How can I learn hacking for security purposes?</td>\n",
              "      <td>5</td>\n",
              "    </tr>\n",
              "    <tr>\n",
              "      <th>373083</th>\n",
              "      <td>41716</td>\n",
              "      <td>2986</td>\n",
              "      <td>How can I speak fluent English with accuracy?</td>\n",
              "      <td>How do I speak English like celebrities?</td>\n",
              "      <td>7</td>\n",
              "    </tr>\n",
              "    <tr>\n",
              "      <th>145241</th>\n",
              "      <td>86221</td>\n",
              "      <td>51226</td>\n",
              "      <td>What are the best books for UPSC?</td>\n",
              "      <td>Which are the best books to prepare for IAS exam?</td>\n",
              "      <td>2</td>\n",
              "    </tr>\n",
              "    <tr>\n",
              "      <th>227393</th>\n",
              "      <td>336229</td>\n",
              "      <td>302258</td>\n",
              "      <td>Why do smart people have to ask questions on Q...</td>\n",
              "      <td>Why do people ask questions on Quora?</td>\n",
              "      <td>2</td>\n",
              "    </tr>\n",
              "  </tbody>\n",
              "</table>\n",
              "</div>"
            ],
            "text/plain": [
              "          qid1    qid2                                          question1  \\\n",
              "id                                                                          \n",
              "243973  356509  356510                   How does airbnb screen its host?   \n",
              "82523   123111   45893                  How can I learn hacking for free?   \n",
              "373083   41716    2986      How can I speak fluent English with accuracy?   \n",
              "145241   86221   51226                  What are the best books for UPSC?   \n",
              "227393  336229  302258  Why do smart people have to ask questions on Q...   \n",
              "\n",
              "                                                question2  clique_size  \n",
              "id                                                                      \n",
              "243973     When as an Airbnb host can I review my guests?            2  \n",
              "82523      How can I learn hacking for security purposes?            5  \n",
              "373083           How do I speak English like celebrities?            7  \n",
              "145241  Which are the best books to prepare for IAS exam?            2  \n",
              "227393              Why do people ask questions on Quora?            2  "
            ]
          },
          "metadata": {
            "tags": []
          },
          "execution_count": 83
        }
      ]
    },
    {
      "metadata": {
        "id": "ib26yaPPPveD",
        "colab_type": "code",
        "colab": {}
      },
      "cell_type": "code",
      "source": [
        "pickle.dump(X_train, open(path_to_objects+\"X_train_graph.p\", 'wb'))\n",
        "pickle.dump(X_test, open(path_to_objects+\"X_test_graph.p\", 'wb'))"
      ],
      "execution_count": 0,
      "outputs": []
    }
  ]
}