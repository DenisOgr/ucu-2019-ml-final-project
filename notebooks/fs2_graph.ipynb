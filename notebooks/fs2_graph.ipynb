{
 "cells": [
  {
   "cell_type": "code",
   "execution_count": 1,
   "metadata": {},
   "outputs": [],
   "source": [
    "#Google Colab needs\n",
    "import os\n",
    "import sys\n",
    "def isCollab():\n",
    "    return os.environ.get('COLAB_GPU', None) != None\n",
    "\n",
    "if isCollab():\n",
    "    #Mounting GDrive disc\n",
    "    from google.colab import drive\n",
    "    drive.mount('/content/gdrive')\n",
    "    path_to_storage = '/content/gdrive/My Drive/UCU-2019-final-project-storage'\n",
    "\n",
    "    #Append path where custom modules stored. I put custom modules to GDrive disc\n",
    "    path_to_modules = '/content/gdrive/My Drive/UCU-2019-final-project-storage'\n",
    "    sys.path.append(path_to_modules)\n",
    "else:\n",
    "    sys.path.append('..')\n",
    "    path_to_storage = None"
   ]
  },
  {
   "cell_type": "code",
   "execution_count": 2,
   "metadata": {
    "colab": {
     "base_uri": "https://localhost:8080/",
     "height": 34
    },
    "colab_type": "code",
    "id": "tB7POi5OS180",
    "outputId": "26ada6d8-3061-4391-e9a7-67deba131491"
   },
   "outputs": [],
   "source": [
    "import numpy\n",
    "import pandas as pd\n",
    "import networkx as nx\n",
    "import pickle\n",
    "import hashlib\n",
    "from itertools import combinations\n",
    "from utils.func.functions import pickle_and_remove, build_x"
   ]
  },
  {
   "cell_type": "code",
   "execution_count": 3,
   "metadata": {},
   "outputs": [],
   "source": [
    "if not path_to_storage:\n",
    "    path_to_storage = os.path.abspath(os.path.join(os.getcwd(), '../storage')) \n",
    "\n",
    "data_folder = path_to_storage+'/data/'\n",
    "serialization_objects_folder = path_to_storage+'/serialization_objects/'"
   ]
  },
  {
   "cell_type": "code",
   "execution_count": 4,
   "metadata": {
    "colab": {},
    "colab_type": "code",
    "id": "jKJQ0WmotXa8"
   },
   "outputs": [],
   "source": [
    "X_train = pickle.load(open(serialization_objects_folder+'X_train.p', 'rb'))\n",
    "y_train = pickle.load(open(serialization_objects_folder+'y_train.p', 'rb'))\n",
    "X_test = pickle.load(open(serialization_objects_folder+'X_test.p', 'rb'))\n",
    "y_test = pickle.load(open(serialization_objects_folder+'y_test.p', 'rb'))"
   ]
  },
  {
   "cell_type": "code",
   "execution_count": 5,
   "metadata": {
    "colab": {},
    "colab_type": "code",
    "id": "UyE8xqzfSvWN"
   },
   "outputs": [],
   "source": [
    "def add_clique_size(X, y):\n",
    "    G = nx.Graph()\n",
    "    edges = [tuple(x) for x in X[['question1', 'question2']].values]\n",
    "    G.add_edges_from(edges)\n",
    "    with_y = pd.concat([X, y], axis=1)\n",
    "    map_label = dict(((x[0], x[1]), x[2]) for x in with_y[['question1', 'question2', 'is_duplicate']].values)\n",
    "    map_clique_size = {}\n",
    "    cliques = sorted(list(nx.find_cliques(G)), key=lambda x: len(x))\n",
    "    for cli in cliques:\n",
    "        for q1, q2 in combinations(cli, 2):\n",
    "            if (q1, q2) in map_label:\n",
    "                map_clique_size[q1, q2] = len(cli)\n",
    "            elif (q2, q1) in map_label:\n",
    "                map_clique_size[q2, q1] = len(cli)\n",
    "    X['clique_size'] = X.apply(lambda row: map_clique_size.get((row['question1'], row['question2']), -1), axis=1)\n"
   ]
  },
  {
   "cell_type": "code",
   "execution_count": 6,
   "metadata": {
    "colab": {},
    "colab_type": "code",
    "id": "yqhG9zK2CF4n"
   },
   "outputs": [],
   "source": [
    "add_clique_size(X_train, y_train)"
   ]
  },
  {
   "cell_type": "code",
   "execution_count": 7,
   "metadata": {
    "colab": {},
    "colab_type": "code",
    "id": "7C6pkjBMJ51q"
   },
   "outputs": [],
   "source": [
    "add_clique_size(X_test, y_test)"
   ]
  },
  {
   "cell_type": "code",
   "execution_count": 12,
   "metadata": {
    "colab": {
     "base_uri": "https://localhost:8080/",
     "height": 235
    },
    "colab_type": "code",
    "id": "Y1v5UTOXVYpT",
    "outputId": "eeee5b97-e736-43a6-c562-6c65ed8e2b12"
   },
   "outputs": [
    {
     "data": {
      "text/html": [
       "<div>\n",
       "<style scoped>\n",
       "    .dataframe tbody tr th:only-of-type {\n",
       "        vertical-align: middle;\n",
       "    }\n",
       "\n",
       "    .dataframe tbody tr th {\n",
       "        vertical-align: top;\n",
       "    }\n",
       "\n",
       "    .dataframe thead th {\n",
       "        text-align: right;\n",
       "    }\n",
       "</style>\n",
       "<table border=\"1\" class=\"dataframe\">\n",
       "  <thead>\n",
       "    <tr style=\"text-align: right;\">\n",
       "      <th></th>\n",
       "      <th>qid1</th>\n",
       "      <th>qid2</th>\n",
       "      <th>question1</th>\n",
       "      <th>question2</th>\n",
       "      <th>clique_size</th>\n",
       "    </tr>\n",
       "    <tr>\n",
       "      <th>id</th>\n",
       "      <th></th>\n",
       "      <th></th>\n",
       "      <th></th>\n",
       "      <th></th>\n",
       "      <th></th>\n",
       "    </tr>\n",
       "  </thead>\n",
       "  <tbody>\n",
       "    <tr>\n",
       "      <th>92217</th>\n",
       "      <td>154416</td>\n",
       "      <td>154417</td>\n",
       "      <td>Thoughts on the new Pakistani blockbuster movi...</td>\n",
       "      <td>What do you think of the new Pakistani movie W...</td>\n",
       "      <td>2</td>\n",
       "    </tr>\n",
       "    <tr>\n",
       "      <th>191143</th>\n",
       "      <td>12400</td>\n",
       "      <td>168520</td>\n",
       "      <td>How do I come out of comfort zone?</td>\n",
       "      <td>How exactly can I get out of this comfort zone...</td>\n",
       "      <td>3</td>\n",
       "    </tr>\n",
       "    <tr>\n",
       "      <th>22640</th>\n",
       "      <td>42469</td>\n",
       "      <td>42470</td>\n",
       "      <td>What are the best ways to fake your own death?</td>\n",
       "      <td>What are the worst ways to fake one's own death?</td>\n",
       "      <td>2</td>\n",
       "    </tr>\n",
       "    <tr>\n",
       "      <th>348814</th>\n",
       "      <td>1178</td>\n",
       "      <td>52837</td>\n",
       "      <td>What is the meaning of life? Whats our purpose...</td>\n",
       "      <td>What's the purpose of a human life?</td>\n",
       "      <td>3</td>\n",
       "    </tr>\n",
       "    <tr>\n",
       "      <th>259163</th>\n",
       "      <td>374897</td>\n",
       "      <td>374898</td>\n",
       "      <td>How do I better communicate with my boyfriend?</td>\n",
       "      <td>How can I better communicate with my boyfriend...</td>\n",
       "      <td>2</td>\n",
       "    </tr>\n",
       "  </tbody>\n",
       "</table>\n",
       "</div>"
      ],
      "text/plain": [
       "          qid1    qid2                                          question1  \\\n",
       "id                                                                          \n",
       "92217   154416  154417  Thoughts on the new Pakistani blockbuster movi...   \n",
       "191143   12400  168520                 How do I come out of comfort zone?   \n",
       "22640    42469   42470     What are the best ways to fake your own death?   \n",
       "348814    1178   52837  What is the meaning of life? Whats our purpose...   \n",
       "259163  374897  374898     How do I better communicate with my boyfriend?   \n",
       "\n",
       "                                                question2  clique_size  \n",
       "id                                                                      \n",
       "92217   What do you think of the new Pakistani movie W...            2  \n",
       "191143  How exactly can I get out of this comfort zone...            3  \n",
       "22640    What are the worst ways to fake one's own death?            2  \n",
       "348814                What's the purpose of a human life?            3  \n",
       "259163  How can I better communicate with my boyfriend...            2  "
      ]
     },
     "execution_count": 12,
     "metadata": {},
     "output_type": "execute_result"
    }
   ],
   "source": [
    "X_test.head(5)"
   ]
  },
  {
   "cell_type": "code",
   "execution_count": 9,
   "metadata": {},
   "outputs": [],
   "source": [
    "pickle_and_remove(X_train['clique_size'], 'clique_size_train_w', serialization_objects_folder)\n",
    "pickle_and_remove(X_test['clique_size'], 'clique_size_test_w', serialization_objects_folder)"
   ]
  },
  {
   "cell_type": "code",
   "execution_count": 10,
   "metadata": {},
   "outputs": [
    {
     "name": "stdout",
     "output_type": "stream",
     "text": [
      "1_train.p                         euclidean_train_w.p\r\n",
      "X_test.p                          hausdorff_test_w.p\r\n",
      "X_test_q1_tfidf.p                 hausdorff_train_w.p\r\n",
      "X_test_q1_w2v_vect.p              intersection_ratio_test_w.p\r\n",
      "X_test_q2_tfidf.p                 intersection_ratio_train_w.p\r\n",
      "X_test_q2_w2v_vect.p              jaccard_distance_test_w.p\r\n",
      "X_train.p                         jaccard_distance_train_w.p\r\n",
      "X_train_q1_tfidf.p                l1_test_w.p\r\n",
      "X_train_q1_w2v_vect.p             l1_train_w.p\r\n",
      "X_train_q2_tfidf.p                l2_test_w.p\r\n",
      "X_train_q2_w2v_vect.p             l2_train_w.p\r\n",
      "braycurtis_distance_test_w.p      len_diff_test_w.p\r\n",
      "braycurtis_distance_train_w.p     len_diff_train_w.p\r\n",
      "braycurtis_test_w.p               manhattan_test_w.p\r\n",
      "braycurtis_train_w.p              manhattan_train_w.p\r\n",
      "canberra_distance_test_w.p        minkowski_distance_test_w.p\r\n",
      "canberra_distance_train_w.p       minkowski_distance_train_w.p\r\n",
      "canberra_test_w.p                 minkowski_test_w.p\r\n",
      "canberra_train_w.p                minkowski_train_w.p\r\n",
      "chebyshev_test_w.p                n_capital_letters_diff_test_w.p\r\n",
      "chebyshev_train_w.p               n_capital_letters_diff_train_w.p\r\n",
      "cityblock_distance_test_w.p       n_question_marks_diff_test_w.p\r\n",
      "cityblock_distance_train_w.p      n_question_marks_diff_train_w.p\r\n",
      "cityblock_test_w.p                partial_ratio_test_w.p\r\n",
      "cityblock_train_w.p               partial_ratio_train_w.p\r\n",
      "clique_size_test.p                readme\r\n",
      "clique_size_test_w.p              sqeuclidean_test_w.p\r\n",
      "clique_size_train.p               sqeuclidean_train_w.p\r\n",
      "clique_size_train_w.p             token_ratio_test_w.p\r\n",
      "correlation_test_w.p              token_ratio_train_w.p\r\n",
      "correlation_train_w.p             token_set_ratio_test_w.p\r\n",
      "cosine_distance_test_w.p          token_set_ratio_train_w.p\r\n",
      "cosine_distance_train_w.p         token_sort_ratio_test_w.p\r\n",
      "cosine_test_w.p                   token_sort_ratio_train_w.p\r\n",
      "cosine_train_w.p                  weighted_mean2_train.p\r\n",
      "euclidean_distance_test_w.p       y_test.p\r\n",
      "euclidean_distance_train_w.p      y_train.p\r\n",
      "euclidean_test_w.p\r\n"
     ]
    }
   ],
   "source": [
    "ls \"$serialization_objects_folder\""
   ]
  },
  {
   "cell_type": "code",
   "execution_count": 16,
   "metadata": {},
   "outputs": [
    {
     "data": {
      "text/html": [
       "<div>\n",
       "<style scoped>\n",
       "    .dataframe tbody tr th:only-of-type {\n",
       "        vertical-align: middle;\n",
       "    }\n",
       "\n",
       "    .dataframe tbody tr th {\n",
       "        vertical-align: top;\n",
       "    }\n",
       "\n",
       "    .dataframe thead th {\n",
       "        text-align: right;\n",
       "    }\n",
       "</style>\n",
       "<table border=\"1\" class=\"dataframe\">\n",
       "  <thead>\n",
       "    <tr style=\"text-align: right;\">\n",
       "      <th></th>\n",
       "      <th>clique_size</th>\n",
       "      <th>clique_size</th>\n",
       "    </tr>\n",
       "    <tr>\n",
       "      <th>id</th>\n",
       "      <th></th>\n",
       "      <th></th>\n",
       "    </tr>\n",
       "  </thead>\n",
       "  <tbody>\n",
       "    <tr>\n",
       "      <th>243973</th>\n",
       "      <td>2</td>\n",
       "      <td>2</td>\n",
       "    </tr>\n",
       "  </tbody>\n",
       "</table>\n",
       "</div>"
      ],
      "text/plain": [
       "        clique_size  clique_size\n",
       "id                              \n",
       "243973            2            2"
      ]
     },
     "execution_count": 16,
     "metadata": {},
     "output_type": "execute_result"
    }
   ],
   "source": [
    "build_x(X_train, 'train', serialization_objects_folder).head(1)['clique_size']"
   ]
  },
  {
   "cell_type": "code",
   "execution_count": 17,
   "metadata": {},
   "outputs": [
    {
     "data": {
      "text/html": [
       "<div>\n",
       "<style scoped>\n",
       "    .dataframe tbody tr th:only-of-type {\n",
       "        vertical-align: middle;\n",
       "    }\n",
       "\n",
       "    .dataframe tbody tr th {\n",
       "        vertical-align: top;\n",
       "    }\n",
       "\n",
       "    .dataframe thead th {\n",
       "        text-align: right;\n",
       "    }\n",
       "</style>\n",
       "<table border=\"1\" class=\"dataframe\">\n",
       "  <thead>\n",
       "    <tr style=\"text-align: right;\">\n",
       "      <th></th>\n",
       "      <th>clique_size</th>\n",
       "      <th>clique_size</th>\n",
       "    </tr>\n",
       "    <tr>\n",
       "      <th>id</th>\n",
       "      <th></th>\n",
       "      <th></th>\n",
       "    </tr>\n",
       "  </thead>\n",
       "  <tbody>\n",
       "    <tr>\n",
       "      <th>92217</th>\n",
       "      <td>2</td>\n",
       "      <td>2</td>\n",
       "    </tr>\n",
       "  </tbody>\n",
       "</table>\n",
       "</div>"
      ],
      "text/plain": [
       "       clique_size  clique_size\n",
       "id                             \n",
       "92217            2            2"
      ]
     },
     "execution_count": 17,
     "metadata": {},
     "output_type": "execute_result"
    }
   ],
   "source": [
    "build_x(X_test, 'test', serialization_objects_folder).head(1)['clique_size']"
   ]
  },
  {
   "cell_type": "code",
   "execution_count": 18,
   "metadata": {},
   "outputs": [],
   "source": [
    "del X_train, y_train,X_test, y_test"
   ]
  },
  {
   "cell_type": "code",
   "execution_count": null,
   "metadata": {},
   "outputs": [],
   "source": []
  }
 ],
 "metadata": {
  "accelerator": "GPU",
  "colab": {
   "name": "fs2_graph.ipynb",
   "provenance": [],
   "version": "0.3.2"
  },
  "kernelspec": {
   "display_name": "ucu-2019-ml-final-project",
   "language": "python",
   "name": "myenv"
  },
  "language_info": {
   "codemirror_mode": {
    "name": "ipython",
    "version": 3
   },
   "file_extension": ".py",
   "mimetype": "text/x-python",
   "name": "python",
   "nbconvert_exporter": "python",
   "pygments_lexer": "ipython3",
   "version": "3.6.7"
  }
 },
 "nbformat": 4,
 "nbformat_minor": 1
}
