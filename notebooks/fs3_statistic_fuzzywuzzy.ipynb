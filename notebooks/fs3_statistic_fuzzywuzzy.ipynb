{
  "nbformat": 4,
  "nbformat_minor": 0,
  "metadata": {
    "colab": {
      "name": "fs3_statistic_fuzzywuzzy.ipynb",
      "version": "0.3.2",
      "provenance": [],
      "collapsed_sections": []
    },
    "kernelspec": {
      "name": "python3",
      "display_name": "Python 3"
    },
    "accelerator": "GPU"
  },
  "cells": [
    {
      "metadata": {
        "id": "yLVUE5bO8xrP",
        "colab_type": "code",
        "outputId": "52ac8a99-d89d-4aaa-d781-858e9ed528a0",
        "colab": {
          "base_uri": "https://localhost:8080/",
          "height": 68
        }
      },
      "cell_type": "code",
      "source": [
        "#in: picke files with X_train, y_train, X_test, y_test \n",
        "#out: picke files with features  for test and train (size_diff_train, partial_ratio_test etc) \n",
        "import numpy as np\n",
        "import pickle\n",
        "import pandas as pd\n",
        "!pip install fuzzywuzzy\n",
        "!pip install python-Levenshtein\n",
        "import fuzzywuzzy\n",
        "from fuzzywuzzy import fuzz\n",
        "from fuzzywuzzy import process\n",
        "from tqdm import tqdm\n",
        "import gensim\n",
        "import nltk\n",
        "from scipy.spatial.distance import cosine, cityblock, jaccard, canberra, euclidean, minkowski, braycurtis\n"
      ],
      "execution_count": 26,
      "outputs": [
        {
          "output_type": "stream",
          "text": [
            "Requirement already satisfied: fuzzywuzzy in /usr/local/lib/python3.6/dist-packages (0.17.0)\n",
            "Requirement already satisfied: python-Levenshtein in /usr/local/lib/python3.6/dist-packages (0.12.0)\n",
            "Requirement already satisfied: setuptools in /usr/local/lib/python3.6/dist-packages (from python-Levenshtein) (40.9.0)\n"
          ],
          "name": "stdout"
        }
      ]
    },
    {
      "metadata": {
        "id": "6oyv0vvGs_lJ",
        "colab_type": "code",
        "colab": {
          "base_uri": "https://localhost:8080/",
          "height": 34
        },
        "outputId": "c664a162-b9ab-4309-bcb8-6df8bb451658"
      },
      "cell_type": "code",
      "source": [
        "from google.colab import drive\n",
        "drive.mount('/content/gdrive')\n",
        "path_to_objects = '/content/gdrive/My Drive/UCU-2019-final-project-storage/serialization_objects/'"
      ],
      "execution_count": 13,
      "outputs": [
        {
          "output_type": "stream",
          "text": [
            "Drive already mounted at /content/gdrive; to attempt to forcibly remount, call drive.mount(\"/content/gdrive\", force_remount=True).\n"
          ],
          "name": "stdout"
        }
      ]
    },
    {
      "metadata": {
        "id": "wXqoAXCa_BO8",
        "colab_type": "code",
        "colab": {
          "base_uri": "https://localhost:8080/",
          "height": 34
        },
        "outputId": "9acf7418-7f43-4e30-8a78-8eb2d4af2545"
      },
      "cell_type": "code",
      "source": [
        "\n",
        "X_train = pickle.load(open(path_to_objects + 'X_train.p', 'rb'))\n",
        "y_train = pickle.load(open(path_to_objects + 'y_train.p', 'rb'))\n",
        "X_test = pickle.load(open(path_to_objects + 'X_test.p', 'rb'))\n",
        "y_test = pickle.load(open(path_to_objects + 'y_test.p', 'rb'))\n"
      ],
      "execution_count": 3,
      "outputs": [
        {
          "output_type": "stream",
          "text": [
            "Drive already mounted at /content/gdrive; to attempt to forcibly remount, call drive.mount(\"/content/gdrive\", force_remount=True).\n"
          ],
          "name": "stdout"
        }
      ]
    },
    {
      "metadata": {
        "id": "_U4IfCJb2fPY",
        "colab_type": "code",
        "outputId": "9eda4311-0431-475f-8787-45a2c5ad8b8e",
        "colab": {
          "base_uri": "https://localhost:8080/",
          "height": 85
        }
      },
      "cell_type": "code",
      "source": [
        "nltk.download('stopwords')\n",
        "nltk.download('punkt')\n",
        "from nltk.corpus import stopwords\n",
        "\n",
        "stops = stopwords.words('english')"
      ],
      "execution_count": 4,
      "outputs": [
        {
          "output_type": "stream",
          "text": [
            "[nltk_data] Downloading package stopwords to /root/nltk_data...\n",
            "[nltk_data]   Unzipping corpora/stopwords.zip.\n",
            "[nltk_data] Downloading package punkt to /root/nltk_data...\n",
            "[nltk_data]   Unzipping tokenizers/punkt.zip.\n"
          ],
          "name": "stdout"
        }
      ]
    },
    {
      "metadata": {
        "id": "HYNF9LpEDMxe",
        "colab_type": "code",
        "colab": {}
      },
      "cell_type": "code",
      "source": [
        "def add_feature(dataset, feature_name, feature):\n",
        "  dataset[feature_name] = dataset.apply(feature, axis=1)\n",
        " "
      ],
      "execution_count": 0,
      "outputs": []
    },
    {
      "metadata": {
        "id": "Xxeez4CIbGNK",
        "colab_type": "code",
        "colab": {}
      },
      "cell_type": "code",
      "source": [
        "len_diff = lambda data: abs(len(str(data['question1'])) - len(str(data['question2'])))\n",
        "\n",
        "token_sort_ratio = lambda data: fuzz.token_sort_ratio(str(data['question1']), str(data['question2']))\n",
        "\n",
        "token_set_ratio = lambda data: fuzz.token_set_ratio(str(data['question1']), str(data['question2']))\n",
        "\n",
        "partial_ratio = lambda data: fuzz.partial_ratio(str(data['question1']), str(data['question2']))\n",
        "\n",
        "def intersection_ratio(data):\n",
        "  q1 = {}\n",
        "  q2 = {}\n",
        "  for word in str(data['question1']).lower().split():\n",
        "    if word not in stops:\n",
        "      q1[word] = q1.get(word, 0) + 1\n",
        "  for word in str(data['question2']).lower().split():\n",
        "    if word not in stops:\n",
        "      q2[word] = q2.get(word, 0) + 1\n",
        "  q1_shared_count = sum([q1[w] for w in q1 if w in q2])\n",
        "  q2_shared_count = sum([q2[w] for w in q2 if w in q1])\n",
        "  total = sum(q1.values()) + sum(q2.values())\n",
        "  return (q1_shared_count + q2_shared_count) / total\n",
        "\n",
        "\n",
        "\n",
        "token_ratio = lambda data: fuzz.ratio(str(data['question1']), str(data['question2']))\n",
        "\n",
        "jaccard_distance = lambda data: nltk.jaccard_distance(set(str(data['question1'])), set(str(data['question2'])))\n",
        "n_question_marks_diff = lambda data: abs(str(data['question1']).count('?') - str(data['question2']).count('?'))\n",
        "n_capital_letters_diff = lambda data: abs(sum(map(str.isupper, str(data['question1']))) - sum(map(str.isupper, str(data['question2']))))\n",
        "\n",
        "\n"
      ],
      "execution_count": 0,
      "outputs": []
    },
    {
      "metadata": {
        "id": "wVPXqzJh4ZBD",
        "colab_type": "code",
        "colab": {
          "base_uri": "https://localhost:8080/",
          "height": 204
        },
        "outputId": "4ea18589-e5b7-4243-d73d-25ad03cc9292"
      },
      "cell_type": "code",
      "source": [
        "!wget -c \"https://s3.amazonaws.com/dl4j-distribution/GoogleNews-vectors-negative300.bin.gz\""
      ],
      "execution_count": 16,
      "outputs": [
        {
          "output_type": "stream",
          "text": [
            "--2019-05-01 10:03:58--  https://s3.amazonaws.com/dl4j-distribution/GoogleNews-vectors-negative300.bin.gz\n",
            "Resolving s3.amazonaws.com (s3.amazonaws.com)... 52.216.184.245\n",
            "Connecting to s3.amazonaws.com (s3.amazonaws.com)|52.216.184.245|:443... connected.\n",
            "HTTP request sent, awaiting response... 200 OK\n",
            "Length: 1647046227 (1.5G) [application/x-gzip]\n",
            "Saving to: ‘GoogleNews-vectors-negative300.bin.gz’\n",
            "\n",
            "GoogleNews-vectors- 100%[===================>]   1.53G  32.0MB/s    in 47s     \n",
            "\n",
            "2019-05-01 10:04:46 (33.1 MB/s) - ‘GoogleNews-vectors-negative300.bin.gz’ saved [1647046227/1647046227]\n",
            "\n"
          ],
          "name": "stdout"
        }
      ]
    },
    {
      "metadata": {
        "id": "ohQEQ_rZ2skQ",
        "colab_type": "code",
        "colab": {}
      },
      "cell_type": "code",
      "source": [
        "model = gensim.models.KeyedVectors.load_word2vec_format('GoogleNews-vectors-negative300.bin.gz', binary=True)"
      ],
      "execution_count": 0,
      "outputs": []
    },
    {
      "metadata": {
        "id": "4yLVD0Y03cmL",
        "colab_type": "code",
        "colab": {}
      },
      "cell_type": "code",
      "source": [
        "def sent2vec(s):\n",
        "    words = str(s).lower()\n",
        "    words = nltk.word_tokenize(words)\n",
        "    words = [w for w in words if not w in stops]\n",
        "    words = [w for w in words if w.isalpha()]\n",
        "    M = []\n",
        "    for w in words:\n",
        "        try:\n",
        "            M.append(model[w])\n",
        "        except:\n",
        "            continue\n",
        "    M = np.array(M)\n",
        "    v = M.sum(axis=0)\n",
        "    return v / np.sqrt((v ** 2).sum())"
      ],
      "execution_count": 0,
      "outputs": []
    },
    {
      "metadata": {
        "id": "MM6HtKgx4Dox",
        "colab_type": "code",
        "colab": {}
      },
      "cell_type": "code",
      "source": [
        "def createVectors(data):\n",
        "  q1_vecs = np.zeros((data.shape[0], 300))\n",
        "  error_count = 0\n",
        "\n",
        "  for i, q in tqdm(enumerate(data.question1.values)):\n",
        "      q1_vecs[i, :] = sent2vec(q)\n",
        "\n",
        "  q2_vecs  = np.zeros((data.shape[0], 300))\n",
        "  for i, q in tqdm(enumerate(data.question2.values)):\n",
        "      q2_vecs[i, :] = sent2vec(q)\n",
        "      \n",
        "  return q1_vecs, q2_vecs"
      ],
      "execution_count": 0,
      "outputs": []
    },
    {
      "metadata": {
        "id": "C2kYqUAW4leo",
        "colab_type": "code",
        "colab": {
          "base_uri": "https://localhost:8080/",
          "height": 85
        },
        "outputId": "43e4b730-9215-4e09-b36a-1f8fcbd1c3e0"
      },
      "cell_type": "code",
      "source": [
        "q1_vecs_train, q2_vecs_train = createVectors(X_train)"
      ],
      "execution_count": 37,
      "outputs": [
        {
          "output_type": "stream",
          "text": [
            "0it [00:00, ?it/s]/usr/local/lib/python3.6/dist-packages/ipykernel_launcher.py:14: RuntimeWarning: invalid value encountered in double_scalars\n",
            "  \n",
            "270872it [00:55, 4895.41it/s]\n",
            "270872it [00:56, 4773.84it/s]\n"
          ],
          "name": "stderr"
        }
      ]
    },
    {
      "metadata": {
        "id": "EM_ANg3P5ycK",
        "colab_type": "code",
        "colab": {
          "base_uri": "https://localhost:8080/",
          "height": 85
        },
        "outputId": "6551b6d6-366b-4e39-98e3-90f876ef37a6"
      },
      "cell_type": "code",
      "source": [
        "q1_vecs_test, q2_vecs_test = createVectors(X_test)"
      ],
      "execution_count": 38,
      "outputs": [
        {
          "output_type": "stream",
          "text": [
            "0it [00:00, ?it/s]/usr/local/lib/python3.6/dist-packages/ipykernel_launcher.py:14: RuntimeWarning: invalid value encountered in double_scalars\n",
            "  \n",
            "133415it [00:26, 5043.56it/s]\n",
            "133415it [00:29, 4599.75it/s]\n"
          ],
          "name": "stderr"
        }
      ]
    },
    {
      "metadata": {
        "id": "frmxscP16Kus",
        "colab_type": "code",
        "colab": {
          "base_uri": "https://localhost:8080/",
          "height": 85
        },
        "outputId": "a5a92ffd-729a-4caa-fe30-f08228a1c84b"
      },
      "cell_type": "code",
      "source": [
        "def add_distances(data, q1v, q2v):\n",
        "  data['cosine_distance'] = [cosine(x, y) for (x, y) in zip(np.nan_to_num(q1v),\n",
        "                                                            np.nan_to_num(q2v))]\n",
        "\n",
        "  data['cityblock_distance'] = [cityblock(x, y) for (x, y) in zip(np.nan_to_num(q1v),\n",
        "                                                            np.nan_to_num(q2v))]\n",
        "\n",
        "  data['jaccard_distance'] = [jaccard(x, y) for (x, y) in zip(np.nan_to_num(q1v),\n",
        "                                                            np.nan_to_num(q2v))]\n",
        "\n",
        "  data['canberra_distance'] = [canberra(x, y) for (x, y) in zip(np.nan_to_num(q1v),\n",
        "                                                            np.nan_to_num(q2v))]\n",
        "\n",
        "  data['euclidean_distance'] = [euclidean(x, y) for (x, y) in zip(np.nan_to_num(q1v),\n",
        "                                                            np.nan_to_num(q2v))]\n",
        "\n",
        "  data['minkowski_distance'] = [minkowski(x, y, 3) for (x, y) in zip(np.nan_to_num(q1v),                                                           \n",
        "                                                            np.nan_to_num(q2v))]\n",
        "  \n",
        "  data['braycurtis_distance'] = [braycurtis(x, y) for (x, y) in zip(np.nan_to_num(q1v),\n",
        "                                                            np.nan_to_num(q2v))]\n",
        "  \n",
        "add_distances(X_train, q1_vecs_train, q2_vecs_train)\n",
        "\n",
        "\n"
      ],
      "execution_count": 40,
      "outputs": [
        {
          "output_type": "stream",
          "text": [
            "/usr/local/lib/python3.6/dist-packages/scipy/spatial/distance.py:702: RuntimeWarning: invalid value encountered in double_scalars\n",
            "  dist = 1.0 - uv / np.sqrt(uu * vv)\n",
            "/usr/local/lib/python3.6/dist-packages/scipy/spatial/distance.py:1160: RuntimeWarning: invalid value encountered in double_scalars\n",
            "  return l1_diff.sum() / l1_sum.sum()\n"
          ],
          "name": "stderr"
        }
      ]
    },
    {
      "metadata": {
        "id": "mLkl4guA7k_j",
        "colab_type": "code",
        "colab": {
          "base_uri": "https://localhost:8080/",
          "height": 85
        },
        "outputId": "6b4528c0-86b0-4315-e0b1-86546df3a24f"
      },
      "cell_type": "code",
      "source": [
        "add_distances(X_test, q1_vecs_test, q2_vecs_test)"
      ],
      "execution_count": 41,
      "outputs": [
        {
          "output_type": "stream",
          "text": [
            "/usr/local/lib/python3.6/dist-packages/scipy/spatial/distance.py:702: RuntimeWarning: invalid value encountered in double_scalars\n",
            "  dist = 1.0 - uv / np.sqrt(uu * vv)\n",
            "/usr/local/lib/python3.6/dist-packages/scipy/spatial/distance.py:1160: RuntimeWarning: invalid value encountered in double_scalars\n",
            "  return l1_diff.sum() / l1_sum.sum()\n"
          ],
          "name": "stderr"
        }
      ]
    },
    {
      "metadata": {
        "id": "CA2m_qbe7zQd",
        "colab_type": "code",
        "colab": {}
      },
      "cell_type": "code",
      "source": [
        "del model, q1_vecs_train, q2_vecs_train, q1_vecs_test, q2_vecs_test"
      ],
      "execution_count": 0,
      "outputs": []
    },
    {
      "metadata": {
        "id": "z57a6MnpY29u",
        "colab_type": "code",
        "colab": {}
      },
      "cell_type": "code",
      "source": [
        "add_feature(X_train, \"len_diff\", len_diff)\n",
        "add_feature(X_train, \"token_sort_ratio\", token_sort_ratio)\n",
        "add_feature(X_train, 'token_ratio', token_ratio)\n",
        "add_feature(X_train, \"intersection_ratio\", intersection_ratio)\n",
        "add_feature(X_train, \"token_set_ratio\", token_set_ratio)\n",
        "add_feature(X_train, \"partial_ratio\", partial_ratio)\n",
        "add_feature(X_train, 'jaccard_distance', jaccard_distance)\n",
        "add_feature(X_train, \"n_capital_letters_diff\", n_capital_letters_diff)\n",
        "add_feature(X_train, 'n_question_marks_diff', n_question_marks_diff)"
      ],
      "execution_count": 0,
      "outputs": []
    },
    {
      "metadata": {
        "id": "iD3CqGCSrYnJ",
        "colab_type": "code",
        "colab": {}
      },
      "cell_type": "code",
      "source": [
        "add_feature(X_test, \"len_diff\", len_diff)\n",
        "add_feature(X_test, \"token_sort_ratio\", token_sort_ratio)\n",
        "add_feature(X_test, 'token_ratio', token_ratio)\n",
        "add_feature(X_test, \"intersection_ratio\", intersection_ratio)\n",
        "add_feature(X_test, \"token_set_ratio\", token_set_ratio)\n",
        "add_feature(X_test, \"partial_ratio\", partial_ratio)\n",
        "add_feature(X_test, 'jaccard_distance', jaccard_distance)\n",
        "add_feature(X_test, \"n_capital_letters_diff\", n_capital_letters_diff)\n",
        "add_feature(X_test, 'n_question_marks_diff', n_question_marks_diff)"
      ],
      "execution_count": 0,
      "outputs": []
    },
    {
      "metadata": {
        "id": "grd4NbX_FDAJ",
        "colab_type": "code",
        "colab": {
          "base_uri": "https://localhost:8080/",
          "height": 1005
        },
        "outputId": "be9c7cc1-1efe-4829-9736-c35ce2e0a702"
      },
      "cell_type": "code",
      "source": [
        "X_test.head(10)"
      ],
      "execution_count": 44,
      "outputs": [
        {
          "output_type": "execute_result",
          "data": {
            "text/html": [
              "<div>\n",
              "<style scoped>\n",
              "    .dataframe tbody tr th:only-of-type {\n",
              "        vertical-align: middle;\n",
              "    }\n",
              "\n",
              "    .dataframe tbody tr th {\n",
              "        vertical-align: top;\n",
              "    }\n",
              "\n",
              "    .dataframe thead th {\n",
              "        text-align: right;\n",
              "    }\n",
              "</style>\n",
              "<table border=\"1\" class=\"dataframe\">\n",
              "  <thead>\n",
              "    <tr style=\"text-align: right;\">\n",
              "      <th></th>\n",
              "      <th>qid1</th>\n",
              "      <th>qid2</th>\n",
              "      <th>question1</th>\n",
              "      <th>question2</th>\n",
              "      <th>token_sort_ratio</th>\n",
              "      <th>token_ratio</th>\n",
              "      <th>intersection_ratio</th>\n",
              "      <th>token_set_ratio</th>\n",
              "      <th>partial_ratio</th>\n",
              "      <th>jaccard_distance</th>\n",
              "      <th>n_capital_letters_diff</th>\n",
              "      <th>n_question_marks_diff</th>\n",
              "      <th>cosine_distance</th>\n",
              "      <th>cityblock_distance</th>\n",
              "      <th>canberra_distance</th>\n",
              "      <th>euclidean_distance</th>\n",
              "      <th>minkowski_distance</th>\n",
              "      <th>braycurtis_distance</th>\n",
              "    </tr>\n",
              "    <tr>\n",
              "      <th>id</th>\n",
              "      <th></th>\n",
              "      <th></th>\n",
              "      <th></th>\n",
              "      <th></th>\n",
              "      <th></th>\n",
              "      <th></th>\n",
              "      <th></th>\n",
              "      <th></th>\n",
              "      <th></th>\n",
              "      <th></th>\n",
              "      <th></th>\n",
              "      <th></th>\n",
              "      <th></th>\n",
              "      <th></th>\n",
              "      <th></th>\n",
              "      <th></th>\n",
              "      <th></th>\n",
              "      <th></th>\n",
              "    </tr>\n",
              "  </thead>\n",
              "  <tbody>\n",
              "    <tr>\n",
              "      <th>92217</th>\n",
              "      <td>154416</td>\n",
              "      <td>154417</td>\n",
              "      <td>Thoughts on the new Pakistani blockbuster movi...</td>\n",
              "      <td>What do you think of the new Pakistani movie W...</td>\n",
              "      <td>69</td>\n",
              "      <td>64</td>\n",
              "      <td>0.727273</td>\n",
              "      <td>73</td>\n",
              "      <td>64</td>\n",
              "      <td>1.0</td>\n",
              "      <td>3</td>\n",
              "      <td>0</td>\n",
              "      <td>0.165341</td>\n",
              "      <td>7.769248</td>\n",
              "      <td>127.172923</td>\n",
              "      <td>0.575050</td>\n",
              "      <td>0.261045</td>\n",
              "      <td>0.300964</td>\n",
              "    </tr>\n",
              "    <tr>\n",
              "      <th>191143</th>\n",
              "      <td>12400</td>\n",
              "      <td>168520</td>\n",
              "      <td>How do I come out of comfort zone?</td>\n",
              "      <td>How exactly can I get out of this comfort zone...</td>\n",
              "      <td>56</td>\n",
              "      <td>57</td>\n",
              "      <td>0.222222</td>\n",
              "      <td>86</td>\n",
              "      <td>71</td>\n",
              "      <td>1.0</td>\n",
              "      <td>0</td>\n",
              "      <td>0</td>\n",
              "      <td>0.191389</td>\n",
              "      <td>8.635870</td>\n",
              "      <td>134.466022</td>\n",
              "      <td>0.618691</td>\n",
              "      <td>0.277733</td>\n",
              "      <td>0.325870</td>\n",
              "    </tr>\n",
              "    <tr>\n",
              "      <th>22640</th>\n",
              "      <td>42469</td>\n",
              "      <td>42470</td>\n",
              "      <td>What are the best ways to fake your own death?</td>\n",
              "      <td>What are the worst ways to fake one's own death?</td>\n",
              "      <td>83</td>\n",
              "      <td>87</td>\n",
              "      <td>0.666667</td>\n",
              "      <td>89</td>\n",
              "      <td>85</td>\n",
              "      <td>1.0</td>\n",
              "      <td>0</td>\n",
              "      <td>0</td>\n",
              "      <td>0.096990</td>\n",
              "      <td>5.966336</td>\n",
              "      <td>102.987159</td>\n",
              "      <td>0.440431</td>\n",
              "      <td>0.200047</td>\n",
              "      <td>0.216731</td>\n",
              "    </tr>\n",
              "    <tr>\n",
              "      <th>348814</th>\n",
              "      <td>1178</td>\n",
              "      <td>52837</td>\n",
              "      <td>What is the meaning of life? Whats our purpose...</td>\n",
              "      <td>What's the purpose of a human life?</td>\n",
              "      <td>61</td>\n",
              "      <td>51</td>\n",
              "      <td>0.444444</td>\n",
              "      <td>83</td>\n",
              "      <td>57</td>\n",
              "      <td>1.0</td>\n",
              "      <td>2</td>\n",
              "      <td>1</td>\n",
              "      <td>0.284874</td>\n",
              "      <td>10.532384</td>\n",
              "      <td>149.797132</td>\n",
              "      <td>0.754816</td>\n",
              "      <td>0.338221</td>\n",
              "      <td>0.406219</td>\n",
              "    </tr>\n",
              "    <tr>\n",
              "      <th>259163</th>\n",
              "      <td>374897</td>\n",
              "      <td>374898</td>\n",
              "      <td>How do I better communicate with my boyfriend?</td>\n",
              "      <td>How can I better communicate with my boyfriend...</td>\n",
              "      <td>65</td>\n",
              "      <td>65</td>\n",
              "      <td>0.444444</td>\n",
              "      <td>97</td>\n",
              "      <td>93</td>\n",
              "      <td>1.0</td>\n",
              "      <td>0</td>\n",
              "      <td>0</td>\n",
              "      <td>0.126197</td>\n",
              "      <td>6.988566</td>\n",
              "      <td>113.841849</td>\n",
              "      <td>0.502387</td>\n",
              "      <td>0.224956</td>\n",
              "      <td>0.257012</td>\n",
              "    </tr>\n",
              "    <tr>\n",
              "      <th>198471</th>\n",
              "      <td>213362</td>\n",
              "      <td>290257</td>\n",
              "      <td>How much weight can I lose in a month if I cyc...</td>\n",
              "      <td>Is it safe to run everyday to lose weight?</td>\n",
              "      <td>47</td>\n",
              "      <td>41</td>\n",
              "      <td>0.285714</td>\n",
              "      <td>69</td>\n",
              "      <td>50</td>\n",
              "      <td>1.0</td>\n",
              "      <td>2</td>\n",
              "      <td>0</td>\n",
              "      <td>0.262685</td>\n",
              "      <td>10.098605</td>\n",
              "      <td>146.736135</td>\n",
              "      <td>0.724824</td>\n",
              "      <td>0.325255</td>\n",
              "      <td>0.389079</td>\n",
              "    </tr>\n",
              "    <tr>\n",
              "      <th>83766</th>\n",
              "      <td>16814</td>\n",
              "      <td>23070</td>\n",
              "      <td>Can we time travel anyhow?</td>\n",
              "      <td>Is time travel to 2010 possible?</td>\n",
              "      <td>46</td>\n",
              "      <td>52</td>\n",
              "      <td>0.571429</td>\n",
              "      <td>61</td>\n",
              "      <td>54</td>\n",
              "      <td>1.0</td>\n",
              "      <td>0</td>\n",
              "      <td>0</td>\n",
              "      <td>0.188101</td>\n",
              "      <td>8.353378</td>\n",
              "      <td>127.730048</td>\n",
              "      <td>0.613353</td>\n",
              "      <td>0.281684</td>\n",
              "      <td>0.316801</td>\n",
              "    </tr>\n",
              "    <tr>\n",
              "      <th>98058</th>\n",
              "      <td>163015</td>\n",
              "      <td>163016</td>\n",
              "      <td>What are colors that start with the letter k?</td>\n",
              "      <td>What are colors that start with the letter n?</td>\n",
              "      <td>95</td>\n",
              "      <td>98</td>\n",
              "      <td>0.750000</td>\n",
              "      <td>98</td>\n",
              "      <td>98</td>\n",
              "      <td>1.0</td>\n",
              "      <td>0</td>\n",
              "      <td>0</td>\n",
              "      <td>0.209341</td>\n",
              "      <td>9.065644</td>\n",
              "      <td>138.520391</td>\n",
              "      <td>0.647057</td>\n",
              "      <td>0.289407</td>\n",
              "      <td>0.347238</td>\n",
              "    </tr>\n",
              "    <tr>\n",
              "      <th>110810</th>\n",
              "      <td>32893</td>\n",
              "      <td>107140</td>\n",
              "      <td>Which test would be easier: IELTS or PTE (Pear...</td>\n",
              "      <td>Is the PTE or IELTS easy?</td>\n",
              "      <td>46</td>\n",
              "      <td>37</td>\n",
              "      <td>0.363636</td>\n",
              "      <td>67</td>\n",
              "      <td>48</td>\n",
              "      <td>1.0</td>\n",
              "      <td>4</td>\n",
              "      <td>0</td>\n",
              "      <td>0.561829</td>\n",
              "      <td>14.650415</td>\n",
              "      <td>182.467787</td>\n",
              "      <td>1.060027</td>\n",
              "      <td>0.482449</td>\n",
              "      <td>0.617053</td>\n",
              "    </tr>\n",
              "    <tr>\n",
              "      <th>57492</th>\n",
              "      <td>101018</td>\n",
              "      <td>101019</td>\n",
              "      <td>What does it feel like living in Beverly Hills?</td>\n",
              "      <td>Could I live in Beverly Hills, CA on $130,000 ...</td>\n",
              "      <td>58</td>\n",
              "      <td>50</td>\n",
              "      <td>0.166667</td>\n",
              "      <td>60</td>\n",
              "      <td>49</td>\n",
              "      <td>1.0</td>\n",
              "      <td>3</td>\n",
              "      <td>0</td>\n",
              "      <td>0.356569</td>\n",
              "      <td>11.772608</td>\n",
              "      <td>163.537527</td>\n",
              "      <td>0.844475</td>\n",
              "      <td>0.376551</td>\n",
              "      <td>0.470947</td>\n",
              "    </tr>\n",
              "  </tbody>\n",
              "</table>\n",
              "</div>"
            ],
            "text/plain": [
              "          qid1    qid2                                          question1  \\\n",
              "id                                                                          \n",
              "92217   154416  154417  Thoughts on the new Pakistani blockbuster movi...   \n",
              "191143   12400  168520                 How do I come out of comfort zone?   \n",
              "22640    42469   42470     What are the best ways to fake your own death?   \n",
              "348814    1178   52837  What is the meaning of life? Whats our purpose...   \n",
              "259163  374897  374898     How do I better communicate with my boyfriend?   \n",
              "198471  213362  290257  How much weight can I lose in a month if I cyc...   \n",
              "83766    16814   23070                         Can we time travel anyhow?   \n",
              "98058   163015  163016      What are colors that start with the letter k?   \n",
              "110810   32893  107140  Which test would be easier: IELTS or PTE (Pear...   \n",
              "57492   101018  101019    What does it feel like living in Beverly Hills?   \n",
              "\n",
              "                                                question2  token_sort_ratio  \\\n",
              "id                                                                            \n",
              "92217   What do you think of the new Pakistani movie W...                69   \n",
              "191143  How exactly can I get out of this comfort zone...                56   \n",
              "22640    What are the worst ways to fake one's own death?                83   \n",
              "348814                What's the purpose of a human life?                61   \n",
              "259163  How can I better communicate with my boyfriend...                65   \n",
              "198471         Is it safe to run everyday to lose weight?                47   \n",
              "83766                    Is time travel to 2010 possible?                46   \n",
              "98058       What are colors that start with the letter n?                95   \n",
              "110810                          Is the PTE or IELTS easy?                46   \n",
              "57492   Could I live in Beverly Hills, CA on $130,000 ...                58   \n",
              "\n",
              "        token_ratio  intersection_ratio  token_set_ratio  partial_ratio  \\\n",
              "id                                                                        \n",
              "92217            64            0.727273               73             64   \n",
              "191143           57            0.222222               86             71   \n",
              "22640            87            0.666667               89             85   \n",
              "348814           51            0.444444               83             57   \n",
              "259163           65            0.444444               97             93   \n",
              "198471           41            0.285714               69             50   \n",
              "83766            52            0.571429               61             54   \n",
              "98058            98            0.750000               98             98   \n",
              "110810           37            0.363636               67             48   \n",
              "57492            50            0.166667               60             49   \n",
              "\n",
              "        jaccard_distance  n_capital_letters_diff  n_question_marks_diff  \\\n",
              "id                                                                        \n",
              "92217                1.0                       3                      0   \n",
              "191143               1.0                       0                      0   \n",
              "22640                1.0                       0                      0   \n",
              "348814               1.0                       2                      1   \n",
              "259163               1.0                       0                      0   \n",
              "198471               1.0                       2                      0   \n",
              "83766                1.0                       0                      0   \n",
              "98058                1.0                       0                      0   \n",
              "110810               1.0                       4                      0   \n",
              "57492                1.0                       3                      0   \n",
              "\n",
              "        cosine_distance  cityblock_distance  canberra_distance  \\\n",
              "id                                                               \n",
              "92217          0.165341            7.769248         127.172923   \n",
              "191143         0.191389            8.635870         134.466022   \n",
              "22640          0.096990            5.966336         102.987159   \n",
              "348814         0.284874           10.532384         149.797132   \n",
              "259163         0.126197            6.988566         113.841849   \n",
              "198471         0.262685           10.098605         146.736135   \n",
              "83766          0.188101            8.353378         127.730048   \n",
              "98058          0.209341            9.065644         138.520391   \n",
              "110810         0.561829           14.650415         182.467787   \n",
              "57492          0.356569           11.772608         163.537527   \n",
              "\n",
              "        euclidean_distance  minkowski_distance  braycurtis_distance  \n",
              "id                                                                   \n",
              "92217             0.575050            0.261045             0.300964  \n",
              "191143            0.618691            0.277733             0.325870  \n",
              "22640             0.440431            0.200047             0.216731  \n",
              "348814            0.754816            0.338221             0.406219  \n",
              "259163            0.502387            0.224956             0.257012  \n",
              "198471            0.724824            0.325255             0.389079  \n",
              "83766             0.613353            0.281684             0.316801  \n",
              "98058             0.647057            0.289407             0.347238  \n",
              "110810            1.060027            0.482449             0.617053  \n",
              "57492             0.844475            0.376551             0.470947  "
            ]
          },
          "metadata": {
            "tags": []
          },
          "execution_count": 44
        }
      ]
    },
    {
      "metadata": {
        "id": "Com10kKaoXvN",
        "colab_type": "code",
        "colab": {}
      },
      "cell_type": "code",
      "source": [
        "pickle.dump(X_train, open(path_to_objects+\"X_train_statistic.p\", 'wb'))\n",
        "pickle.dump(X_test, open(path_to_objects+\"X_test_statistic.p\", 'wb'))"
      ],
      "execution_count": 0,
      "outputs": []
    }
  ]
}