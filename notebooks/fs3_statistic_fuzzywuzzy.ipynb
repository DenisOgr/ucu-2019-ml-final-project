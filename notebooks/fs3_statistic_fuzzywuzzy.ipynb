{
 "cells": [
  {
   "cell_type": "code",
   "execution_count": 1,
   "metadata": {},
   "outputs": [],
   "source": [
    "#Google Colab needs\n",
    "import os\n",
    "import sys\n",
    "def isCollab():\n",
    "    return os.environ.get('COLAB_GPU', None) != None\n",
    "\n",
    "if isCollab():\n",
    "    #Mounting GDrive disc\n",
    "    from google.colab import drive\n",
    "    drive.mount('/content/gdrive')\n",
    "    path_to_storage = '/content/gdrive/My Drive/UCU-2019-final-project-storage'\n",
    "\n",
    "    #Append path where custom modules stored. I put custom modules to GDrive disc\n",
    "    path_to_modules = '/content/gdrive/My Drive/UCU-2019-final-project-storage'\n",
    "    sys.path.append(path_to_modules)\n",
    "else:\n",
    "    sys.path.append('..')\n",
    "    path_to_storage = None"
   ]
  },
  {
   "cell_type": "code",
   "execution_count": 37,
   "metadata": {
    "colab": {
     "base_uri": "https://localhost:8080/",
     "height": 68
    },
    "colab_type": "code",
    "id": "yLVUE5bO8xrP",
    "outputId": "52ac8a99-d89d-4aaa-d781-858e9ed528a0"
   },
   "outputs": [
    {
     "name": "stdout",
     "output_type": "stream",
     "text": [
      "Requirement already satisfied: fuzzywuzzy in /Users/denisporplenko/anaconda3/envs/ucu-2019-ml-final-project/lib/python3.6/site-packages (0.17.0)\n",
      "Requirement already satisfied: python-Levenshtein in /Users/denisporplenko/anaconda3/envs/ucu-2019-ml-final-project/lib/python3.6/site-packages (0.12.0)\n",
      "Requirement already satisfied: setuptools in /Users/denisporplenko/anaconda3/envs/ucu-2019-ml-final-project/lib/python3.6/site-packages (from python-Levenshtein) (41.0.1)\n"
     ]
    }
   ],
   "source": [
    "#in: picke files with X_train, y_train, X_test, y_test \n",
    "#out: picke files with features  for test and train (size_diff_train, partial_ratio_test etc) \n",
    "import numpy as np\n",
    "import pickle\n",
    "import pandas as pd\n",
    "!pip install fuzzywuzzy\n",
    "!pip install python-Levenshtein\n",
    "import fuzzywuzzy\n",
    "from fuzzywuzzy import fuzz\n",
    "from fuzzywuzzy import process\n",
    "from tqdm import tqdm\n",
    "import gensim\n",
    "import nltk\n",
    "from scipy.spatial.distance import cosine, cityblock, jaccard, canberra, euclidean, minkowski, braycurtis\n",
    "from utils.func.functions import pickle_and_remove, build_x"
   ]
  },
  {
   "cell_type": "code",
   "execution_count": 3,
   "metadata": {
    "colab": {
     "base_uri": "https://localhost:8080/",
     "height": 34
    },
    "colab_type": "code",
    "id": "6oyv0vvGs_lJ",
    "outputId": "c664a162-b9ab-4309-bcb8-6df8bb451658"
   },
   "outputs": [],
   "source": [
    "if not path_to_storage:\n",
    "    path_to_storage = os.path.abspath(os.path.join(os.getcwd(), '../storage')) \n",
    "\n",
    "data_folder = path_to_storage+'/data/'\n",
    "serialization_objects_folder = path_to_storage+'/serialization_objects/'"
   ]
  },
  {
   "cell_type": "code",
   "execution_count": 4,
   "metadata": {
    "colab": {
     "base_uri": "https://localhost:8080/",
     "height": 34
    },
    "colab_type": "code",
    "id": "wXqoAXCa_BO8",
    "outputId": "9acf7418-7f43-4e30-8a78-8eb2d4af2545"
   },
   "outputs": [],
   "source": [
    "X_train = pickle.load(open(serialization_objects_folder + 'X_train.p', 'rb'))\n",
    "y_train = pickle.load(open(serialization_objects_folder + 'y_train.p', 'rb'))\n",
    "X_test = pickle.load(open(serialization_objects_folder + 'X_test.p', 'rb'))\n",
    "y_test = pickle.load(open(serialization_objects_folder + 'y_test.p', 'rb'))"
   ]
  },
  {
   "cell_type": "code",
   "execution_count": 5,
   "metadata": {
    "colab": {
     "base_uri": "https://localhost:8080/",
     "height": 85
    },
    "colab_type": "code",
    "id": "_U4IfCJb2fPY",
    "outputId": "9eda4311-0431-475f-8787-45a2c5ad8b8e"
   },
   "outputs": [
    {
     "name": "stderr",
     "output_type": "stream",
     "text": [
      "[nltk_data] Downloading package stopwords to\n",
      "[nltk_data]     /Users/denisporplenko/nltk_data...\n",
      "[nltk_data]   Package stopwords is already up-to-date!\n",
      "[nltk_data] Downloading package punkt to\n",
      "[nltk_data]     /Users/denisporplenko/nltk_data...\n",
      "[nltk_data]   Package punkt is already up-to-date!\n"
     ]
    }
   ],
   "source": [
    "nltk.download('stopwords')\n",
    "nltk.download('punkt')\n",
    "from nltk.corpus import stopwords\n",
    "\n",
    "stops = stopwords.words('english')"
   ]
  },
  {
   "cell_type": "code",
   "execution_count": 6,
   "metadata": {
    "colab": {},
    "colab_type": "code",
    "id": "HYNF9LpEDMxe"
   },
   "outputs": [],
   "source": [
    "def add_feature(dataset, feature_name, feature):\n",
    "  dataset[feature_name] = dataset.apply(feature, axis=1)\n",
    " "
   ]
  },
  {
   "cell_type": "code",
   "execution_count": 7,
   "metadata": {
    "colab": {},
    "colab_type": "code",
    "id": "Xxeez4CIbGNK"
   },
   "outputs": [],
   "source": [
    "len_diff = lambda data: abs(len(str(data['question1'])) - len(str(data['question2'])))\n",
    "\n",
    "token_sort_ratio = lambda data: fuzz.token_sort_ratio(str(data['question1']), str(data['question2']))\n",
    "\n",
    "token_set_ratio = lambda data: fuzz.token_set_ratio(str(data['question1']), str(data['question2']))\n",
    "\n",
    "partial_ratio = lambda data: fuzz.partial_ratio(str(data['question1']), str(data['question2']))\n",
    "\n",
    "def intersection_ratio(data):\n",
    "  q1 = {}\n",
    "  q2 = {}\n",
    "  for word in str(data['question1']).lower().split():\n",
    "    if word not in stops:\n",
    "      q1[word] = q1.get(word, 0) + 1\n",
    "  for word in str(data['question2']).lower().split():\n",
    "    if word not in stops:\n",
    "      q2[word] = q2.get(word, 0) + 1\n",
    "  q1_shared_count = sum([q1[w] for w in q1 if w in q2])\n",
    "  q2_shared_count = sum([q2[w] for w in q2 if w in q1])\n",
    "  total = sum(q1.values()) + sum(q2.values())\n",
    "  return (q1_shared_count + q2_shared_count) / total\n",
    "\n",
    "\n",
    "\n",
    "token_ratio = lambda data: fuzz.ratio(str(data['question1']), str(data['question2']))\n",
    "\n",
    "jaccard_distance = lambda data: nltk.jaccard_distance(set(str(data['question1'])), set(str(data['question2'])))\n",
    "n_question_marks_diff = lambda data: abs(str(data['question1']).count('?') - str(data['question2']).count('?'))\n",
    "n_capital_letters_diff = lambda data: abs(sum(map(str.isupper, str(data['question1']))) - sum(map(str.isupper, str(data['question2']))))\n",
    "\n",
    "\n"
   ]
  },
  {
   "cell_type": "code",
   "execution_count": 8,
   "metadata": {
    "colab": {
     "base_uri": "https://localhost:8080/",
     "height": 204
    },
    "colab_type": "code",
    "id": "wVPXqzJh4ZBD",
    "outputId": "4ea18589-e5b7-4243-d73d-25ad03cc9292"
   },
   "outputs": [],
   "source": [
    "#Download GoogleNews-vectors-negative300.bin\n",
    "path_to_google_news_model = data_folder+'GoogleNews-vectors-negative300.bin'\n",
    "if not os.path.isfile(path_to_google_news_model):\n",
    "    !wget -P \"$data_folder\" -c \"https://s3.amazonaws.com/dl4j-distribution/GoogleNews-vectors-negative300.bin.gz\" "
   ]
  },
  {
   "cell_type": "code",
   "execution_count": 9,
   "metadata": {
    "colab": {},
    "colab_type": "code",
    "id": "ohQEQ_rZ2skQ"
   },
   "outputs": [],
   "source": [
    "model = gensim.models.KeyedVectors.load_word2vec_format(path_to_google_news_model, binary=True)"
   ]
  },
  {
   "cell_type": "code",
   "execution_count": 10,
   "metadata": {
    "colab": {},
    "colab_type": "code",
    "id": "4yLVD0Y03cmL"
   },
   "outputs": [],
   "source": [
    "def sent2vec(s):\n",
    "    words = str(s).lower()\n",
    "    words = nltk.word_tokenize(words)\n",
    "    words = [w for w in words if not w in stops]\n",
    "    words = [w for w in words if w.isalpha()]\n",
    "    M = []\n",
    "    for w in words:\n",
    "        try:\n",
    "            M.append(model[w])\n",
    "        except:\n",
    "            continue\n",
    "    M = np.array(M)\n",
    "    v = M.sum(axis=0)\n",
    "    return v / np.sqrt((v ** 2).sum())"
   ]
  },
  {
   "cell_type": "code",
   "execution_count": 11,
   "metadata": {
    "colab": {},
    "colab_type": "code",
    "id": "MM6HtKgx4Dox"
   },
   "outputs": [],
   "source": [
    "def createVectors(data):\n",
    "  q1_vecs = np.zeros((data.shape[0], 300))\n",
    "  error_count = 0\n",
    "\n",
    "  for i, q in tqdm(enumerate(data.question1.values)):\n",
    "      q1_vecs[i, :] = sent2vec(q)\n",
    "\n",
    "  q2_vecs  = np.zeros((data.shape[0], 300))\n",
    "  for i, q in tqdm(enumerate(data.question2.values)):\n",
    "      q2_vecs[i, :] = sent2vec(q)\n",
    "      \n",
    "  return q1_vecs, q2_vecs"
   ]
  },
  {
   "cell_type": "code",
   "execution_count": 12,
   "metadata": {
    "colab": {
     "base_uri": "https://localhost:8080/",
     "height": 85
    },
    "colab_type": "code",
    "id": "C2kYqUAW4leo",
    "outputId": "43e4b730-9215-4e09-b36a-1f8fcbd1c3e0"
   },
   "outputs": [
    {
     "name": "stderr",
     "output_type": "stream",
     "text": [
      "385it [00:00, 3843.12it/s]/Users/denisporplenko/anaconda3/envs/ucu-2019-ml-final-project/lib/python3.6/site-packages/ipykernel_launcher.py:14: RuntimeWarning: invalid value encountered in double_scalars\n",
      "  \n",
      "270872it [00:54, 4930.88it/s]\n",
      "270872it [00:52, 5157.91it/s]\n"
     ]
    }
   ],
   "source": [
    "q1_vecs_train, q2_vecs_train = createVectors(X_train)"
   ]
  },
  {
   "cell_type": "code",
   "execution_count": 13,
   "metadata": {
    "colab": {
     "base_uri": "https://localhost:8080/",
     "height": 85
    },
    "colab_type": "code",
    "id": "EM_ANg3P5ycK",
    "outputId": "6551b6d6-366b-4e39-98e3-90f876ef37a6"
   },
   "outputs": [
    {
     "name": "stderr",
     "output_type": "stream",
     "text": [
      "0it [00:00, ?it/s]/Users/denisporplenko/anaconda3/envs/ucu-2019-ml-final-project/lib/python3.6/site-packages/ipykernel_launcher.py:14: RuntimeWarning: invalid value encountered in double_scalars\n",
      "  \n",
      "133415it [00:25, 5155.24it/s]\n",
      "133415it [00:26, 5053.35it/s]\n"
     ]
    }
   ],
   "source": [
    "q1_vecs_test, q2_vecs_test = createVectors(X_test)"
   ]
  },
  {
   "cell_type": "code",
   "execution_count": 14,
   "metadata": {
    "colab": {
     "base_uri": "https://localhost:8080/",
     "height": 85
    },
    "colab_type": "code",
    "id": "frmxscP16Kus",
    "outputId": "a5a92ffd-729a-4caa-fe30-f08228a1c84b"
   },
   "outputs": [
    {
     "name": "stderr",
     "output_type": "stream",
     "text": [
      "/Users/denisporplenko/anaconda3/envs/ucu-2019-ml-final-project/lib/python3.6/site-packages/scipy/spatial/distance.py:702: RuntimeWarning: invalid value encountered in double_scalars\n",
      "  dist = 1.0 - uv / np.sqrt(uu * vv)\n",
      "/Users/denisporplenko/anaconda3/envs/ucu-2019-ml-final-project/lib/python3.6/site-packages/scipy/spatial/distance.py:1160: RuntimeWarning: invalid value encountered in double_scalars\n",
      "  return l1_diff.sum() / l1_sum.sum()\n"
     ]
    }
   ],
   "source": [
    "def add_distances(data, q1v, q2v):\n",
    "    data['cosine_distance'] = [cosine(x, y) for (x, y) in zip(np.nan_to_num(q1v),\n",
    "                                        np.nan_to_num(q2v))]\n",
    "\n",
    "    data['cityblock_distance'] = [cityblock(x, y) for (x, y) in zip(np.nan_to_num(q1v),\n",
    "                                        np.nan_to_num(q2v))]\n",
    "\n",
    "    data['jaccard_distance'] = [jaccard(x, y) for (x, y) in zip(np.nan_to_num(q1v),\n",
    "                                        np.nan_to_num(q2v))]\n",
    "\n",
    "    data['canberra_distance'] = [canberra(x, y) for (x, y) in zip(np.nan_to_num(q1v),\n",
    "                                        np.nan_to_num(q2v))]\n",
    "\n",
    "    data['euclidean_distance'] = [euclidean(x, y) for (x, y) in zip(np.nan_to_num(q1v),\n",
    "                                        np.nan_to_num(q2v))]\n",
    "\n",
    "    data['minkowski_distance'] = [minkowski(x, y, 3) for (x, y) in zip(np.nan_to_num(q1v),                                                           \n",
    "                                        np.nan_to_num(q2v))]\n",
    "\n",
    "    data['braycurtis_distance'] = [braycurtis(x, y) for (x, y) in zip(np.nan_to_num(q1v),\n",
    "                                        np.nan_to_num(q2v))]\n",
    "\n",
    "add_distances(X_train, q1_vecs_train, q2_vecs_train)\n",
    "\n"
   ]
  },
  {
   "cell_type": "code",
   "execution_count": 16,
   "metadata": {
    "colab": {
     "base_uri": "https://localhost:8080/",
     "height": 85
    },
    "colab_type": "code",
    "id": "mLkl4guA7k_j",
    "outputId": "6b4528c0-86b0-4315-e0b1-86546df3a24f",
    "scrolled": true
   },
   "outputs": [],
   "source": [
    "add_distances(X_test, q1_vecs_test, q2_vecs_test)"
   ]
  },
  {
   "cell_type": "code",
   "execution_count": 17,
   "metadata": {
    "colab": {},
    "colab_type": "code",
    "id": "CA2m_qbe7zQd"
   },
   "outputs": [],
   "source": [
    "del model, q1_vecs_train, q2_vecs_train, q1_vecs_test, q2_vecs_test"
   ]
  },
  {
   "cell_type": "code",
   "execution_count": 18,
   "metadata": {
    "colab": {},
    "colab_type": "code",
    "id": "z57a6MnpY29u"
   },
   "outputs": [],
   "source": [
    "add_feature(X_train, \"len_diff\", len_diff)\n",
    "add_feature(X_train, \"token_sort_ratio\", token_sort_ratio)\n",
    "add_feature(X_train, 'token_ratio', token_ratio)\n",
    "add_feature(X_train, \"intersection_ratio\", intersection_ratio)\n",
    "add_feature(X_train, \"token_set_ratio\", token_set_ratio)\n",
    "add_feature(X_train, \"partial_ratio\", partial_ratio)\n",
    "add_feature(X_train, 'jaccard_distance', jaccard_distance)\n",
    "add_feature(X_train, \"n_capital_letters_diff\", n_capital_letters_diff)\n",
    "add_feature(X_train, 'n_question_marks_diff', n_question_marks_diff)"
   ]
  },
  {
   "cell_type": "code",
   "execution_count": 19,
   "metadata": {
    "colab": {},
    "colab_type": "code",
    "id": "iD3CqGCSrYnJ"
   },
   "outputs": [],
   "source": [
    "add_feature(X_test, \"len_diff\", len_diff)\n",
    "add_feature(X_test, \"token_sort_ratio\", token_sort_ratio)\n",
    "add_feature(X_test, 'token_ratio', token_ratio)\n",
    "add_feature(X_test, \"intersection_ratio\", intersection_ratio)\n",
    "add_feature(X_test, \"token_set_ratio\", token_set_ratio)\n",
    "add_feature(X_test, \"partial_ratio\", partial_ratio)\n",
    "add_feature(X_test, 'jaccard_distance', jaccard_distance)\n",
    "add_feature(X_test, \"n_capital_letters_diff\", n_capital_letters_diff)\n",
    "add_feature(X_test, 'n_question_marks_diff', n_question_marks_diff)"
   ]
  },
  {
   "cell_type": "code",
   "execution_count": 21,
   "metadata": {
    "colab": {
     "base_uri": "https://localhost:8080/",
     "height": 1005
    },
    "colab_type": "code",
    "id": "grd4NbX_FDAJ",
    "outputId": "be9c7cc1-1efe-4829-9736-c35ce2e0a702"
   },
   "outputs": [
    {
     "data": {
      "text/html": [
       "<div>\n",
       "<style scoped>\n",
       "    .dataframe tbody tr th:only-of-type {\n",
       "        vertical-align: middle;\n",
       "    }\n",
       "\n",
       "    .dataframe tbody tr th {\n",
       "        vertical-align: top;\n",
       "    }\n",
       "\n",
       "    .dataframe thead th {\n",
       "        text-align: right;\n",
       "    }\n",
       "</style>\n",
       "<table border=\"1\" class=\"dataframe\">\n",
       "  <thead>\n",
       "    <tr style=\"text-align: right;\">\n",
       "      <th></th>\n",
       "      <th>qid1</th>\n",
       "      <th>qid2</th>\n",
       "      <th>question1</th>\n",
       "      <th>question2</th>\n",
       "      <th>cosine_distance</th>\n",
       "      <th>cityblock_distance</th>\n",
       "      <th>jaccard_distance</th>\n",
       "      <th>canberra_distance</th>\n",
       "      <th>euclidean_distance</th>\n",
       "      <th>minkowski_distance</th>\n",
       "      <th>braycurtis_distance</th>\n",
       "      <th>len_diff</th>\n",
       "      <th>token_sort_ratio</th>\n",
       "      <th>token_ratio</th>\n",
       "      <th>intersection_ratio</th>\n",
       "      <th>token_set_ratio</th>\n",
       "      <th>partial_ratio</th>\n",
       "      <th>n_capital_letters_diff</th>\n",
       "      <th>n_question_marks_diff</th>\n",
       "    </tr>\n",
       "    <tr>\n",
       "      <th>id</th>\n",
       "      <th></th>\n",
       "      <th></th>\n",
       "      <th></th>\n",
       "      <th></th>\n",
       "      <th></th>\n",
       "      <th></th>\n",
       "      <th></th>\n",
       "      <th></th>\n",
       "      <th></th>\n",
       "      <th></th>\n",
       "      <th></th>\n",
       "      <th></th>\n",
       "      <th></th>\n",
       "      <th></th>\n",
       "      <th></th>\n",
       "      <th></th>\n",
       "      <th></th>\n",
       "      <th></th>\n",
       "      <th></th>\n",
       "    </tr>\n",
       "  </thead>\n",
       "  <tbody>\n",
       "    <tr>\n",
       "      <th>243973</th>\n",
       "      <td>356509</td>\n",
       "      <td>356510</td>\n",
       "      <td>How does airbnb screen its host?</td>\n",
       "      <td>When as an Airbnb host can I review my guests?</td>\n",
       "      <td>0.512372</td>\n",
       "      <td>13.970236</td>\n",
       "      <td>0.416667</td>\n",
       "      <td>175.627457</td>\n",
       "      <td>1.012297</td>\n",
       "      <td>0.456996</td>\n",
       "      <td>0.585159</td>\n",
       "      <td>14</td>\n",
       "      <td>55</td>\n",
       "      <td>51</td>\n",
       "      <td>0.285714</td>\n",
       "      <td>58</td>\n",
       "      <td>50</td>\n",
       "      <td>2</td>\n",
       "      <td>0</td>\n",
       "    </tr>\n",
       "    <tr>\n",
       "      <th>82523</th>\n",
       "      <td>123111</td>\n",
       "      <td>45893</td>\n",
       "      <td>How can I learn hacking for free?</td>\n",
       "      <td>How can I learn hacking for security purposes?</td>\n",
       "      <td>0.291997</td>\n",
       "      <td>10.556866</td>\n",
       "      <td>0.227273</td>\n",
       "      <td>149.853963</td>\n",
       "      <td>0.764195</td>\n",
       "      <td>0.343893</td>\n",
       "      <td>0.408830</td>\n",
       "      <td>13</td>\n",
       "      <td>70</td>\n",
       "      <td>78</td>\n",
       "      <td>0.571429</td>\n",
       "      <td>92</td>\n",
       "      <td>88</td>\n",
       "      <td>0</td>\n",
       "      <td>0</td>\n",
       "    </tr>\n",
       "    <tr>\n",
       "      <th>373083</th>\n",
       "      <td>41716</td>\n",
       "      <td>2986</td>\n",
       "      <td>How can I speak fluent English with accuracy?</td>\n",
       "      <td>How do I speak English like celebrities?</td>\n",
       "      <td>0.345266</td>\n",
       "      <td>11.343897</td>\n",
       "      <td>0.200000</td>\n",
       "      <td>156.346549</td>\n",
       "      <td>0.830983</td>\n",
       "      <td>0.376946</td>\n",
       "      <td>0.452207</td>\n",
       "      <td>5</td>\n",
       "      <td>55</td>\n",
       "      <td>61</td>\n",
       "      <td>0.500000</td>\n",
       "      <td>66</td>\n",
       "      <td>60</td>\n",
       "      <td>0</td>\n",
       "      <td>0</td>\n",
       "    </tr>\n",
       "    <tr>\n",
       "      <th>145241</th>\n",
       "      <td>86221</td>\n",
       "      <td>51226</td>\n",
       "      <td>What are the best books for UPSC?</td>\n",
       "      <td>Which are the best books to prepare for IAS exam?</td>\n",
       "      <td>0.346353</td>\n",
       "      <td>11.238465</td>\n",
       "      <td>0.416667</td>\n",
       "      <td>150.825298</td>\n",
       "      <td>0.832290</td>\n",
       "      <td>0.379203</td>\n",
       "      <td>0.441895</td>\n",
       "      <td>16</td>\n",
       "      <td>65</td>\n",
       "      <td>68</td>\n",
       "      <td>0.500000</td>\n",
       "      <td>81</td>\n",
       "      <td>73</td>\n",
       "      <td>1</td>\n",
       "      <td>0</td>\n",
       "    </tr>\n",
       "    <tr>\n",
       "      <th>227393</th>\n",
       "      <td>336229</td>\n",
       "      <td>302258</td>\n",
       "      <td>Why do smart people have to ask questions on Q...</td>\n",
       "      <td>Why do people ask questions on Quora?</td>\n",
       "      <td>0.088301</td>\n",
       "      <td>5.967858</td>\n",
       "      <td>0.090909</td>\n",
       "      <td>109.991955</td>\n",
       "      <td>0.420240</td>\n",
       "      <td>0.185252</td>\n",
       "      <td>0.224701</td>\n",
       "      <td>14</td>\n",
       "      <td>84</td>\n",
       "      <td>84</td>\n",
       "      <td>0.888889</td>\n",
       "      <td>100</td>\n",
       "      <td>78</td>\n",
       "      <td>0</td>\n",
       "      <td>0</td>\n",
       "    </tr>\n",
       "    <tr>\n",
       "      <th>25000</th>\n",
       "      <td>46635</td>\n",
       "      <td>46636</td>\n",
       "      <td>Does the end justify the means, or does the me...</td>\n",
       "      <td>Does the end justify the means?</td>\n",
       "      <td>0.000000</td>\n",
       "      <td>0.000000</td>\n",
       "      <td>0.105263</td>\n",
       "      <td>0.000000</td>\n",
       "      <td>0.000000</td>\n",
       "      <td>0.000000</td>\n",
       "      <td>0.000000</td>\n",
       "      <td>35</td>\n",
       "      <td>64</td>\n",
       "      <td>64</td>\n",
       "      <td>0.555556</td>\n",
       "      <td>100</td>\n",
       "      <td>97</td>\n",
       "      <td>0</td>\n",
       "      <td>0</td>\n",
       "    </tr>\n",
       "    <tr>\n",
       "      <th>8308</th>\n",
       "      <td>16202</td>\n",
       "      <td>16203</td>\n",
       "      <td>How do I set up my VPN?</td>\n",
       "      <td>How do you set up a VPN?</td>\n",
       "      <td>0.000000</td>\n",
       "      <td>0.000000</td>\n",
       "      <td>0.166667</td>\n",
       "      <td>0.000000</td>\n",
       "      <td>0.000000</td>\n",
       "      <td>0.000000</td>\n",
       "      <td>0.000000</td>\n",
       "      <td>1</td>\n",
       "      <td>76</td>\n",
       "      <td>85</td>\n",
       "      <td>1.000000</td>\n",
       "      <td>89</td>\n",
       "      <td>83</td>\n",
       "      <td>1</td>\n",
       "      <td>0</td>\n",
       "    </tr>\n",
       "    <tr>\n",
       "      <th>152489</th>\n",
       "      <td>239573</td>\n",
       "      <td>239574</td>\n",
       "      <td>What is viscous fluid?</td>\n",
       "      <td>Which is the least viscous fluid?</td>\n",
       "      <td>0.068753</td>\n",
       "      <td>5.087406</td>\n",
       "      <td>0.062500</td>\n",
       "      <td>91.663114</td>\n",
       "      <td>0.370818</td>\n",
       "      <td>0.167660</td>\n",
       "      <td>0.185664</td>\n",
       "      <td>11</td>\n",
       "      <td>72</td>\n",
       "      <td>73</td>\n",
       "      <td>0.800000</td>\n",
       "      <td>86</td>\n",
       "      <td>77</td>\n",
       "      <td>0</td>\n",
       "      <td>0</td>\n",
       "    </tr>\n",
       "    <tr>\n",
       "      <th>283624</th>\n",
       "      <td>14110</td>\n",
       "      <td>36847</td>\n",
       "      <td>How does the ban on 500 and 1000 rupee notes h...</td>\n",
       "      <td>How will the India demonetization of 500 and 1...</td>\n",
       "      <td>0.310763</td>\n",
       "      <td>10.765844</td>\n",
       "      <td>0.071429</td>\n",
       "      <td>146.046414</td>\n",
       "      <td>0.788370</td>\n",
       "      <td>0.359624</td>\n",
       "      <td>0.415542</td>\n",
       "      <td>3</td>\n",
       "      <td>65</td>\n",
       "      <td>63</td>\n",
       "      <td>0.421053</td>\n",
       "      <td>70</td>\n",
       "      <td>63</td>\n",
       "      <td>1</td>\n",
       "      <td>0</td>\n",
       "    </tr>\n",
       "    <tr>\n",
       "      <th>308266</th>\n",
       "      <td>92119</td>\n",
       "      <td>432073</td>\n",
       "      <td>What should we lean for hacking?</td>\n",
       "      <td>What does lean do?</td>\n",
       "      <td>0.365310</td>\n",
       "      <td>11.902436</td>\n",
       "      <td>0.400000</td>\n",
       "      <td>158.105356</td>\n",
       "      <td>0.854764</td>\n",
       "      <td>0.380901</td>\n",
       "      <td>0.470702</td>\n",
       "      <td>14</td>\n",
       "      <td>50</td>\n",
       "      <td>60</td>\n",
       "      <td>0.500000</td>\n",
       "      <td>69</td>\n",
       "      <td>61</td>\n",
       "      <td>0</td>\n",
       "      <td>0</td>\n",
       "    </tr>\n",
       "  </tbody>\n",
       "</table>\n",
       "</div>"
      ],
      "text/plain": [
       "          qid1    qid2                                          question1  \\\n",
       "id                                                                          \n",
       "243973  356509  356510                   How does airbnb screen its host?   \n",
       "82523   123111   45893                  How can I learn hacking for free?   \n",
       "373083   41716    2986      How can I speak fluent English with accuracy?   \n",
       "145241   86221   51226                  What are the best books for UPSC?   \n",
       "227393  336229  302258  Why do smart people have to ask questions on Q...   \n",
       "25000    46635   46636  Does the end justify the means, or does the me...   \n",
       "8308     16202   16203                            How do I set up my VPN?   \n",
       "152489  239573  239574                             What is viscous fluid?   \n",
       "283624   14110   36847  How does the ban on 500 and 1000 rupee notes h...   \n",
       "308266   92119  432073                   What should we lean for hacking?   \n",
       "\n",
       "                                                question2  cosine_distance  \\\n",
       "id                                                                           \n",
       "243973     When as an Airbnb host can I review my guests?         0.512372   \n",
       "82523      How can I learn hacking for security purposes?         0.291997   \n",
       "373083           How do I speak English like celebrities?         0.345266   \n",
       "145241  Which are the best books to prepare for IAS exam?         0.346353   \n",
       "227393              Why do people ask questions on Quora?         0.088301   \n",
       "25000                     Does the end justify the means?         0.000000   \n",
       "8308                             How do you set up a VPN?         0.000000   \n",
       "152489                  Which is the least viscous fluid?         0.068753   \n",
       "283624  How will the India demonetization of 500 and 1...         0.310763   \n",
       "308266                                 What does lean do?         0.365310   \n",
       "\n",
       "        cityblock_distance  jaccard_distance  canberra_distance  \\\n",
       "id                                                                \n",
       "243973           13.970236          0.416667         175.627457   \n",
       "82523            10.556866          0.227273         149.853963   \n",
       "373083           11.343897          0.200000         156.346549   \n",
       "145241           11.238465          0.416667         150.825298   \n",
       "227393            5.967858          0.090909         109.991955   \n",
       "25000             0.000000          0.105263           0.000000   \n",
       "8308              0.000000          0.166667           0.000000   \n",
       "152489            5.087406          0.062500          91.663114   \n",
       "283624           10.765844          0.071429         146.046414   \n",
       "308266           11.902436          0.400000         158.105356   \n",
       "\n",
       "        euclidean_distance  minkowski_distance  braycurtis_distance  len_diff  \\\n",
       "id                                                                              \n",
       "243973            1.012297            0.456996             0.585159        14   \n",
       "82523             0.764195            0.343893             0.408830        13   \n",
       "373083            0.830983            0.376946             0.452207         5   \n",
       "145241            0.832290            0.379203             0.441895        16   \n",
       "227393            0.420240            0.185252             0.224701        14   \n",
       "25000             0.000000            0.000000             0.000000        35   \n",
       "8308              0.000000            0.000000             0.000000         1   \n",
       "152489            0.370818            0.167660             0.185664        11   \n",
       "283624            0.788370            0.359624             0.415542         3   \n",
       "308266            0.854764            0.380901             0.470702        14   \n",
       "\n",
       "        token_sort_ratio  token_ratio  intersection_ratio  token_set_ratio  \\\n",
       "id                                                                           \n",
       "243973                55           51            0.285714               58   \n",
       "82523                 70           78            0.571429               92   \n",
       "373083                55           61            0.500000               66   \n",
       "145241                65           68            0.500000               81   \n",
       "227393                84           84            0.888889              100   \n",
       "25000                 64           64            0.555556              100   \n",
       "8308                  76           85            1.000000               89   \n",
       "152489                72           73            0.800000               86   \n",
       "283624                65           63            0.421053               70   \n",
       "308266                50           60            0.500000               69   \n",
       "\n",
       "        partial_ratio  n_capital_letters_diff  n_question_marks_diff  \n",
       "id                                                                    \n",
       "243973             50                       2                      0  \n",
       "82523              88                       0                      0  \n",
       "373083             60                       0                      0  \n",
       "145241             73                       1                      0  \n",
       "227393             78                       0                      0  \n",
       "25000              97                       0                      0  \n",
       "8308               83                       1                      0  \n",
       "152489             77                       0                      0  \n",
       "283624             63                       1                      0  \n",
       "308266             61                       0                      0  "
      ]
     },
     "execution_count": 21,
     "metadata": {},
     "output_type": "execute_result"
    }
   ],
   "source": [
    "X_train.head(10)"
   ]
  },
  {
   "cell_type": "code",
   "execution_count": 35,
   "metadata": {},
   "outputs": [],
   "source": [
    "features = [f for f in X_train.columns.tolist() if f not in ['qid1', 'qid2', 'question1', 'question2']]"
   ]
  },
  {
   "cell_type": "code",
   "execution_count": 38,
   "metadata": {},
   "outputs": [
    {
     "name": "stdout",
     "output_type": "stream",
     "text": [
      "cosine_distance\n",
      "cityblock_distance\n",
      "jaccard_distance\n",
      "canberra_distance\n",
      "euclidean_distance\n",
      "minkowski_distance\n",
      "braycurtis_distance\n",
      "len_diff\n",
      "token_sort_ratio\n",
      "token_ratio\n",
      "intersection_ratio\n",
      "token_set_ratio\n",
      "partial_ratio\n",
      "n_capital_letters_diff\n",
      "n_question_marks_diff\n"
     ]
    }
   ],
   "source": [
    "for feature in features:\n",
    "    print(feature)\n",
    "    pickle_and_remove(X_train[feature], \"%s_train_w\"%(feature), serialization_objects_folder)\n",
    "    pickle_and_remove(X_test[feature], \"%s_test_w\"%(feature), serialization_objects_folder)"
   ]
  },
  {
   "cell_type": "code",
   "execution_count": 39,
   "metadata": {
    "scrolled": true
   },
   "outputs": [
    {
     "name": "stdout",
     "output_type": "stream",
     "text": [
      "1_train.p                         euclidean_train_w.p\r\n",
      "X_test.p                          hausdorff_test_w.p\r\n",
      "X_test_q1_tfidf.p                 hausdorff_train_w.p\r\n",
      "X_test_q1_w2v_vect.p              intersection_ratio_test_w.p\r\n",
      "X_test_q2_tfidf.p                 intersection_ratio_train_w.p\r\n",
      "X_test_q2_w2v_vect.p              jaccard_distance_test_w.p\r\n",
      "X_train.p                         jaccard_distance_train_w.p\r\n",
      "X_train_q1_tfidf.p                l1_test_w.p\r\n",
      "X_train_q1_w2v_vect.p             l1_train_w.p\r\n",
      "X_train_q2_tfidf.p                l2_test_w.p\r\n",
      "X_train_q2_w2v_vect.p             l2_train_w.p\r\n",
      "braycurtis_distance_test_w.p      len_diff_test_w.p\r\n",
      "braycurtis_distance_train_w.p     len_diff_train_w.p\r\n",
      "braycurtis_test_w.p               manhattan_test_w.p\r\n",
      "braycurtis_train_w.p              manhattan_train_w.p\r\n",
      "canberra_distance_test_w.p        minkowski_distance_test_w.p\r\n",
      "canberra_distance_train_w.p       minkowski_distance_train_w.p\r\n",
      "canberra_test_w.p                 minkowski_test_w.p\r\n",
      "canberra_train_w.p                minkowski_train_w.p\r\n",
      "chebyshev_test_w.p                n_capital_letters_diff_test_w.p\r\n",
      "chebyshev_train_w.p               n_capital_letters_diff_train_w.p\r\n",
      "cityblock_distance_test_w.p       n_question_marks_diff_test_w.p\r\n",
      "cityblock_distance_train_w.p      n_question_marks_diff_train_w.p\r\n",
      "cityblock_test_w.p                partial_ratio_test_w.p\r\n",
      "cityblock_train_w.p               partial_ratio_train_w.p\r\n",
      "clique_size_test.p                readme\r\n",
      "clique_size_test_w.p              sqeuclidean_test_w.p\r\n",
      "clique_size_train.p               sqeuclidean_train_w.p\r\n",
      "clique_size_train_w.p             token_ratio_test_w.p\r\n",
      "correlation_test_w.p              token_ratio_train_w.p\r\n",
      "correlation_train_w.p             token_set_ratio_test_w.p\r\n",
      "cosine_distance_test_w.p          token_set_ratio_train_w.p\r\n",
      "cosine_distance_train_w.p         token_sort_ratio_test_w.p\r\n",
      "cosine_test_w.p                   token_sort_ratio_train_w.p\r\n",
      "cosine_train_w.p                  weighted_mean2_train.p\r\n",
      "euclidean_distance_test_w.p       y_test.p\r\n",
      "euclidean_distance_train_w.p      y_train.p\r\n",
      "euclidean_test_w.p\r\n"
     ]
    }
   ],
   "source": [
    "ls \"$serialization_objects_folder\""
   ]
  },
  {
   "cell_type": "code",
   "execution_count": 46,
   "metadata": {},
   "outputs": [],
   "source": [
    "del X_train, X_test"
   ]
  },
  {
   "cell_type": "code",
   "execution_count": null,
   "metadata": {},
   "outputs": [],
   "source": []
  }
 ],
 "metadata": {
  "accelerator": "GPU",
  "colab": {
   "collapsed_sections": [],
   "name": "fs3_statistic_fuzzywuzzy.ipynb",
   "provenance": [],
   "version": "0.3.2"
  },
  "kernelspec": {
   "display_name": "Python 3",
   "language": "python",
   "name": "python3"
  },
  "language_info": {
   "codemirror_mode": {
    "name": "ipython",
    "version": 3
   },
   "file_extension": ".py",
   "mimetype": "text/x-python",
   "name": "python",
   "nbconvert_exporter": "python",
   "pygments_lexer": "ipython3",
   "version": "3.6.7"
  }
 },
 "nbformat": 4,
 "nbformat_minor": 1
}
