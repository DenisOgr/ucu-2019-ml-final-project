{
  "nbformat": 4,
  "nbformat_minor": 0,
  "metadata": {
    "colab": {
      "name": "model_LR_GBM.ipynb",
      "version": "0.3.2",
      "provenance": []
    },
    "language_info": {
      "codemirror_mode": {
        "name": "ipython",
        "version": 3
      },
      "file_extension": ".py",
      "mimetype": "text/x-python",
      "name": "python",
      "nbconvert_exporter": "python",
      "pygments_lexer": "ipython3",
      "version": "3.6.7"
    },
    "kernelspec": {
      "display_name": "ucu-2019-ml-final-project",
      "language": "python",
      "name": "myenv"
    }
  },
  "cells": [
    {
      "metadata": {
        "id": "vQfZodlGnjrW",
        "colab_type": "text"
      },
      "cell_type": "markdown",
      "source": [
        "## Modeling"
      ]
    },
    {
      "metadata": {
        "id": "3V4Y3f8SnjrY",
        "colab_type": "code",
        "colab": {
          "base_uri": "https://localhost:8080/",
          "height": 122
        },
        "outputId": "61e54776-c7b5-44c2-d824-ddd888a1c43c"
      },
      "cell_type": "code",
      "source": [
        "#Google Colab needs\n",
        "import os\n",
        "import sys\n",
        "def isCollab():\n",
        "    return os.environ.get('COLAB_GPU', None) != None\n",
        "\n",
        "if isCollab():\n",
        "    #Mounting GDrive disc\n",
        "    from google.colab import drive\n",
        "    drive.mount('/content/gdrive')\n",
        "    path_to_storage = '/content/gdrive/My Drive/UCU-2019-final-project-storage'\n",
        "\n",
        "    #Append path where custom modules stored. I put custom modules to GDrive disc\n",
        "    path_to_modules = '/content/gdrive/My Drive/UCU-2019-final-project-storage'\n",
        "    sys.path.append(path_to_modules)\n",
        "else:\n",
        "    sys.path.append('..')\n",
        "    path_to_storage = None"
      ],
      "execution_count": 1,
      "outputs": [
        {
          "output_type": "stream",
          "text": [
            "Go to this URL in a browser: https://accounts.google.com/o/oauth2/auth?client_id=947318989803-6bn6qk8qdgf4n4g3pfee6491hc0brc4i.apps.googleusercontent.com&redirect_uri=urn%3Aietf%3Awg%3Aoauth%3A2.0%3Aoob&scope=email%20https%3A%2F%2Fwww.googleapis.com%2Fauth%2Fdocs.test%20https%3A%2F%2Fwww.googleapis.com%2Fauth%2Fdrive%20https%3A%2F%2Fwww.googleapis.com%2Fauth%2Fdrive.photos.readonly%20https%3A%2F%2Fwww.googleapis.com%2Fauth%2Fpeopleapi.readonly&response_type=code\n",
            "\n",
            "Enter your authorization code:\n",
            "··········\n",
            "Mounted at /content/gdrive\n"
          ],
          "name": "stdout"
        }
      ]
    },
    {
      "metadata": {
        "id": "5QpwA2wCnjrc",
        "colab_type": "code",
        "colab": {}
      },
      "cell_type": "code",
      "source": [
        "import numpy as np\n",
        "import pickle\n",
        "import pandas as pd\n",
        "from sklearn.metrics import accuracy_score\n",
        "from sklearn.metrics import precision_score\n",
        "from sklearn.metrics import recall_score\n",
        "from sklearn.metrics import classification_report\n",
        "from sklearn.metrics import classification_report\n",
        "from sklearn.metrics import roc_curve, auc\n",
        "from sklearn.metrics import log_loss\n",
        "import sys\n",
        "sys.path.append('..')\n",
        "from utils.func.functions import build_x\n",
        "from sklearn.linear_model import LogisticRegression\n",
        "from sklearn.model_selection import GridSearchCV, RandomizedSearchCV\n",
        "from joblib import dump, load\n",
        "import xgboost as xgb"
      ],
      "execution_count": 0,
      "outputs": []
    },
    {
      "metadata": {
        "id": "huAkNtoSnjre",
        "colab_type": "code",
        "colab": {}
      },
      "cell_type": "code",
      "source": [
        "if not path_to_storage:\n",
        "    path_to_storage = os.path.abspath(os.path.join(os.getcwd(), '../storage')) \n",
        "\n",
        "data_folder = path_to_storage+'/data/'\n",
        "serialization_objects_folder = path_to_storage+'/serialization_objects/'"
      ],
      "execution_count": 0,
      "outputs": []
    },
    {
      "metadata": {
        "id": "0WyCBoxznjrg",
        "colab_type": "code",
        "colab": {}
      },
      "cell_type": "code",
      "source": [
        "X_train = pickle.load(open(serialization_objects_folder+'X_train.p', 'rb'))\n",
        "y_train = pickle.load(open(serialization_objects_folder+'y_train.p', 'rb'))\n",
        "\n",
        "X_test = pickle.load(open(serialization_objects_folder+'X_test.p', 'rb'))\n",
        "y_test = pickle.load(open(serialization_objects_folder+'y_test.p', 'rb'))"
      ],
      "execution_count": 0,
      "outputs": []
    },
    {
      "metadata": {
        "id": "sEkW9wdOnjri",
        "colab_type": "code",
        "colab": {}
      },
      "cell_type": "code",
      "source": [
        "X_train_final = build_x(X_train, data_type='train',data_folder=serialization_objects_folder)\n",
        "y_train_final =  y_train.loc[X_train_final.index]\n",
        "\n",
        "X_test_final = build_x(X_test, data_type='test',data_folder=serialization_objects_folder)\n",
        "y_test_final =  y_test.loc[X_test_final.index]\n",
        "\n",
        "target_names = ['not duplicate', 'duplicate']\n",
        "\n",
        "del X_train, y_train, X_test, y_test"
      ],
      "execution_count": 0,
      "outputs": []
    },
    {
      "metadata": {
        "id": "f-IKoTTsnjrk",
        "colab_type": "code",
        "colab": {
          "base_uri": "https://localhost:8080/",
          "height": 284
        },
        "outputId": "154f34ab-5b09-4bea-ed88-37739c1ed6df"
      },
      "cell_type": "code",
      "source": [
        "X_test_final.head()"
      ],
      "execution_count": 35,
      "outputs": [
        {
          "output_type": "execute_result",
          "data": {
            "text/html": [
              "<div>\n",
              "<style scoped>\n",
              "    .dataframe tbody tr th:only-of-type {\n",
              "        vertical-align: middle;\n",
              "    }\n",
              "\n",
              "    .dataframe tbody tr th {\n",
              "        vertical-align: top;\n",
              "    }\n",
              "\n",
              "    .dataframe thead th {\n",
              "        text-align: right;\n",
              "    }\n",
              "</style>\n",
              "<table border=\"1\" class=\"dataframe\">\n",
              "  <thead>\n",
              "    <tr style=\"text-align: right;\">\n",
              "      <th></th>\n",
              "      <th>chebyshev</th>\n",
              "      <th>braycurtis</th>\n",
              "      <th>cosine</th>\n",
              "      <th>correlation</th>\n",
              "      <th>canberra</th>\n",
              "      <th>hausdorff</th>\n",
              "      <th>cityblock</th>\n",
              "      <th>euclidean</th>\n",
              "      <th>l1</th>\n",
              "      <th>l2</th>\n",
              "      <th>...</th>\n",
              "      <th>minkowski_distance</th>\n",
              "      <th>braycurtis_distance</th>\n",
              "      <th>len_diff</th>\n",
              "      <th>token_sort_ratio</th>\n",
              "      <th>token_ratio</th>\n",
              "      <th>intersection_ratio</th>\n",
              "      <th>token_set_ratio</th>\n",
              "      <th>partial_ratio</th>\n",
              "      <th>n_capital_letters_diff</th>\n",
              "      <th>n_question_marks_diff</th>\n",
              "    </tr>\n",
              "    <tr>\n",
              "      <th>id</th>\n",
              "      <th></th>\n",
              "      <th></th>\n",
              "      <th></th>\n",
              "      <th></th>\n",
              "      <th></th>\n",
              "      <th></th>\n",
              "      <th></th>\n",
              "      <th></th>\n",
              "      <th></th>\n",
              "      <th></th>\n",
              "      <th></th>\n",
              "      <th></th>\n",
              "      <th></th>\n",
              "      <th></th>\n",
              "      <th></th>\n",
              "      <th></th>\n",
              "      <th></th>\n",
              "      <th></th>\n",
              "      <th></th>\n",
              "      <th></th>\n",
              "      <th></th>\n",
              "    </tr>\n",
              "  </thead>\n",
              "  <tbody>\n",
              "    <tr>\n",
              "      <th>92217</th>\n",
              "      <td>2.729636</td>\n",
              "      <td>0.759858</td>\n",
              "      <td>0.751682</td>\n",
              "      <td>0.750155</td>\n",
              "      <td>173.690816</td>\n",
              "      <td>13.259182</td>\n",
              "      <td>211.660137</td>\n",
              "      <td>15.311931</td>\n",
              "      <td>211.660137</td>\n",
              "      <td>15.311931</td>\n",
              "      <td>...</td>\n",
              "      <td>0.261045</td>\n",
              "      <td>0.300964</td>\n",
              "      <td>3</td>\n",
              "      <td>69</td>\n",
              "      <td>64</td>\n",
              "      <td>0.727273</td>\n",
              "      <td>73</td>\n",
              "      <td>64</td>\n",
              "      <td>3</td>\n",
              "      <td>0</td>\n",
              "    </tr>\n",
              "    <tr>\n",
              "      <th>191143</th>\n",
              "      <td>2.438973</td>\n",
              "      <td>0.799996</td>\n",
              "      <td>0.780621</td>\n",
              "      <td>0.780265</td>\n",
              "      <td>192.049100</td>\n",
              "      <td>16.955406</td>\n",
              "      <td>185.418989</td>\n",
              "      <td>13.431730</td>\n",
              "      <td>185.418989</td>\n",
              "      <td>13.431730</td>\n",
              "      <td>...</td>\n",
              "      <td>0.277733</td>\n",
              "      <td>0.325870</td>\n",
              "      <td>34</td>\n",
              "      <td>56</td>\n",
              "      <td>57</td>\n",
              "      <td>0.222222</td>\n",
              "      <td>86</td>\n",
              "      <td>71</td>\n",
              "      <td>0</td>\n",
              "      <td>0</td>\n",
              "    </tr>\n",
              "    <tr>\n",
              "      <th>22640</th>\n",
              "      <td>2.565702</td>\n",
              "      <td>0.792729</td>\n",
              "      <td>0.788820</td>\n",
              "      <td>0.788732</td>\n",
              "      <td>179.274516</td>\n",
              "      <td>15.473444</td>\n",
              "      <td>196.146957</td>\n",
              "      <td>14.203418</td>\n",
              "      <td>196.146957</td>\n",
              "      <td>14.203418</td>\n",
              "      <td>...</td>\n",
              "      <td>0.200047</td>\n",
              "      <td>0.216731</td>\n",
              "      <td>2</td>\n",
              "      <td>83</td>\n",
              "      <td>87</td>\n",
              "      <td>0.666667</td>\n",
              "      <td>89</td>\n",
              "      <td>85</td>\n",
              "      <td>0</td>\n",
              "      <td>0</td>\n",
              "    </tr>\n",
              "    <tr>\n",
              "      <th>348814</th>\n",
              "      <td>3.379172</td>\n",
              "      <td>0.829099</td>\n",
              "      <td>0.820800</td>\n",
              "      <td>0.819331</td>\n",
              "      <td>185.900484</td>\n",
              "      <td>18.955211</td>\n",
              "      <td>252.847026</td>\n",
              "      <td>18.344742</td>\n",
              "      <td>252.847026</td>\n",
              "      <td>18.344742</td>\n",
              "      <td>...</td>\n",
              "      <td>0.338221</td>\n",
              "      <td>0.406219</td>\n",
              "      <td>21</td>\n",
              "      <td>61</td>\n",
              "      <td>51</td>\n",
              "      <td>0.444444</td>\n",
              "      <td>83</td>\n",
              "      <td>57</td>\n",
              "      <td>2</td>\n",
              "      <td>1</td>\n",
              "    </tr>\n",
              "    <tr>\n",
              "      <th>259163</th>\n",
              "      <td>2.269326</td>\n",
              "      <td>0.863334</td>\n",
              "      <td>0.839565</td>\n",
              "      <td>0.839250</td>\n",
              "      <td>208.263951</td>\n",
              "      <td>8.215338</td>\n",
              "      <td>178.386413</td>\n",
              "      <td>13.011399</td>\n",
              "      <td>178.386413</td>\n",
              "      <td>13.011399</td>\n",
              "      <td>...</td>\n",
              "      <td>0.224956</td>\n",
              "      <td>0.257012</td>\n",
              "      <td>43</td>\n",
              "      <td>65</td>\n",
              "      <td>65</td>\n",
              "      <td>0.444444</td>\n",
              "      <td>97</td>\n",
              "      <td>93</td>\n",
              "      <td>0</td>\n",
              "      <td>0</td>\n",
              "    </tr>\n",
              "  </tbody>\n",
              "</table>\n",
              "<p>5 rows × 29 columns</p>\n",
              "</div>"
            ],
            "text/plain": [
              "        chebyshev  braycurtis    cosine  correlation    canberra  hausdorff  \\\n",
              "id                                                                            \n",
              "92217    2.729636    0.759858  0.751682     0.750155  173.690816  13.259182   \n",
              "191143   2.438973    0.799996  0.780621     0.780265  192.049100  16.955406   \n",
              "22640    2.565702    0.792729  0.788820     0.788732  179.274516  15.473444   \n",
              "348814   3.379172    0.829099  0.820800     0.819331  185.900484  18.955211   \n",
              "259163   2.269326    0.863334  0.839565     0.839250  208.263951   8.215338   \n",
              "\n",
              "         cityblock  euclidean          l1         l2  ...  minkowski_distance  \\\n",
              "id                                                    ...                       \n",
              "92217   211.660137  15.311931  211.660137  15.311931  ...            0.261045   \n",
              "191143  185.418989  13.431730  185.418989  13.431730  ...            0.277733   \n",
              "22640   196.146957  14.203418  196.146957  14.203418  ...            0.200047   \n",
              "348814  252.847026  18.344742  252.847026  18.344742  ...            0.338221   \n",
              "259163  178.386413  13.011399  178.386413  13.011399  ...            0.224956   \n",
              "\n",
              "        braycurtis_distance  len_diff  token_sort_ratio  token_ratio  \\\n",
              "id                                                                     \n",
              "92217              0.300964         3                69           64   \n",
              "191143             0.325870        34                56           57   \n",
              "22640              0.216731         2                83           87   \n",
              "348814             0.406219        21                61           51   \n",
              "259163             0.257012        43                65           65   \n",
              "\n",
              "        intersection_ratio  token_set_ratio  partial_ratio  \\\n",
              "id                                                           \n",
              "92217             0.727273               73             64   \n",
              "191143            0.222222               86             71   \n",
              "22640             0.666667               89             85   \n",
              "348814            0.444444               83             57   \n",
              "259163            0.444444               97             93   \n",
              "\n",
              "        n_capital_letters_diff  n_question_marks_diff  \n",
              "id                                                     \n",
              "92217                        3                      0  \n",
              "191143                       0                      0  \n",
              "22640                        0                      0  \n",
              "348814                       2                      1  \n",
              "259163                       0                      0  \n",
              "\n",
              "[5 rows x 29 columns]"
            ]
          },
          "metadata": {
            "tags": []
          },
          "execution_count": 35
        }
      ]
    },
    {
      "metadata": {
        "id": "Jve3sRfrn9TK",
        "colab_type": "code",
        "colab": {
          "base_uri": "https://localhost:8080/",
          "height": 34
        },
        "outputId": "eac409aa-066b-4467-e1b5-773ec693cdba"
      },
      "cell_type": "code",
      "source": [
        "len(X_train_final.columns)\n"
      ],
      "execution_count": 8,
      "outputs": [
        {
          "output_type": "execute_result",
          "data": {
            "text/plain": [
              "29"
            ]
          },
          "metadata": {
            "tags": []
          },
          "execution_count": 8
        }
      ]
    },
    {
      "metadata": {
        "id": "065b7tjlnjrp",
        "colab_type": "code",
        "colab": {
          "base_uri": "https://localhost:8080/",
          "height": 34
        },
        "outputId": "d1ba1a8d-a1ba-42bd-dc30-9bed080e370a"
      },
      "cell_type": "code",
      "source": [
        "X_train_final.shape, y_train_final.shape"
      ],
      "execution_count": 9,
      "outputs": [
        {
          "output_type": "execute_result",
          "data": {
            "text/plain": [
              "((269633, 29), (269633,))"
            ]
          },
          "metadata": {
            "tags": []
          },
          "execution_count": 9
        }
      ]
    },
    {
      "metadata": {
        "id": "6VizhVoOnjrs",
        "colab_type": "code",
        "colab": {
          "base_uri": "https://localhost:8080/",
          "height": 34
        },
        "outputId": "c728b35c-8e32-4f45-b823-7fabfd5f9f57"
      },
      "cell_type": "code",
      "source": [
        "X_test_final.shape, y_test_final.shape"
      ],
      "execution_count": 10,
      "outputs": [
        {
          "output_type": "execute_result",
          "data": {
            "text/plain": [
              "((0, 29), (0,))"
            ]
          },
          "metadata": {
            "tags": []
          },
          "execution_count": 10
        }
      ]
    },
    {
      "metadata": {
        "id": "1IB0aHVjnjru",
        "colab_type": "text"
      },
      "cell_type": "markdown",
      "source": [
        "### Logistic Regression"
      ]
    },
    {
      "metadata": {
        "id": "m6ntmD1bnjrv",
        "colab_type": "code",
        "colab": {
          "base_uri": "https://localhost:8080/",
          "height": 88
        },
        "outputId": "02dc3bc5-8da6-4953-c845-3a5cf8128aef"
      },
      "cell_type": "code",
      "source": [
        "logr_model = LogisticRegression(random_state=42)\n",
        "param_grid = {'C': np.logspace(-2, 7, 10),\n",
        "             #'penalty': ['l1','l2'],\n",
        "             'tol': np.logspace(-5, -1, 5),\n",
        "             #'solver': ['lbfgs']\n",
        "             #'max_iter': np.linspace(10, 1000, 10)\n",
        "             }\n",
        "logr_cv = RandomizedSearchCV(logr_model, param_distributions=param_grid, cv=5, n_jobs=-1)\n",
        "logr_cv.fit(X_train_final, y_train_final)\n",
        "\n",
        "dump(logr_cv, serialization_objects_folder+'logr_ramdomcv.joblib')"
      ],
      "execution_count": 11,
      "outputs": [
        {
          "output_type": "stream",
          "text": [
            "/usr/local/lib/python3.6/dist-packages/sklearn/linear_model/logistic.py:433: FutureWarning: Default solver will be changed to 'lbfgs' in 0.22. Specify a solver to silence this warning.\n",
            "  FutureWarning)\n"
          ],
          "name": "stderr"
        },
        {
          "output_type": "execute_result",
          "data": {
            "text/plain": [
              "['/content/gdrive/My Drive/UCU-2019-final-project-storage/serialization_objects/logr_ramdomcv.joblib']"
            ]
          },
          "metadata": {
            "tags": []
          },
          "execution_count": 11
        }
      ]
    },
    {
      "metadata": {
        "id": "bFYQKZysnjrx",
        "colab_type": "code",
        "colab": {}
      },
      "cell_type": "code",
      "source": [
        "logr_cv = load(serialization_objects_folder+'logr_ramdomcv.joblib')"
      ],
      "execution_count": 0,
      "outputs": []
    },
    {
      "metadata": {
        "id": "uaJL6KGCnjrz",
        "colab_type": "code",
        "colab": {
          "base_uri": "https://localhost:8080/",
          "height": 34
        },
        "outputId": "b5ded1d5-c83c-49e1-da9c-963519b1a651"
      },
      "cell_type": "code",
      "source": [
        "logr_cv.best_params_"
      ],
      "execution_count": 14,
      "outputs": [
        {
          "output_type": "execute_result",
          "data": {
            "text/plain": [
              "{'C': 10.0, 'tol': 0.0001}"
            ]
          },
          "metadata": {
            "tags": []
          },
          "execution_count": 14
        }
      ]
    },
    {
      "metadata": {
        "id": "nJN2k_HPnjr1",
        "colab_type": "text"
      },
      "cell_type": "markdown",
      "source": [
        "#### Evaluate"
      ]
    },
    {
      "metadata": {
        "id": "4psr30YZnjr1",
        "colab_type": "code",
        "colab": {
          "base_uri": "https://localhost:8080/",
          "height": 173
        },
        "outputId": "3eac8906-d8d9-407d-9e9f-764b6775f713"
      },
      "cell_type": "code",
      "source": [
        "from sklearn.linear_model import LogisticRegression\n",
        "logr_model = LogisticRegression(#solver=logr_cv.best_params_['solver'], \n",
        "                                random_state=42, \n",
        "                                C=logr_cv.best_params_['C'], \n",
        "                                tol=logr_cv.best_params_['tol'], \n",
        "                                #max_iter=logr_cv.best_params_['max_iter'], \n",
        "                                n_jobs=-1)\n",
        "logr_model.fit(X_train_final, y_train_final)"
      ],
      "execution_count": 15,
      "outputs": [
        {
          "output_type": "stream",
          "text": [
            "/usr/local/lib/python3.6/dist-packages/sklearn/linear_model/logistic.py:433: FutureWarning: Default solver will be changed to 'lbfgs' in 0.22. Specify a solver to silence this warning.\n",
            "  FutureWarning)\n",
            "/usr/local/lib/python3.6/dist-packages/sklearn/linear_model/logistic.py:1300: UserWarning: 'n_jobs' > 1 does not have any effect when 'solver' is set to 'liblinear'. Got 'n_jobs' = 2.\n",
            "  \" = {}.\".format(effective_n_jobs(self.n_jobs)))\n"
          ],
          "name": "stderr"
        },
        {
          "output_type": "execute_result",
          "data": {
            "text/plain": [
              "LogisticRegression(C=10.0, class_weight=None, dual=False, fit_intercept=True,\n",
              "          intercept_scaling=1, max_iter=100, multi_class='warn', n_jobs=-1,\n",
              "          penalty='l2', random_state=42, solver='warn', tol=0.0001,\n",
              "          verbose=0, warm_start=False)"
            ]
          },
          "metadata": {
            "tags": []
          },
          "execution_count": 15
        }
      ]
    },
    {
      "metadata": {
        "id": "55gMXIRjnjr3",
        "colab_type": "code",
        "colab": {}
      },
      "cell_type": "code",
      "source": [
        "logr_pred = logr_model.predict(X_test_final)"
      ],
      "execution_count": 0,
      "outputs": []
    },
    {
      "metadata": {
        "id": "-HioK6RexCj-",
        "colab_type": "code",
        "colab": {
          "base_uri": "https://localhost:8080/",
          "height": 34
        },
        "outputId": "147b19c6-9f78-469f-f8d7-9f171a0240eb"
      },
      "cell_type": "code",
      "source": [
        "logr_pred"
      ],
      "execution_count": 47,
      "outputs": [
        {
          "output_type": "execute_result",
          "data": {
            "text/plain": [
              "array([0, 1, 0, ..., 0, 0, 0])"
            ]
          },
          "metadata": {
            "tags": []
          },
          "execution_count": 47
        }
      ]
    },
    {
      "metadata": {
        "id": "7cko_A-Lnjr5",
        "colab_type": "code",
        "colab": {
          "base_uri": "https://localhost:8080/",
          "height": 255
        },
        "outputId": "92e30705-2244-4c3a-b8ae-1abd5db223fc"
      },
      "cell_type": "code",
      "source": [
        "logr_acc_score = accuracy_score(y_test_final, logr_pred)\n",
        "logr_prec_score = precision_score(y_test_final, logr_pred)\n",
        "logr_rec_score = recall_score(y_test_final, logr_pred)\n",
        "logr_log_loss = log_loss(y_test_final, logr_model.predict_proba(X_test_final))\n",
        "print('Logistic Regression')\n",
        "print('accuracy score : {}'.format(logr_acc_score))\n",
        "print('precision score : {}'.format(logr_prec_score))\n",
        "print('recall score : {}'.format(logr_rec_score))\n",
        "print('log loss : {}'.format(logr_log_loss))\n",
        "print(classification_report(y_test_final, logr_pred, target_names=target_names))"
      ],
      "execution_count": 70,
      "outputs": [
        {
          "output_type": "stream",
          "text": [
            "Logistic Regression\n",
            "accuracy score : 0.7519215857505288\n",
            "precision score : 0.773859976267164\n",
            "recall score : 0.46479188726887677\n",
            "log loss : 0.4627793515862453\n",
            "               precision    recall  f1-score   support\n",
            "\n",
            "not duplicate       0.75      0.92      0.82     83725\n",
            "    duplicate       0.77      0.46      0.58     49108\n",
            "\n",
            "    micro avg       0.75      0.75      0.75    132833\n",
            "    macro avg       0.76      0.69      0.70    132833\n",
            " weighted avg       0.76      0.75      0.73    132833\n",
            "\n"
          ],
          "name": "stdout"
        }
      ]
    },
    {
      "metadata": {
        "id": "e5sHSpuxnjr7",
        "colab_type": "code",
        "colab": {
          "base_uri": "https://localhost:8080/",
          "height": 391
        },
        "outputId": "a75728b9-8f1a-4ede-ac71-9340e2737b9e"
      },
      "cell_type": "code",
      "source": [
        "logr_fpr, logr_tpr, _ = roc_curve(y_test_final, logr_pred)\n",
        "logr_roc_auc = auc(logr_fpr, logr_tpr)\n",
        "\n",
        "plot_roc(logr_fpr, logr_tpr, logr_roc_auc)"
      ],
      "execution_count": 46,
      "outputs": [
        {
          "output_type": "display_data",
          "data": {
            "image/png": "[encoded data removed]",
            "text/plain": [
              "<Figure size 598.055x360 with 1 Axes>"
            ]
          },
          "metadata": {
            "tags": []
          }
        }
      ]
    },
    {
      "metadata": {
        "id": "hwmGeRl2vtGr",
        "colab_type": "code",
        "colab": {}
      },
      "cell_type": "code",
      "source": [
        ""
      ],
      "execution_count": 0,
      "outputs": []
    },
    {
      "metadata": {
        "id": "qGRGcG9Onjr_",
        "colab_type": "text"
      },
      "cell_type": "markdown",
      "source": [
        "### Gradient Boosted Machine (XGBoost)"
      ]
    },
    {
      "metadata": {
        "id": "yAUd0SNbnjsA",
        "colab_type": "code",
        "colab": {}
      },
      "cell_type": "code",
      "source": [
        "params_xgb = {'n_estimators' : [1, 2, 4, 8, 16, 32, 64, 100, 200],\n",
        "               'gamma':np.linspace(.01, 1, 10, endpoint=True), \n",
        "               'learning_rate' : np.linspace(.01, 1, 10, endpoint=True),\n",
        "               'reg_lambda': np.linspace(0.01, 10, 20, endpoint=True),\n",
        "               'max_depth' : np.linspace(1, 32, 32, endpoint=True, dtype=int)\n",
        "                 }\n",
        "cv_xgb = RandomizedSearchCV(xgb.XGBClassifier(objective='binary:logistic', random_state=42), param_distributions=params_xgb, cv=5, n_jobs=3, random_state=42)\n",
        "cv_xgb.fit(X_train_final, y_train_final)\n",
        "dump(cv_xgb, serialization_objects_folder+'xgb_ramdomcv.joblib')\n",
        "\n"
      ],
      "execution_count": 0,
      "outputs": []
    },
    {
      "metadata": {
        "id": "__7xpfghnjsD",
        "colab_type": "code",
        "colab": {}
      },
      "cell_type": "code",
      "source": [
        "cv_xgb = load(serialization_objects_folder+'xgb_ramdomcv.joblib')"
      ],
      "execution_count": 0,
      "outputs": []
    },
    {
      "metadata": {
        "id": "_B18sjWxnjsG",
        "colab_type": "code",
        "colab": {}
      },
      "cell_type": "code",
      "source": [
        "cv_xgb.best_params_"
      ],
      "execution_count": 0,
      "outputs": []
    },
    {
      "metadata": {
        "id": "CGSz4BPwnjsJ",
        "colab_type": "text"
      },
      "cell_type": "markdown",
      "source": [
        "#### Evaluate"
      ]
    },
    {
      "metadata": {
        "id": "WP1oShDKnjsK",
        "colab_type": "code",
        "colab": {}
      },
      "cell_type": "code",
      "source": [
        "clf_xgb_model = xgb.XGBClassifier(random_state=42,\n",
        "                                  objective='binary:logistic',\n",
        "                                  n_estimators=cv_xgb.best_params_['n_estimators'],\n",
        "                                  gamma=cv_xgb.best_params_['gamma'],\n",
        "                                  learning_rate=cv_xgb.best_params_['learning_rate'],\n",
        "                                  reg_lambda=cv_xgb.best_params_['reg_lambda'],\n",
        "                                  max_depth=cv_xgb.best_params_['max_depth'],\n",
        "                                  n_jobs=-1)\n",
        "\n",
        "t0 = time.time()\n",
        "clf_xgb_model.fit(X_train_final, y_train_final)\n",
        "t1 = time.time() - t0\n",
        "print(t1)"
      ],
      "execution_count": 0,
      "outputs": []
    },
    {
      "metadata": {
        "id": "W4BmMFXJnjsM",
        "colab_type": "code",
        "colab": {}
      },
      "cell_type": "code",
      "source": [
        "score_xgb = accuracy_score(y_test_final, y_pred_xgb)\n",
        "rscore_xgb = recall_score(y_test_final, y_pred_xgb)\n",
        "pscore_xgb = precision_score(y_test_final, y_pred_xgb)\n",
        "print('Accuracy score for XGBoost ', score_xgb)\n",
        "print('Recall score for XGBoost ', rscore_xgb)\n",
        "print('Precision score for XGBoost ', pscore_xgb)\n",
        "print(classification_report(y_test_final, y_pred_xgb, target_names=target_names))"
      ],
      "execution_count": 0,
      "outputs": []
    },
    {
      "metadata": {
        "id": "KnmwHzOEnjsO",
        "colab_type": "code",
        "colab": {}
      },
      "cell_type": "code",
      "source": [
        "xgb_fpr, xgb_tpr, _ = roc_curve(y_test_final, y_pred_xgb)\n",
        "xgb_roc_auc = auc(xgb_fpr, xgb_tpr)\n",
        "\n",
        "plot_roc(xgb_fpr, xgb_tpr, xgb_roc_auc)"
      ],
      "execution_count": 0,
      "outputs": []
    },
    {
      "metadata": {
        "id": "AezSrrb7njsQ",
        "colab_type": "code",
        "colab": {}
      },
      "cell_type": "code",
      "source": [
        ""
      ],
      "execution_count": 0,
      "outputs": []
    }
  ]
}