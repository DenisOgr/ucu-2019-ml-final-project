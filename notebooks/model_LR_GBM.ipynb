{
 "cells": [
  {
   "cell_type": "code",
   "execution_count": 1,
   "metadata": {},
   "outputs": [],
   "source": [
    "import numpy as np\n",
    "import pickle\n",
    "import pandas as pd\n",
    "from sklearn.metrics import accuracy_score\n",
    "from sklearn.metrics import precision_score\n",
    "from sklearn.metrics import recall_score\n",
    "from sklearn.metrics import classification_report\n",
    "from sklearn.metrics import classification_report\n",
    "from sklearn.metrics import roc_curve, auc\n",
    "import sys\n",
    "sys.path.append('..')\n",
    "from utils.func.functions import build_x\n",
    "from sklearn.linear_model import LogisticRegression\n",
    "from sklearn.model_selection import GridSearchCV, RandomizedSearchCV\n",
    "from joblib import dump, load\n",
    "import xgboost as xgb"
   ]
  },
  {
   "cell_type": "code",
   "execution_count": 2,
   "metadata": {},
   "outputs": [],
   "source": [
    "import os\n",
    "path_to_storage = os.path.abspath(os.path.join(os.getcwd(), '../storage'))\n",
    "\n",
    "### For Google colab (chage dir from local to GDrive)\n",
    "### Mount gdrive and set path to folder\n",
    "# from google.colab import drive\n",
    "# drive.mount('/content/gdrive')\n",
    "# path_to_storage = '/content/gdrive/My Drive/UCU-2019-final-project-storage'\n",
    "\n",
    "data_folder = path_to_storage+'/data/'\n",
    "serialization_objects_folder = path_to_storage+'/serialization_objects/'"
   ]
  },
  {
   "cell_type": "code",
   "execution_count": 3,
   "metadata": {},
   "outputs": [],
   "source": [
    "X_train = pickle.load(open(serialization_objects_folder+'X_train.p', 'rb'))\n",
    "y_train = pickle.load(open(serialization_objects_folder+'y_train.p', 'rb'))\n",
    "\n",
    "X_test = pickle.load(open(serialization_objects_folder+'X_test.p', 'rb'))\n",
    "y_test = pickle.load(open(serialization_objects_folder+'y_test.p', 'rb'))"
   ]
  },
  {
   "cell_type": "code",
   "execution_count": 4,
   "metadata": {},
   "outputs": [],
   "source": [
    "X_train_final = build_x(X_train, data_type='train',data_folder=serialization_objects_folder)\n",
    "y_train_final =  y_train.loc[X_train_final.index]\n",
    "\n",
    "X_test_final = build_x(X_test, data_type='test',data_folder=serialization_objects_folder)\n",
    "y_test_final =  y_test.loc[X_test_final.index]\n",
    "\n",
    "target_names = ['not duplicate', 'duplicate']\n",
    "\n",
    "del X_train, y_train, X_test, y_test"
   ]
  },
  {
   "cell_type": "code",
   "execution_count": 5,
   "metadata": {},
   "outputs": [
    {
     "data": {
      "text/html": [
       "<div>\n",
       "<style scoped>\n",
       "    .dataframe tbody tr th:only-of-type {\n",
       "        vertical-align: middle;\n",
       "    }\n",
       "\n",
       "    .dataframe tbody tr th {\n",
       "        vertical-align: top;\n",
       "    }\n",
       "\n",
       "    .dataframe thead th {\n",
       "        text-align: right;\n",
       "    }\n",
       "</style>\n",
       "<table border=\"1\" class=\"dataframe\">\n",
       "  <thead>\n",
       "    <tr style=\"text-align: right;\">\n",
       "      <th></th>\n",
       "      <th>chebyshev</th>\n",
       "      <th>braycurtis</th>\n",
       "      <th>cosine</th>\n",
       "      <th>correlation</th>\n",
       "      <th>canberra</th>\n",
       "      <th>hausdorff</th>\n",
       "      <th>cityblock</th>\n",
       "      <th>euclidean</th>\n",
       "      <th>l1</th>\n",
       "      <th>l2</th>\n",
       "      <th>manhattan</th>\n",
       "      <th>minkowski</th>\n",
       "      <th>sqeuclidean</th>\n",
       "    </tr>\n",
       "    <tr>\n",
       "      <th>id</th>\n",
       "      <th></th>\n",
       "      <th></th>\n",
       "      <th></th>\n",
       "      <th></th>\n",
       "      <th></th>\n",
       "      <th></th>\n",
       "      <th></th>\n",
       "      <th></th>\n",
       "      <th></th>\n",
       "      <th></th>\n",
       "      <th></th>\n",
       "      <th></th>\n",
       "      <th></th>\n",
       "    </tr>\n",
       "  </thead>\n",
       "  <tbody>\n",
       "    <tr>\n",
       "      <th>243973</th>\n",
       "      <td>1.951959</td>\n",
       "      <td>0.846303</td>\n",
       "      <td>0.786173</td>\n",
       "      <td>0.785448</td>\n",
       "      <td>208.590857</td>\n",
       "      <td>14.066590</td>\n",
       "      <td>156.863274</td>\n",
       "      <td>11.348117</td>\n",
       "      <td>156.863274</td>\n",
       "      <td>11.348117</td>\n",
       "      <td>156.863274</td>\n",
       "      <td>11.348117</td>\n",
       "      <td>161.186004</td>\n",
       "    </tr>\n",
       "    <tr>\n",
       "      <th>82523</th>\n",
       "      <td>2.728833</td>\n",
       "      <td>0.824428</td>\n",
       "      <td>0.805639</td>\n",
       "      <td>0.805558</td>\n",
       "      <td>192.825788</td>\n",
       "      <td>12.275682</td>\n",
       "      <td>220.302082</td>\n",
       "      <td>15.971490</td>\n",
       "      <td>220.302082</td>\n",
       "      <td>15.971490</td>\n",
       "      <td>220.302082</td>\n",
       "      <td>15.970894</td>\n",
       "      <td>292.239386</td>\n",
       "    </tr>\n",
       "    <tr>\n",
       "      <th>373083</th>\n",
       "      <td>2.212937</td>\n",
       "      <td>0.829389</td>\n",
       "      <td>0.805070</td>\n",
       "      <td>0.804911</td>\n",
       "      <td>197.535168</td>\n",
       "      <td>8.169445</td>\n",
       "      <td>174.928238</td>\n",
       "      <td>12.749504</td>\n",
       "      <td>174.928238</td>\n",
       "      <td>12.749504</td>\n",
       "      <td>174.928238</td>\n",
       "      <td>12.749175</td>\n",
       "      <td>191.428591</td>\n",
       "    </tr>\n",
       "    <tr>\n",
       "      <th>145241</th>\n",
       "      <td>2.957288</td>\n",
       "      <td>0.760158</td>\n",
       "      <td>0.690485</td>\n",
       "      <td>0.688195</td>\n",
       "      <td>192.530215</td>\n",
       "      <td>14.008953</td>\n",
       "      <td>225.627409</td>\n",
       "      <td>16.318958</td>\n",
       "      <td>225.627409</td>\n",
       "      <td>16.318958</td>\n",
       "      <td>225.627409</td>\n",
       "      <td>16.318790</td>\n",
       "      <td>295.532763</td>\n",
       "    </tr>\n",
       "    <tr>\n",
       "      <th>227393</th>\n",
       "      <td>3.150512</td>\n",
       "      <td>0.753183</td>\n",
       "      <td>0.749205</td>\n",
       "      <td>0.748741</td>\n",
       "      <td>174.930979</td>\n",
       "      <td>17.595565</td>\n",
       "      <td>240.385828</td>\n",
       "      <td>17.358189</td>\n",
       "      <td>240.385828</td>\n",
       "      <td>17.358189</td>\n",
       "      <td>240.385828</td>\n",
       "      <td>17.357826</td>\n",
       "      <td>359.165030</td>\n",
       "    </tr>\n",
       "  </tbody>\n",
       "</table>\n",
       "</div>"
      ],
      "text/plain": [
       "        chebyshev  braycurtis    cosine  correlation    canberra  hausdorff  \\\n",
       "id                                                                            \n",
       "243973   1.951959    0.846303  0.786173     0.785448  208.590857  14.066590   \n",
       "82523    2.728833    0.824428  0.805639     0.805558  192.825788  12.275682   \n",
       "373083   2.212937    0.829389  0.805070     0.804911  197.535168   8.169445   \n",
       "145241   2.957288    0.760158  0.690485     0.688195  192.530215  14.008953   \n",
       "227393   3.150512    0.753183  0.749205     0.748741  174.930979  17.595565   \n",
       "\n",
       "         cityblock  euclidean          l1         l2   manhattan  minkowski  \\\n",
       "id                                                                            \n",
       "243973  156.863274  11.348117  156.863274  11.348117  156.863274  11.348117   \n",
       "82523   220.302082  15.971490  220.302082  15.971490  220.302082  15.970894   \n",
       "373083  174.928238  12.749504  174.928238  12.749504  174.928238  12.749175   \n",
       "145241  225.627409  16.318958  225.627409  16.318958  225.627409  16.318790   \n",
       "227393  240.385828  17.358189  240.385828  17.358189  240.385828  17.357826   \n",
       "\n",
       "        sqeuclidean  \n",
       "id                   \n",
       "243973   161.186004  \n",
       "82523    292.239386  \n",
       "373083   191.428591  \n",
       "145241   295.532763  \n",
       "227393   359.165030  "
      ]
     },
     "execution_count": 5,
     "metadata": {},
     "output_type": "execute_result"
    }
   ],
   "source": [
    "X_train_final.head()"
   ]
  },
  {
   "cell_type": "code",
   "execution_count": 6,
   "metadata": {},
   "outputs": [
    {
     "data": {
      "text/plain": [
       "((270823, 13), (270823,))"
      ]
     },
     "execution_count": 6,
     "metadata": {},
     "output_type": "execute_result"
    }
   ],
   "source": [
    "X_train_final.shape, y_train_final.shape"
   ]
  },
  {
   "cell_type": "code",
   "execution_count": 8,
   "metadata": {},
   "outputs": [
    {
     "data": {
      "text/plain": [
       "((133397, 13), (133397,))"
      ]
     },
     "execution_count": 8,
     "metadata": {},
     "output_type": "execute_result"
    }
   ],
   "source": [
    "X_test_final.shape, y_test_final.shape"
   ]
  },
  {
   "cell_type": "markdown",
   "metadata": {},
   "source": [
    "### Logistic Regression"
   ]
  },
  {
   "cell_type": "code",
   "execution_count": null,
   "metadata": {},
   "outputs": [],
   "source": [
    "logr_model = LogisticRegression(random_state=42)\n",
    "param_grid = {'C': np.logspace(-2, 7, 10),\n",
    "             #'penalty': ['l1','l2'],\n",
    "             'tol': np.logspace(-5, -1, 5),\n",
    "             #'solver': ['lbfgs']\n",
    "             #'max_iter': np.linspace(10, 1000, 10)\n",
    "             }\n",
    "logr_cv = RandomizedSearchCV(logr_model, param_distributions=param_grid, cv=5, n_jobs=-1)\n",
    "logr_cv.fit(X_train_final, y_train_final)\n",
    "\n",
    "dump(logr_cv, serialization_objects_folder+'logr_ramdomcv.joblib')"
   ]
  },
  {
   "cell_type": "code",
   "execution_count": null,
   "metadata": {},
   "outputs": [],
   "source": [
    "logr_cv = load(input_folder+'logr_ramdomcv.joblib')"
   ]
  },
  {
   "cell_type": "code",
   "execution_count": null,
   "metadata": {},
   "outputs": [],
   "source": [
    "logr_cv.best_params_"
   ]
  },
  {
   "cell_type": "markdown",
   "metadata": {},
   "source": [
    "#### Evaluate"
   ]
  },
  {
   "cell_type": "code",
   "execution_count": null,
   "metadata": {},
   "outputs": [],
   "source": [
    "from sklearn.linear_model import LogisticRegression\n",
    "logr_model = LogisticRegression(#solver=logr_cv.best_params_['solver'], \n",
    "                                random_state=42, \n",
    "                                C=logr_cv.best_params_['C'], \n",
    "                                tol=logr_cv.best_params_['tol'], \n",
    "                                #max_iter=logr_cv.best_params_['max_iter'], \n",
    "                                n_jobs=-1)\n",
    "logr_model.fit(X_train_final, y_train_final)"
   ]
  },
  {
   "cell_type": "code",
   "execution_count": null,
   "metadata": {},
   "outputs": [],
   "source": [
    "logr_pred = logr_model.predict(X_test_final)"
   ]
  },
  {
   "cell_type": "code",
   "execution_count": null,
   "metadata": {},
   "outputs": [],
   "source": [
    "logr_acc_score = accuracy_score(y_test_final, logr_pred)\n",
    "logr_prec_score = precision_score(y_test_final, logr_pred)\n",
    "logr_rec_score = recall_score(y_test_final, logr_pred)\n",
    "print('Logistic Regression')\n",
    "print('accuracy score : {}'.format(logr_acc_score))\n",
    "print('precision score : {}'.format(logr_prec_score))\n",
    "print('recall score : {}'.format(logr_rec_score))\n",
    "print(classification_report(y_test_final, logr_pred, target_names=target_names))"
   ]
  },
  {
   "cell_type": "code",
   "execution_count": null,
   "metadata": {},
   "outputs": [],
   "source": [
    "logr_fpr, logr_tpr, _ = roc_curve(y_test_final, logr_pred)\n",
    "logr_roc_auc = auc(logr_fpr, logr_tpr)\n",
    "\n",
    "plot_roc(logr_fpr, logr_tpr, logr_roc_auc)"
   ]
  },
  {
   "cell_type": "markdown",
   "metadata": {},
   "source": [
    "### Gradient Boosted Machine (XGBoost)"
   ]
  },
  {
   "cell_type": "code",
   "execution_count": null,
   "metadata": {},
   "outputs": [],
   "source": [
    "params_xgb = {'n_estimators' : [1, 2, 4, 8, 16, 32, 64, 100, 200],\n",
    "               'gamma':np.linspace(.01, 1, 10, endpoint=True), \n",
    "               'learning_rate' : np.linspace(.01, 1, 10, endpoint=True),\n",
    "               'reg_lambda': np.linspace(0.01, 10, 20, endpoint=True),\n",
    "               'max_depth' : np.linspace(1, 32, 32, endpoint=True, dtype=int)\n",
    "                 }\n",
    "cv_xgb = RandomizedSearchCV(xgb.XGBClassifier(objective='binary:logistic', random_state=42), param_distributions=params_xgb, cv=5, n_jobs=3, random_state=42)\n",
    "cv_xgb.fit(X_train_final, y_train_final)\n",
    "dump(cv_xgb, serialization_objects_folder+'xgb_ramdomcv.joblib')\n",
    "\n"
   ]
  },
  {
   "cell_type": "code",
   "execution_count": null,
   "metadata": {},
   "outputs": [],
   "source": [
    "cv_xgb = load(serialization_objects_folder+'xgb_ramdomcv.joblib')"
   ]
  },
  {
   "cell_type": "code",
   "execution_count": null,
   "metadata": {},
   "outputs": [],
   "source": [
    "cv_xgb.best_params_"
   ]
  },
  {
   "cell_type": "markdown",
   "metadata": {},
   "source": [
    "#### Evaluate"
   ]
  },
  {
   "cell_type": "code",
   "execution_count": null,
   "metadata": {},
   "outputs": [],
   "source": [
    "clf_xgb_model = xgb.XGBClassifier(random_state=42,\n",
    "                                  objective='binary:logistic',\n",
    "                                  n_estimators=cv_xgb.best_params_['n_estimators'],\n",
    "                                  gamma=cv_xgb.best_params_['gamma'],\n",
    "                                  learning_rate=cv_xgb.best_params_['learning_rate'],\n",
    "                                  reg_lambda=cv_xgb.best_params_['reg_lambda'],\n",
    "                                  max_depth=cv_xgb.best_params_['max_depth'],\n",
    "                                  n_jobs=-1)\n",
    "\n",
    "t0 = time.time()\n",
    "clf_xgb_model.fit(X_train_final, y_train_final)\n",
    "t1 = time.time() - t0\n",
    "print(t1)"
   ]
  },
  {
   "cell_type": "code",
   "execution_count": null,
   "metadata": {},
   "outputs": [],
   "source": [
    "score_xgb = accuracy_score(y_test_final, y_pred_xgb)\n",
    "rscore_xgb = recall_score(y_test_final, y_pred_xgb)\n",
    "pscore_xgb = precision_score(y_test_final, y_pred_xgb)\n",
    "print('Accuracy score for XGBoost ', score_xgb)\n",
    "print('Recall score for XGBoost ', rscore_xgb)\n",
    "print('Precision score for XGBoost ', pscore_xgb)\n",
    "print(classification_report(y_test_final, y_pred_xgb, target_names=target_names))"
   ]
  },
  {
   "cell_type": "code",
   "execution_count": null,
   "metadata": {},
   "outputs": [],
   "source": [
    "xgb_fpr, xgb_tpr, _ = roc_curve(y_test_final, y_pred_xgb)\n",
    "xgb_roc_auc = auc(xgb_fpr, xgb_tpr)\n",
    "\n",
    "plot_roc(xgb_fpr, xgb_tpr, xgb_roc_auc)"
   ]
  },
  {
   "cell_type": "code",
   "execution_count": null,
   "metadata": {},
   "outputs": [],
   "source": []
  }
 ],
 "metadata": {
  "kernelspec": {
   "display_name": "ucu-2019-ml-final-project",
   "language": "python",
   "name": "myenv"
  },
  "language_info": {
   "codemirror_mode": {
    "name": "ipython",
    "version": 3
   },
   "file_extension": ".py",
   "mimetype": "text/x-python",
   "name": "python",
   "nbconvert_exporter": "python",
   "pygments_lexer": "ipython3",
   "version": "3.6.7"
  }
 },
 "nbformat": 4,
 "nbformat_minor": 2
}
