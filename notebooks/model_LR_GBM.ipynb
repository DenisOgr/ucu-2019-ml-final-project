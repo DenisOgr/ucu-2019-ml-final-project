{
 "cells": [
  {
   "cell_type": "markdown",
   "metadata": {
    "colab_type": "text",
    "id": "vQfZodlGnjrW"
   },
   "source": [
    "## Modeling"
   ]
  },
  {
   "cell_type": "code",
   "execution_count": 1,
   "metadata": {
    "colab": {
     "base_uri": "https://localhost:8080/",
     "height": 122
    },
    "colab_type": "code",
    "id": "3V4Y3f8SnjrY",
    "outputId": "10845dc6-5a16-419c-a827-ab8a9853c112"
   },
   "outputs": [
    {
     "name": "stdout",
     "output_type": "stream",
     "text": [
      "Go to this URL in a browser: https://accounts.google.com/o/oauth2/auth?client_id=947318989803-6bn6qk8qdgf4n4g3pfee6491hc0brc4i.apps.googleusercontent.com&redirect_uri=urn%3Aietf%3Awg%3Aoauth%3A2.0%3Aoob&scope=email%20https%3A%2F%2Fwww.googleapis.com%2Fauth%2Fdocs.test%20https%3A%2F%2Fwww.googleapis.com%2Fauth%2Fdrive%20https%3A%2F%2Fwww.googleapis.com%2Fauth%2Fdrive.photos.readonly%20https%3A%2F%2Fwww.googleapis.com%2Fauth%2Fpeopleapi.readonly&response_type=code\n",
      "\n",
      "Enter your authorization code:\n",
      "··········\n",
      "Mounted at /content/gdrive\n"
     ]
    }
   ],
   "source": [
    "#Google Colab needs\n",
    "import os\n",
    "import sys\n",
    "def isCollab():\n",
    "    return os.environ.get('COLAB_GPU', None) != None\n",
    "\n",
    "if isCollab():\n",
    "    #Mounting GDrive disc\n",
    "    from google.colab import drive\n",
    "    drive.mount('/content/gdrive')\n",
    "    path_to_storage = '/content/gdrive/My Drive/UCU-2019-final-project-storage'\n",
    "\n",
    "    #Append path where custom modules stored. I put custom modules to GDrive disc\n",
    "    path_to_modules = '/content/gdrive/My Drive/UCU-2019-final-project-storage'\n",
    "    sys.path.append(path_to_modules)\n",
    "else:\n",
    "    sys.path.append('..')\n",
    "    path_to_storage = None"
   ]
  },
  {
   "cell_type": "code",
   "execution_count": 0,
   "metadata": {
    "colab": {},
    "colab_type": "code",
    "collapsed": true,
    "id": "5QpwA2wCnjrc"
   },
   "outputs": [],
   "source": [
    "import numpy as np\n",
    "import pickle\n",
    "import pandas as pd\n",
    "from sklearn.metrics import accuracy_score\n",
    "from sklearn.metrics import precision_score\n",
    "from sklearn.metrics import recall_score\n",
    "from sklearn.metrics import classification_report\n",
    "from sklearn.metrics import classification_report\n",
    "from sklearn.metrics import roc_curve, auc\n",
    "from sklearn.metrics import log_loss\n",
    "import sys\n",
    "sys.path.append('..')\n",
    "from utils.func.functions import build_x, plot_roc\n",
    "from sklearn.linear_model import LogisticRegression\n",
    "from sklearn.model_selection import GridSearchCV, RandomizedSearchCV\n",
    "from joblib import dump, load\n",
    "import xgboost as xgb\n",
    "from sklearn.model_selection import KFold "
   ]
  },
  {
   "cell_type": "code",
   "execution_count": 0,
   "metadata": {
    "colab": {},
    "colab_type": "code",
    "collapsed": true,
    "id": "huAkNtoSnjre"
   },
   "outputs": [],
   "source": [
    "if not path_to_storage:\n",
    "    path_to_storage = os.path.abspath(os.path.join(os.getcwd(), '../storage')) \n",
    "\n",
    "data_folder = path_to_storage+'/data/'\n",
    "serialization_objects_folder = path_to_storage+'/serialization_objects/'"
   ]
  },
  {
   "cell_type": "code",
   "execution_count": 0,
   "metadata": {
    "colab": {},
    "colab_type": "code",
    "collapsed": true,
    "id": "0WyCBoxznjrg"
   },
   "outputs": [],
   "source": [
    "X_train = pickle.load(open(serialization_objects_folder+'X_train.p', 'rb'))\n",
    "y_train = pickle.load(open(serialization_objects_folder+'y_train.p', 'rb'))\n",
    "\n",
    "X_test = pickle.load(open(serialization_objects_folder+'X_test.p', 'rb'))\n",
    "y_test = pickle.load(open(serialization_objects_folder+'y_test.p', 'rb'))"
   ]
  },
  {
   "cell_type": "code",
   "execution_count": 0,
   "metadata": {
    "colab": {},
    "colab_type": "code",
    "collapsed": true,
    "id": "sEkW9wdOnjri"
   },
   "outputs": [],
   "source": [
    "X_train_final = build_x(X_train, data_type='train',data_folder=serialization_objects_folder)\n",
    "y_train_final =  y_train.loc[X_train_final.index]\n",
    "\n",
    "X_test_final = build_x(X_test, data_type='test',data_folder=serialization_objects_folder)\n",
    "y_test_final =  y_test.loc[X_test_final.index]\n",
    "\n",
    "target_names = ['not duplicate', 'duplicate']\n",
    "\n",
    "del X_train, y_train, X_test, y_test"
   ]
  },
  {
   "cell_type": "code",
   "execution_count": 6,
   "metadata": {
    "colab": {
     "base_uri": "https://localhost:8080/",
     "height": 284
    },
    "colab_type": "code",
    "id": "f-IKoTTsnjrk",
    "outputId": "7d5827db-ca1c-4e2b-fe90-710eaac509bb"
   },
   "outputs": [
    {
     "data": {
      "text/html": [
       "<div>\n",
       "<style scoped>\n",
       "    .dataframe tbody tr th:only-of-type {\n",
       "        vertical-align: middle;\n",
       "    }\n",
       "\n",
       "    .dataframe tbody tr th {\n",
       "        vertical-align: top;\n",
       "    }\n",
       "\n",
       "    .dataframe thead th {\n",
       "        text-align: right;\n",
       "    }\n",
       "</style>\n",
       "<table border=\"1\" class=\"dataframe\">\n",
       "  <thead>\n",
       "    <tr style=\"text-align: right;\">\n",
       "      <th></th>\n",
       "      <th>chebyshev</th>\n",
       "      <th>braycurtis</th>\n",
       "      <th>cosine</th>\n",
       "      <th>correlation</th>\n",
       "      <th>canberra</th>\n",
       "      <th>hausdorff</th>\n",
       "      <th>cityblock</th>\n",
       "      <th>euclidean</th>\n",
       "      <th>l1</th>\n",
       "      <th>l2</th>\n",
       "      <th>...</th>\n",
       "      <th>minkowski_distance</th>\n",
       "      <th>braycurtis_distance</th>\n",
       "      <th>len_diff</th>\n",
       "      <th>token_sort_ratio</th>\n",
       "      <th>token_ratio</th>\n",
       "      <th>intersection_ratio</th>\n",
       "      <th>token_set_ratio</th>\n",
       "      <th>partial_ratio</th>\n",
       "      <th>n_capital_letters_diff</th>\n",
       "      <th>n_question_marks_diff</th>\n",
       "    </tr>\n",
       "    <tr>\n",
       "      <th>id</th>\n",
       "      <th></th>\n",
       "      <th></th>\n",
       "      <th></th>\n",
       "      <th></th>\n",
       "      <th></th>\n",
       "      <th></th>\n",
       "      <th></th>\n",
       "      <th></th>\n",
       "      <th></th>\n",
       "      <th></th>\n",
       "      <th></th>\n",
       "      <th></th>\n",
       "      <th></th>\n",
       "      <th></th>\n",
       "      <th></th>\n",
       "      <th></th>\n",
       "      <th></th>\n",
       "      <th></th>\n",
       "      <th></th>\n",
       "      <th></th>\n",
       "      <th></th>\n",
       "    </tr>\n",
       "  </thead>\n",
       "  <tbody>\n",
       "    <tr>\n",
       "      <th>92217</th>\n",
       "      <td>2.729636</td>\n",
       "      <td>0.759858</td>\n",
       "      <td>0.751682</td>\n",
       "      <td>0.750155</td>\n",
       "      <td>173.690816</td>\n",
       "      <td>13.259182</td>\n",
       "      <td>211.660137</td>\n",
       "      <td>15.311931</td>\n",
       "      <td>211.660137</td>\n",
       "      <td>15.311931</td>\n",
       "      <td>...</td>\n",
       "      <td>0.261045</td>\n",
       "      <td>0.300964</td>\n",
       "      <td>3</td>\n",
       "      <td>69</td>\n",
       "      <td>64</td>\n",
       "      <td>0.727273</td>\n",
       "      <td>73</td>\n",
       "      <td>64</td>\n",
       "      <td>3</td>\n",
       "      <td>0</td>\n",
       "    </tr>\n",
       "    <tr>\n",
       "      <th>191143</th>\n",
       "      <td>2.438973</td>\n",
       "      <td>0.799996</td>\n",
       "      <td>0.780621</td>\n",
       "      <td>0.780265</td>\n",
       "      <td>192.049100</td>\n",
       "      <td>16.955406</td>\n",
       "      <td>185.418989</td>\n",
       "      <td>13.431730</td>\n",
       "      <td>185.418989</td>\n",
       "      <td>13.431730</td>\n",
       "      <td>...</td>\n",
       "      <td>0.277733</td>\n",
       "      <td>0.325870</td>\n",
       "      <td>34</td>\n",
       "      <td>56</td>\n",
       "      <td>57</td>\n",
       "      <td>0.222222</td>\n",
       "      <td>86</td>\n",
       "      <td>71</td>\n",
       "      <td>0</td>\n",
       "      <td>0</td>\n",
       "    </tr>\n",
       "    <tr>\n",
       "      <th>22640</th>\n",
       "      <td>2.565702</td>\n",
       "      <td>0.792729</td>\n",
       "      <td>0.788820</td>\n",
       "      <td>0.788732</td>\n",
       "      <td>179.274516</td>\n",
       "      <td>15.473444</td>\n",
       "      <td>196.146957</td>\n",
       "      <td>14.203418</td>\n",
       "      <td>196.146957</td>\n",
       "      <td>14.203418</td>\n",
       "      <td>...</td>\n",
       "      <td>0.200047</td>\n",
       "      <td>0.216731</td>\n",
       "      <td>2</td>\n",
       "      <td>83</td>\n",
       "      <td>87</td>\n",
       "      <td>0.666667</td>\n",
       "      <td>89</td>\n",
       "      <td>85</td>\n",
       "      <td>0</td>\n",
       "      <td>0</td>\n",
       "    </tr>\n",
       "    <tr>\n",
       "      <th>348814</th>\n",
       "      <td>3.379172</td>\n",
       "      <td>0.829099</td>\n",
       "      <td>0.820800</td>\n",
       "      <td>0.819331</td>\n",
       "      <td>185.900484</td>\n",
       "      <td>18.955211</td>\n",
       "      <td>252.847026</td>\n",
       "      <td>18.344742</td>\n",
       "      <td>252.847026</td>\n",
       "      <td>18.344742</td>\n",
       "      <td>...</td>\n",
       "      <td>0.338221</td>\n",
       "      <td>0.406219</td>\n",
       "      <td>21</td>\n",
       "      <td>61</td>\n",
       "      <td>51</td>\n",
       "      <td>0.444444</td>\n",
       "      <td>83</td>\n",
       "      <td>57</td>\n",
       "      <td>2</td>\n",
       "      <td>1</td>\n",
       "    </tr>\n",
       "    <tr>\n",
       "      <th>259163</th>\n",
       "      <td>2.269326</td>\n",
       "      <td>0.863334</td>\n",
       "      <td>0.839565</td>\n",
       "      <td>0.839250</td>\n",
       "      <td>208.263951</td>\n",
       "      <td>8.215338</td>\n",
       "      <td>178.386413</td>\n",
       "      <td>13.011399</td>\n",
       "      <td>178.386413</td>\n",
       "      <td>13.011399</td>\n",
       "      <td>...</td>\n",
       "      <td>0.224956</td>\n",
       "      <td>0.257012</td>\n",
       "      <td>43</td>\n",
       "      <td>65</td>\n",
       "      <td>65</td>\n",
       "      <td>0.444444</td>\n",
       "      <td>97</td>\n",
       "      <td>93</td>\n",
       "      <td>0</td>\n",
       "      <td>0</td>\n",
       "    </tr>\n",
       "  </tbody>\n",
       "</table>\n",
       "<p>5 rows × 29 columns</p>\n",
       "</div>"
      ],
      "text/plain": [
       "        chebyshev  braycurtis    cosine  correlation    canberra  hausdorff  \\\n",
       "id                                                                            \n",
       "92217    2.729636    0.759858  0.751682     0.750155  173.690816  13.259182   \n",
       "191143   2.438973    0.799996  0.780621     0.780265  192.049100  16.955406   \n",
       "22640    2.565702    0.792729  0.788820     0.788732  179.274516  15.473444   \n",
       "348814   3.379172    0.829099  0.820800     0.819331  185.900484  18.955211   \n",
       "259163   2.269326    0.863334  0.839565     0.839250  208.263951   8.215338   \n",
       "\n",
       "         cityblock  euclidean          l1         l2  ...  minkowski_distance  \\\n",
       "id                                                    ...                       \n",
       "92217   211.660137  15.311931  211.660137  15.311931  ...            0.261045   \n",
       "191143  185.418989  13.431730  185.418989  13.431730  ...            0.277733   \n",
       "22640   196.146957  14.203418  196.146957  14.203418  ...            0.200047   \n",
       "348814  252.847026  18.344742  252.847026  18.344742  ...            0.338221   \n",
       "259163  178.386413  13.011399  178.386413  13.011399  ...            0.224956   \n",
       "\n",
       "        braycurtis_distance  len_diff  token_sort_ratio  token_ratio  \\\n",
       "id                                                                     \n",
       "92217              0.300964         3                69           64   \n",
       "191143             0.325870        34                56           57   \n",
       "22640              0.216731         2                83           87   \n",
       "348814             0.406219        21                61           51   \n",
       "259163             0.257012        43                65           65   \n",
       "\n",
       "        intersection_ratio  token_set_ratio  partial_ratio  \\\n",
       "id                                                           \n",
       "92217             0.727273               73             64   \n",
       "191143            0.222222               86             71   \n",
       "22640             0.666667               89             85   \n",
       "348814            0.444444               83             57   \n",
       "259163            0.444444               97             93   \n",
       "\n",
       "        n_capital_letters_diff  n_question_marks_diff  \n",
       "id                                                     \n",
       "92217                        3                      0  \n",
       "191143                       0                      0  \n",
       "22640                        0                      0  \n",
       "348814                       2                      1  \n",
       "259163                       0                      0  \n",
       "\n",
       "[5 rows x 29 columns]"
      ]
     },
     "execution_count": 6,
     "metadata": {
      "tags": []
     },
     "output_type": "execute_result"
    }
   ],
   "source": [
    "X_test_final.head()"
   ]
  },
  {
   "cell_type": "code",
   "execution_count": 7,
   "metadata": {
    "colab": {
     "base_uri": "https://localhost:8080/",
     "height": 34
    },
    "colab_type": "code",
    "id": "Jve3sRfrn9TK",
    "outputId": "81480745-2cd2-4deb-ece7-ec33565010f7"
   },
   "outputs": [
    {
     "data": {
      "text/plain": [
       "29"
      ]
     },
     "execution_count": 7,
     "metadata": {
      "tags": []
     },
     "output_type": "execute_result"
    }
   ],
   "source": [
    "len(X_train_final.columns)\n"
   ]
  },
  {
   "cell_type": "code",
   "execution_count": 8,
   "metadata": {
    "colab": {
     "base_uri": "https://localhost:8080/",
     "height": 34
    },
    "colab_type": "code",
    "id": "065b7tjlnjrp",
    "outputId": "c3cf7d80-0f1a-4e9d-a8bc-ac9643bcbbb2"
   },
   "outputs": [
    {
     "data": {
      "text/plain": [
       "((269633, 29), (269633,))"
      ]
     },
     "execution_count": 8,
     "metadata": {
      "tags": []
     },
     "output_type": "execute_result"
    }
   ],
   "source": [
    "X_train_final.shape, y_train_final.shape"
   ]
  },
  {
   "cell_type": "code",
   "execution_count": 9,
   "metadata": {
    "colab": {
     "base_uri": "https://localhost:8080/",
     "height": 34
    },
    "colab_type": "code",
    "id": "6VizhVoOnjrs",
    "outputId": "61326a99-cf0f-47f4-af10-dde5075cec56"
   },
   "outputs": [
    {
     "data": {
      "text/plain": [
       "((132833, 29), (132833,))"
      ]
     },
     "execution_count": 9,
     "metadata": {
      "tags": []
     },
     "output_type": "execute_result"
    }
   ],
   "source": [
    "X_test_final.shape, y_test_final.shape"
   ]
  },
  {
   "cell_type": "markdown",
   "metadata": {
    "colab_type": "text",
    "id": "1IB0aHVjnjru"
   },
   "source": [
    "### Logistic Regression"
   ]
  },
  {
   "cell_type": "code",
   "execution_count": 0,
   "metadata": {
    "colab": {},
    "colab_type": "code",
    "collapsed": true,
    "id": "m6ntmD1bnjrv"
   },
   "outputs": [],
   "source": [
    "logr_model = LogisticRegression(random_state=42)\n",
    "param_grid = {'C': np.logspace(-2, 7, 10),\n",
    "             #'penalty': ['l1','l2'],\n",
    "             'tol': np.logspace(-5, -1, 5),\n",
    "             #'solver': ['lbfgs']\n",
    "             #'max_iter': np.linspace(10, 1000, 10)\n",
    "             }\n",
    "logr_cv = RandomizedSearchCV(logr_model, param_distributions=param_grid, cv=5, n_jobs=-1)\n",
    "logr_cv.fit(X_train_final, y_train_final)\n",
    "\n",
    "dump(logr_cv, serialization_objects_folder+'logr_ramdomcv.joblib')"
   ]
  },
  {
   "cell_type": "code",
   "execution_count": 0,
   "metadata": {
    "colab": {},
    "colab_type": "code",
    "collapsed": true,
    "id": "bFYQKZysnjrx"
   },
   "outputs": [],
   "source": [
    "logr_cv = load(serialization_objects_folder+'logr_ramdomcv.joblib')"
   ]
  },
  {
   "cell_type": "code",
   "execution_count": 12,
   "metadata": {
    "colab": {
     "base_uri": "https://localhost:8080/",
     "height": 34
    },
    "colab_type": "code",
    "id": "uaJL6KGCnjrz",
    "outputId": "871943f8-7106-487c-cac8-1b9c5fa1c0b8"
   },
   "outputs": [
    {
     "data": {
      "text/plain": [
       "{'C': 10.0, 'tol': 0.0001}"
      ]
     },
     "execution_count": 12,
     "metadata": {
      "tags": []
     },
     "output_type": "execute_result"
    }
   ],
   "source": [
    "logr_cv.best_params_"
   ]
  },
  {
   "cell_type": "markdown",
   "metadata": {
    "colab_type": "text",
    "id": "nJN2k_HPnjr1"
   },
   "source": [
    "#### Evaluate"
   ]
  },
  {
   "cell_type": "code",
   "execution_count": 13,
   "metadata": {
    "colab": {
     "base_uri": "https://localhost:8080/",
     "height": 173
    },
    "colab_type": "code",
    "id": "4psr30YZnjr1",
    "outputId": "ae4520d9-628b-4bef-b821-b3610923880f"
   },
   "outputs": [
    {
     "name": "stderr",
     "output_type": "stream",
     "text": [
      "/usr/local/lib/python3.6/dist-packages/sklearn/linear_model/logistic.py:433: FutureWarning: Default solver will be changed to 'lbfgs' in 0.22. Specify a solver to silence this warning.\n",
      "  FutureWarning)\n",
      "/usr/local/lib/python3.6/dist-packages/sklearn/linear_model/logistic.py:1300: UserWarning: 'n_jobs' > 1 does not have any effect when 'solver' is set to 'liblinear'. Got 'n_jobs' = 2.\n",
      "  \" = {}.\".format(effective_n_jobs(self.n_jobs)))\n"
     ]
    },
    {
     "data": {
      "text/plain": [
       "LogisticRegression(C=10.0, class_weight=None, dual=False, fit_intercept=True,\n",
       "          intercept_scaling=1, max_iter=100, multi_class='warn', n_jobs=-1,\n",
       "          penalty='l2', random_state=42, solver='warn', tol=0.0001,\n",
       "          verbose=0, warm_start=False)"
      ]
     },
     "execution_count": 13,
     "metadata": {
      "tags": []
     },
     "output_type": "execute_result"
    }
   ],
   "source": [
    "from sklearn.linear_model import LogisticRegression\n",
    "logr_model = LogisticRegression(#solver=logr_cv.best_params_['solver'], \n",
    "                                random_state=42, \n",
    "                                C=logr_cv.best_params_['C'], \n",
    "                                tol=logr_cv.best_params_['tol'], \n",
    "                                #max_iter=logr_cv.best_params_['max_iter'], \n",
    "                                n_jobs=-1)\n",
    "logr_model.fit(X_train_final, y_train_final)"
   ]
  },
  {
   "cell_type": "code",
   "execution_count": 0,
   "metadata": {
    "colab": {},
    "colab_type": "code",
    "collapsed": true,
    "id": "55gMXIRjnjr3"
   },
   "outputs": [],
   "source": [
    "logr_pred = logr_model.predict(X_test_final)"
   ]
  },
  {
   "cell_type": "code",
   "execution_count": 15,
   "metadata": {
    "colab": {
     "base_uri": "https://localhost:8080/",
     "height": 34
    },
    "colab_type": "code",
    "id": "-HioK6RexCj-",
    "outputId": "394b2a00-ec8d-487f-cc63-d27538ae043a"
   },
   "outputs": [
    {
     "data": {
      "text/plain": [
       "array([0, 1, 0, ..., 0, 0, 0])"
      ]
     },
     "execution_count": 15,
     "metadata": {
      "tags": []
     },
     "output_type": "execute_result"
    }
   ],
   "source": [
    "logr_pred"
   ]
  },
  {
   "cell_type": "code",
   "execution_count": 16,
   "metadata": {
    "colab": {
     "base_uri": "https://localhost:8080/",
     "height": 255
    },
    "colab_type": "code",
    "id": "7cko_A-Lnjr5",
    "outputId": "8d1f786c-37c0-4cbe-d87f-3786edd29b85"
   },
   "outputs": [
    {
     "name": "stdout",
     "output_type": "stream",
     "text": [
      "Logistic Regression\n",
      "accuracy score : 0.7519215857505288\n",
      "precision score : 0.773859976267164\n",
      "recall score : 0.46479188726887677\n",
      "log loss : 0.4627793515862453\n",
      "               precision    recall  f1-score   support\n",
      "\n",
      "not duplicate       0.75      0.92      0.82     83725\n",
      "    duplicate       0.77      0.46      0.58     49108\n",
      "\n",
      "    micro avg       0.75      0.75      0.75    132833\n",
      "    macro avg       0.76      0.69      0.70    132833\n",
      " weighted avg       0.76      0.75      0.73    132833\n",
      "\n"
     ]
    }
   ],
   "source": [
    "logr_acc_score = accuracy_score(y_test_final, logr_pred)\n",
    "logr_prec_score = precision_score(y_test_final, logr_pred)\n",
    "logr_rec_score = recall_score(y_test_final, logr_pred)\n",
    "logr_log_loss = log_loss(y_test_final, logr_model.predict_proba(X_test_final))\n",
    "print('Logistic Regression')\n",
    "print('accuracy score : {}'.format(logr_acc_score))\n",
    "print('precision score : {}'.format(logr_prec_score))\n",
    "print('recall score : {}'.format(logr_rec_score))\n",
    "print('log loss : {}'.format(logr_log_loss))\n",
    "print(classification_report(y_test_final, logr_pred, target_names=target_names))"
   ]
  },
  {
   "cell_type": "code",
   "execution_count": 21,
   "metadata": {
    "colab": {
     "base_uri": "https://localhost:8080/",
     "height": 397
    },
    "colab_type": "code",
    "id": "e5sHSpuxnjr7",
    "outputId": "f710e191-2969-47d6-d65c-026870247eaf"
   },
   "outputs": [
    {
     "data": {
      "image/png": "[encoded data removed]",
      "text/plain": [
       "<Figure size 611.125x360 with 1 Axes>"
      ]
     },
     "metadata": {
      "tags": []
     },
     "output_type": "display_data"
    }
   ],
   "source": [
    "logr_fpr, logr_tpr, _ = roc_curve(y_test_final, logr_pred)\n",
    "logr_roc_auc = auc(logr_fpr, logr_tpr)\n",
    "\n",
    "plot_roc(logr_fpr, logr_tpr, logr_roc_auc)"
   ]
  },
  {
   "cell_type": "code",
   "execution_count": 0,
   "metadata": {
    "colab": {},
    "colab_type": "code",
    "collapsed": true,
    "id": "hwmGeRl2vtGr"
   },
   "outputs": [],
   "source": []
  },
  {
   "cell_type": "markdown",
   "metadata": {
    "colab_type": "text",
    "id": "qGRGcG9Onjr_"
   },
   "source": [
    "### Gradient Boosted Machine (XGBoost)"
   ]
  },
  {
   "cell_type": "code",
   "execution_count": 0,
   "metadata": {
    "colab": {},
    "colab_type": "code",
    "collapsed": true,
    "id": "yAUd0SNbnjsA"
   },
   "outputs": [],
   "source": [
    "params_xgb = {'n_estimators' : [1, 2, 4, 8, 16, 32, 64, 100, 200],\n",
    "               'gamma':np.linspace(.01, 1, 10, endpoint=True), \n",
    "               'learning_rate' : np.linspace(.01, 1, 10, endpoint=True),\n",
    "               'reg_lambda': np.linspace(0.01, 10, 20, endpoint=True),\n",
    "               'max_depth' : np.linspace(1, 32, 32, endpoint=True, dtype=int)\n",
    "                 }\n",
    "cv_xgb = RandomizedSearchCV(xgb.XGBClassifier(objective='binary:logistic', random_state=42), param_distributions=params_xgb, cv=5, n_jobs=3, random_state=42)\n",
    "cv_xgb.fit(X_train_final, y_train_final)\n",
    "dump(cv_xgb, serialization_objects_folder+'xgb_ramdomcv.joblib')\n",
    "\n"
   ]
  },
  {
   "cell_type": "code",
   "execution_count": 0,
   "metadata": {
    "colab": {},
    "colab_type": "code",
    "collapsed": true,
    "id": "__7xpfghnjsD"
   },
   "outputs": [],
   "source": [
    "cv_xgb = load(serialization_objects_folder+'xgb_ramdomcv.joblib')"
   ]
  },
  {
   "cell_type": "code",
   "execution_count": 0,
   "metadata": {
    "colab": {},
    "colab_type": "code",
    "collapsed": true,
    "id": "_B18sjWxnjsG"
   },
   "outputs": [],
   "source": [
    "cv_xgb.best_params_"
   ]
  },
  {
   "cell_type": "markdown",
   "metadata": {
    "colab_type": "text",
    "id": "CGSz4BPwnjsJ"
   },
   "source": [
    "#### Evaluate"
   ]
  },
  {
   "cell_type": "code",
   "execution_count": 0,
   "metadata": {
    "colab": {},
    "colab_type": "code",
    "collapsed": true,
    "id": "WP1oShDKnjsK"
   },
   "outputs": [],
   "source": [
    "clf_xgb_model = xgb.XGBClassifier(random_state=42,\n",
    "                                  objective='binary:logistic',\n",
    "                                  n_estimators=cv_xgb.best_params_['n_estimators'],\n",
    "                                  gamma=cv_xgb.best_params_['gamma'],\n",
    "                                  learning_rate=cv_xgb.best_params_['learning_rate'],\n",
    "                                  reg_lambda=cv_xgb.best_params_['reg_lambda'],\n",
    "                                  max_depth=cv_xgb.best_params_['max_depth'],\n",
    "                                  n_jobs=-1)\n",
    "\n",
    "t0 = time.time()\n",
    "clf_xgb_model.fit(X_train_final, y_train_final)\n",
    "t1 = time.time() - t0\n",
    "print(t1)"
   ]
  },
  {
   "cell_type": "code",
   "execution_count": 0,
   "metadata": {
    "colab": {},
    "colab_type": "code",
    "collapsed": true,
    "id": "W4BmMFXJnjsM"
   },
   "outputs": [],
   "source": [
    "score_xgb = accuracy_score(y_test_final, y_pred_xgb)\n",
    "rscore_xgb = recall_score(y_test_final, y_pred_xgb)\n",
    "pscore_xgb = precision_score(y_test_final, y_pred_xgb)\n",
    "print('Accuracy score for XGBoost ', score_xgb)\n",
    "print('Recall score for XGBoost ', rscore_xgb)\n",
    "print('Precision score for XGBoost ', pscore_xgb)\n",
    "print(classification_report(y_test_final, y_pred_xgb, target_names=target_names))"
   ]
  },
  {
   "cell_type": "code",
   "execution_count": 0,
   "metadata": {
    "colab": {},
    "colab_type": "code",
    "collapsed": true,
    "id": "KnmwHzOEnjsO"
   },
   "outputs": [],
   "source": [
    "xgb_fpr, xgb_tpr, _ = roc_curve(y_test_final, y_pred_xgb)\n",
    "xgb_roc_auc = auc(xgb_fpr, xgb_tpr)\n",
    "\n",
    "plot_roc(xgb_fpr, xgb_tpr, xgb_roc_auc)"
   ]
  },
  {
   "cell_type": "code",
   "execution_count": 0,
   "metadata": {
    "colab": {},
    "colab_type": "code",
    "collapsed": true,
    "id": "AezSrrb7njsQ"
   },
   "outputs": [],
   "source": []
  },
  {
   "cell_type": "markdown",
   "metadata": {
    "colab_type": "text",
    "id": "pP5knxELCtGh"
   },
   "source": [
    "### LightGBM"
   ]
  },
  {
   "cell_type": "code",
   "execution_count": 0,
   "metadata": {
    "colab": {},
    "colab_type": "code",
    "collapsed": true,
    "id": "qyDrU8qHH1N-"
   },
   "outputs": [],
   "source": [
    "!git clone --recursive https://github.com/Microsoft/LightGBM\n",
    "%cd /content/LightGBM\n",
    "!mkdir build\n",
    "!cmake -DUSE_GPU=1 #avoid ..\n",
    "!make -j$(nproc)\n",
    "%cd /content/LightGBM/python-package\n",
    "!sudo python setup.py install --precompile"
   ]
  },
  {
   "cell_type": "code",
   "execution_count": 0,
   "metadata": {
    "colab": {},
    "colab_type": "code",
    "collapsed": true,
    "id": "GfeeFCkAC0IT"
   },
   "outputs": [],
   "source": [
    "import lightgbm as lgb\n",
    "\n",
    "\n",
    "gkf = KFold(n_splits=5, shuffle=True, random_state=42).split(X=X_train_final, y=y_train_final)\n",
    "\n",
    "\n",
    "param_grid = {\n",
    "    'num_leaves': [31, 127],\n",
    "    'reg_alpha': [0.1, 0.5],\n",
    "    'min_data_in_leaf': [100, 200, 300],\n",
    "    'learning_rate': [0.1, 0.04]\n",
    "    }\n",
    "\n",
    "lgb_estimator = lgb.LGBMClassifier(silent=False, n_jobs=-1, verbose=10, boosting_type='gbdt',  objective='binary', num_boost_round=2000, learning_rate=0.01, metric='binary_logloss', device='gpu')\n",
    "\n",
    "gsearch = GridSearchCV(n_jobs=-1, verbose=10, estimator=lgb_estimator, param_grid=param_grid, cv=gkf)\n",
    "\n",
    "\n",
    "lgb_model = gsearch.fit(X=X_train_final, y=y_train_final)\n",
    "pickle.dump(lgb_model.best_params_, open(serialization_objects_folder+'lgb_model_best_params', 'wb'))\n"
   ]
  },
  {
   "cell_type": "code",
   "execution_count": 26,
   "metadata": {
    "colab": {
     "base_uri": "https://localhost:8080/",
     "height": 187
    },
    "colab_type": "code",
    "id": "5Db_vTRQhUp3",
    "outputId": "7fbc51f7-7a69-47cc-c9f9-a282bb22f0a5"
   },
   "outputs": [
    {
     "name": "stderr",
     "output_type": "stream",
     "text": [
      "/content/LightGBM/python-package/lightgbm/engine.py:120: UserWarning: Found `num_boost_round` in params. Will use it instead of argument\n",
      "  warnings.warn(\"Found `{}` in params. Will use it instead of argument\".format(alias))\n"
     ]
    },
    {
     "data": {
      "text/plain": [
       "LGBMClassifier(boosting_type='gbdt', class_weight=None, colsample_bytree=1.0,\n",
       "        device='gpu', importance_type='split', learning_rate=0.04,\n",
       "        max_depth=-1, metric='binary_logloss', min_child_samples=20,\n",
       "        min_child_weight=0.001, min_data_in_leaf=200, min_split_gain=0.0,\n",
       "        n_estimators=100, n_jobs=-1, num_boost_round=2000, num_leaves=31,\n",
       "        objective='binary', random_state=None, reg_alpha=0.1,\n",
       "        reg_lambda=0.0, silent=False, subsample=1.0,\n",
       "        subsample_for_bin=200000, subsample_freq=0, verbose=10)"
      ]
     },
     "execution_count": 26,
     "metadata": {
      "tags": []
     },
     "output_type": "execute_result"
    }
   ],
   "source": [
    "best_params_ = pickle.load(open(serialization_objects_folder+'lgb_model_best_params', 'rb'))\n",
    "final_lgb_estimator = lgb.LGBMClassifier(\n",
    "    silent=False, \n",
    "    n_jobs=-1, \n",
    "    verbose=10, \n",
    "    boosting_type='gbdt', \n",
    "    objective='binary', \n",
    "    num_boost_round=2000, \n",
    "    metric='binary_logloss', \n",
    "    device='gpu',\n",
    "    learning_rate=best_params_['learning_rate'],\n",
    "    min_data_in_leaf=best_params_['min_data_in_leaf'],\n",
    "    num_leaves=best_params_['num_leaves'],\n",
    "    reg_alpha=best_params_['reg_alpha'],\n",
    "    \n",
    ")\n",
    "\n",
    "final_lgb_estimator.fit(X_train_final, y_train_final)\n"
   ]
  },
  {
   "cell_type": "code",
   "execution_count": 31,
   "metadata": {
    "colab": {
     "base_uri": "https://localhost:8080/",
     "height": 85
    },
    "colab_type": "code",
    "id": "Ekk2aYvTNNQD",
    "outputId": "bcff80f6-0e03-4430-cf3d-c5b6be1bc653"
   },
   "outputs": [
    {
     "data": {
      "text/plain": [
       "{'learning_rate': 0.04,\n",
       " 'min_data_in_leaf': 200,\n",
       " 'num_leaves': 31,\n",
       " 'reg_alpha': 0.1}"
      ]
     },
     "execution_count": 31,
     "metadata": {
      "tags": []
     },
     "output_type": "execute_result"
    }
   ],
   "source": [
    "best_params_"
   ]
  },
  {
   "cell_type": "code",
   "execution_count": 0,
   "metadata": {
    "colab": {},
    "colab_type": "code",
    "collapsed": true,
    "id": "gbtxedFDIlDB"
   },
   "outputs": [],
   "source": [
    "logr_pred_gbm = final_lgb_estimator.predict(X_test_final)"
   ]
  },
  {
   "cell_type": "code",
   "execution_count": 28,
   "metadata": {
    "colab": {
     "base_uri": "https://localhost:8080/",
     "height": 255
    },
    "colab_type": "code",
    "id": "9dxM23FYIr5K",
    "outputId": "ab2019c1-ed68-4669-8289-b25067ef9fe1"
   },
   "outputs": [
    {
     "name": "stdout",
     "output_type": "stream",
     "text": [
      "Logistic Regression\n",
      "accuracy score : 0.7932817899166623\n",
      "precision score : 0.8121881579326854\n",
      "recall score : 0.5734503543210883\n",
      "log loss : 0.37493700898781807\n",
      "               precision    recall  f1-score   support\n",
      "\n",
      "not duplicate       0.75      0.92      0.82     83725\n",
      "    duplicate       0.77      0.46      0.58     49108\n",
      "\n",
      "    micro avg       0.75      0.75      0.75    132833\n",
      "    macro avg       0.76      0.69      0.70    132833\n",
      " weighted avg       0.76      0.75      0.73    132833\n",
      "\n"
     ]
    }
   ],
   "source": [
    "logr_acc_score = accuracy_score(y_test_final, logr_pred_gbm)\n",
    "logr_prec_score = precision_score(y_test_final, logr_pred_gbm)\n",
    "logr_rec_score = recall_score(y_test_final, logr_pred_gbm)\n",
    "logr_log_loss = log_loss(y_test_final, final_lgb_estimator.predict_proba(X_test_final))\n",
    "print('Logistic Regression')\n",
    "print('accuracy score : {}'.format(logr_acc_score))\n",
    "print('precision score : {}'.format(logr_prec_score))\n",
    "print('recall score : {}'.format(logr_rec_score))\n",
    "print('log loss : {}'.format(logr_log_loss))\n",
    "print(classification_report(y_test_final, logr_pred, target_names=target_names))"
   ]
  },
  {
   "cell_type": "code",
   "execution_count": 30,
   "metadata": {
    "colab": {
     "base_uri": "https://localhost:8080/",
     "height": 397
    },
    "colab_type": "code",
    "id": "pcxbELjXywrz",
    "outputId": "a1e4a01a-3f75-4557-da39-72290b0404e7"
   },
   "outputs": [
    {
     "data": {
      "image/png": "[encoded data removed]",
      "text/plain": [
       "<Figure size 611.125x360 with 1 Axes>"
      ]
     },
     "metadata": {
      "tags": []
     },
     "output_type": "display_data"
    }
   ],
   "source": [
    "lgb_mlogr_fpr, logr_tpr, _ = roc_curve(y_test_final, logr_pred_gbm)\n",
    "logr_roc_auc = auc(logr_fpr, logr_tpr)\n",
    "\n",
    "plot_roc(logr_fpr, logr_tpr, logr_roc_auc)"
   ]
  }
 ],
 "metadata": {
  "accelerator": "GPU",
  "colab": {
   "name": "model_LR_GBM.ipynb",
   "provenance": [],
   "toc_visible": true,
   "version": "0.3.2"
  },
  "kernelspec": {
   "display_name": "Python 3",
   "language": "python",
   "name": "python3"
  },
  "language_info": {
   "codemirror_mode": {
    "name": "ipython",
    "version": 3
   },
   "file_extension": ".py",
   "mimetype": "text/x-python",
   "name": "python",
   "nbconvert_exporter": "python",
   "pygments_lexer": "ipython3",
   "version": "3.6.7"
  }
 },
 "nbformat": 4,
 "nbformat_minor": 1
}
